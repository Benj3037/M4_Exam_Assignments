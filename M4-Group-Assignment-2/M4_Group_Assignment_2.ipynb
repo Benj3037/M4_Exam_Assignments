{
  "nbformat": 4,
  "nbformat_minor": 0,
  "metadata": {
    "colab": {
      "provenance": []
    },
    "kernelspec": {
      "name": "python3",
      "display_name": "Python 3"
    },
    "language_info": {
      "name": "python"
    },
    "widgets": {
      "application/vnd.jupyter.widget-state+json": {
        "12a7e75eb46d403fa7be1a2052296e31": {
          "model_module": "@jupyter-widgets/controls",
          "model_name": "HBoxModel",
          "model_module_version": "1.5.0",
          "state": {
            "_dom_classes": [],
            "_model_module": "@jupyter-widgets/controls",
            "_model_module_version": "1.5.0",
            "_model_name": "HBoxModel",
            "_view_count": null,
            "_view_module": "@jupyter-widgets/controls",
            "_view_module_version": "1.5.0",
            "_view_name": "HBoxView",
            "box_style": "",
            "children": [
              "IPY_MODEL_aa6bd48b54f8401698f21b712c3836f4",
              "IPY_MODEL_ecba2800281b4dfe8c33192204488b55",
              "IPY_MODEL_5391a05b261942a6a754e0fed7c3589c"
            ],
            "layout": "IPY_MODEL_519d36596b874a0ba5947514f855a028"
          }
        },
        "aa6bd48b54f8401698f21b712c3836f4": {
          "model_module": "@jupyter-widgets/controls",
          "model_name": "HTMLModel",
          "model_module_version": "1.5.0",
          "state": {
            "_dom_classes": [],
            "_model_module": "@jupyter-widgets/controls",
            "_model_module_version": "1.5.0",
            "_model_name": "HTMLModel",
            "_view_count": null,
            "_view_module": "@jupyter-widgets/controls",
            "_view_module_version": "1.5.0",
            "_view_name": "HTMLView",
            "description": "",
            "description_tooltip": null,
            "layout": "IPY_MODEL_e480c7cfab7b4213940a1f61fbfa6bf9",
            "placeholder": "​",
            "style": "IPY_MODEL_69e7cb6d1d0e4dda87d73ac2d256d74c",
            "value": "modules.json: 100%"
          }
        },
        "ecba2800281b4dfe8c33192204488b55": {
          "model_module": "@jupyter-widgets/controls",
          "model_name": "FloatProgressModel",
          "model_module_version": "1.5.0",
          "state": {
            "_dom_classes": [],
            "_model_module": "@jupyter-widgets/controls",
            "_model_module_version": "1.5.0",
            "_model_name": "FloatProgressModel",
            "_view_count": null,
            "_view_module": "@jupyter-widgets/controls",
            "_view_module_version": "1.5.0",
            "_view_name": "ProgressView",
            "bar_style": "success",
            "description": "",
            "description_tooltip": null,
            "layout": "IPY_MODEL_1b676cad1cad4f199e16812f7982dd74",
            "max": 122,
            "min": 0,
            "orientation": "horizontal",
            "style": "IPY_MODEL_6ec40888aa9f4ceda57c33ab13f7ec2c",
            "value": 122
          }
        },
        "5391a05b261942a6a754e0fed7c3589c": {
          "model_module": "@jupyter-widgets/controls",
          "model_name": "HTMLModel",
          "model_module_version": "1.5.0",
          "state": {
            "_dom_classes": [],
            "_model_module": "@jupyter-widgets/controls",
            "_model_module_version": "1.5.0",
            "_model_name": "HTMLModel",
            "_view_count": null,
            "_view_module": "@jupyter-widgets/controls",
            "_view_module_version": "1.5.0",
            "_view_name": "HTMLView",
            "description": "",
            "description_tooltip": null,
            "layout": "IPY_MODEL_13b9d651092b4ac8bbbcd6ce2e65ef21",
            "placeholder": "​",
            "style": "IPY_MODEL_94be40c4b538494c8faac6f5405208fd",
            "value": " 122/122 [00:00&lt;00:00, 2.67kB/s]"
          }
        },
        "519d36596b874a0ba5947514f855a028": {
          "model_module": "@jupyter-widgets/base",
          "model_name": "LayoutModel",
          "model_module_version": "1.2.0",
          "state": {
            "_model_module": "@jupyter-widgets/base",
            "_model_module_version": "1.2.0",
            "_model_name": "LayoutModel",
            "_view_count": null,
            "_view_module": "@jupyter-widgets/base",
            "_view_module_version": "1.2.0",
            "_view_name": "LayoutView",
            "align_content": null,
            "align_items": null,
            "align_self": null,
            "border": null,
            "bottom": null,
            "display": null,
            "flex": null,
            "flex_flow": null,
            "grid_area": null,
            "grid_auto_columns": null,
            "grid_auto_flow": null,
            "grid_auto_rows": null,
            "grid_column": null,
            "grid_gap": null,
            "grid_row": null,
            "grid_template_areas": null,
            "grid_template_columns": null,
            "grid_template_rows": null,
            "height": null,
            "justify_content": null,
            "justify_items": null,
            "left": null,
            "margin": null,
            "max_height": null,
            "max_width": null,
            "min_height": null,
            "min_width": null,
            "object_fit": null,
            "object_position": null,
            "order": null,
            "overflow": null,
            "overflow_x": null,
            "overflow_y": null,
            "padding": null,
            "right": null,
            "top": null,
            "visibility": null,
            "width": null
          }
        },
        "e480c7cfab7b4213940a1f61fbfa6bf9": {
          "model_module": "@jupyter-widgets/base",
          "model_name": "LayoutModel",
          "model_module_version": "1.2.0",
          "state": {
            "_model_module": "@jupyter-widgets/base",
            "_model_module_version": "1.2.0",
            "_model_name": "LayoutModel",
            "_view_count": null,
            "_view_module": "@jupyter-widgets/base",
            "_view_module_version": "1.2.0",
            "_view_name": "LayoutView",
            "align_content": null,
            "align_items": null,
            "align_self": null,
            "border": null,
            "bottom": null,
            "display": null,
            "flex": null,
            "flex_flow": null,
            "grid_area": null,
            "grid_auto_columns": null,
            "grid_auto_flow": null,
            "grid_auto_rows": null,
            "grid_column": null,
            "grid_gap": null,
            "grid_row": null,
            "grid_template_areas": null,
            "grid_template_columns": null,
            "grid_template_rows": null,
            "height": null,
            "justify_content": null,
            "justify_items": null,
            "left": null,
            "margin": null,
            "max_height": null,
            "max_width": null,
            "min_height": null,
            "min_width": null,
            "object_fit": null,
            "object_position": null,
            "order": null,
            "overflow": null,
            "overflow_x": null,
            "overflow_y": null,
            "padding": null,
            "right": null,
            "top": null,
            "visibility": null,
            "width": null
          }
        },
        "69e7cb6d1d0e4dda87d73ac2d256d74c": {
          "model_module": "@jupyter-widgets/controls",
          "model_name": "DescriptionStyleModel",
          "model_module_version": "1.5.0",
          "state": {
            "_model_module": "@jupyter-widgets/controls",
            "_model_module_version": "1.5.0",
            "_model_name": "DescriptionStyleModel",
            "_view_count": null,
            "_view_module": "@jupyter-widgets/base",
            "_view_module_version": "1.2.0",
            "_view_name": "StyleView",
            "description_width": ""
          }
        },
        "1b676cad1cad4f199e16812f7982dd74": {
          "model_module": "@jupyter-widgets/base",
          "model_name": "LayoutModel",
          "model_module_version": "1.2.0",
          "state": {
            "_model_module": "@jupyter-widgets/base",
            "_model_module_version": "1.2.0",
            "_model_name": "LayoutModel",
            "_view_count": null,
            "_view_module": "@jupyter-widgets/base",
            "_view_module_version": "1.2.0",
            "_view_name": "LayoutView",
            "align_content": null,
            "align_items": null,
            "align_self": null,
            "border": null,
            "bottom": null,
            "display": null,
            "flex": null,
            "flex_flow": null,
            "grid_area": null,
            "grid_auto_columns": null,
            "grid_auto_flow": null,
            "grid_auto_rows": null,
            "grid_column": null,
            "grid_gap": null,
            "grid_row": null,
            "grid_template_areas": null,
            "grid_template_columns": null,
            "grid_template_rows": null,
            "height": null,
            "justify_content": null,
            "justify_items": null,
            "left": null,
            "margin": null,
            "max_height": null,
            "max_width": null,
            "min_height": null,
            "min_width": null,
            "object_fit": null,
            "object_position": null,
            "order": null,
            "overflow": null,
            "overflow_x": null,
            "overflow_y": null,
            "padding": null,
            "right": null,
            "top": null,
            "visibility": null,
            "width": null
          }
        },
        "6ec40888aa9f4ceda57c33ab13f7ec2c": {
          "model_module": "@jupyter-widgets/controls",
          "model_name": "ProgressStyleModel",
          "model_module_version": "1.5.0",
          "state": {
            "_model_module": "@jupyter-widgets/controls",
            "_model_module_version": "1.5.0",
            "_model_name": "ProgressStyleModel",
            "_view_count": null,
            "_view_module": "@jupyter-widgets/base",
            "_view_module_version": "1.2.0",
            "_view_name": "StyleView",
            "bar_color": null,
            "description_width": ""
          }
        },
        "13b9d651092b4ac8bbbcd6ce2e65ef21": {
          "model_module": "@jupyter-widgets/base",
          "model_name": "LayoutModel",
          "model_module_version": "1.2.0",
          "state": {
            "_model_module": "@jupyter-widgets/base",
            "_model_module_version": "1.2.0",
            "_model_name": "LayoutModel",
            "_view_count": null,
            "_view_module": "@jupyter-widgets/base",
            "_view_module_version": "1.2.0",
            "_view_name": "LayoutView",
            "align_content": null,
            "align_items": null,
            "align_self": null,
            "border": null,
            "bottom": null,
            "display": null,
            "flex": null,
            "flex_flow": null,
            "grid_area": null,
            "grid_auto_columns": null,
            "grid_auto_flow": null,
            "grid_auto_rows": null,
            "grid_column": null,
            "grid_gap": null,
            "grid_row": null,
            "grid_template_areas": null,
            "grid_template_columns": null,
            "grid_template_rows": null,
            "height": null,
            "justify_content": null,
            "justify_items": null,
            "left": null,
            "margin": null,
            "max_height": null,
            "max_width": null,
            "min_height": null,
            "min_width": null,
            "object_fit": null,
            "object_position": null,
            "order": null,
            "overflow": null,
            "overflow_x": null,
            "overflow_y": null,
            "padding": null,
            "right": null,
            "top": null,
            "visibility": null,
            "width": null
          }
        },
        "94be40c4b538494c8faac6f5405208fd": {
          "model_module": "@jupyter-widgets/controls",
          "model_name": "DescriptionStyleModel",
          "model_module_version": "1.5.0",
          "state": {
            "_model_module": "@jupyter-widgets/controls",
            "_model_module_version": "1.5.0",
            "_model_name": "DescriptionStyleModel",
            "_view_count": null,
            "_view_module": "@jupyter-widgets/base",
            "_view_module_version": "1.2.0",
            "_view_name": "StyleView",
            "description_width": ""
          }
        },
        "5e6c05d661fa4339983e5d153a0191bc": {
          "model_module": "@jupyter-widgets/controls",
          "model_name": "HBoxModel",
          "model_module_version": "1.5.0",
          "state": {
            "_dom_classes": [],
            "_model_module": "@jupyter-widgets/controls",
            "_model_module_version": "1.5.0",
            "_model_name": "HBoxModel",
            "_view_count": null,
            "_view_module": "@jupyter-widgets/controls",
            "_view_module_version": "1.5.0",
            "_view_name": "HBoxView",
            "box_style": "",
            "children": [
              "IPY_MODEL_1bbd82d3a8514321ae2a07594bce4126",
              "IPY_MODEL_573883b85c684be7a7e2515a2440937c",
              "IPY_MODEL_a406ca7166f94b888ba67d48da2e23c6"
            ],
            "layout": "IPY_MODEL_0e5c0e524c874e9d8564d50c13c9fa7b"
          }
        },
        "1bbd82d3a8514321ae2a07594bce4126": {
          "model_module": "@jupyter-widgets/controls",
          "model_name": "HTMLModel",
          "model_module_version": "1.5.0",
          "state": {
            "_dom_classes": [],
            "_model_module": "@jupyter-widgets/controls",
            "_model_module_version": "1.5.0",
            "_model_name": "HTMLModel",
            "_view_count": null,
            "_view_module": "@jupyter-widgets/controls",
            "_view_module_version": "1.5.0",
            "_view_name": "HTMLView",
            "description": "",
            "description_tooltip": null,
            "layout": "IPY_MODEL_a0bab4c21e694e11a48b445858281b4f",
            "placeholder": "​",
            "style": "IPY_MODEL_e4cb56ac5fe841b294e68c923b8452d3",
            "value": "config_sentence_transformers.json: 100%"
          }
        },
        "573883b85c684be7a7e2515a2440937c": {
          "model_module": "@jupyter-widgets/controls",
          "model_name": "FloatProgressModel",
          "model_module_version": "1.5.0",
          "state": {
            "_dom_classes": [],
            "_model_module": "@jupyter-widgets/controls",
            "_model_module_version": "1.5.0",
            "_model_name": "FloatProgressModel",
            "_view_count": null,
            "_view_module": "@jupyter-widgets/controls",
            "_view_module_version": "1.5.0",
            "_view_name": "ProgressView",
            "bar_style": "success",
            "description": "",
            "description_tooltip": null,
            "layout": "IPY_MODEL_a8de3a03749c401eb5cf3157095a25b6",
            "max": 116,
            "min": 0,
            "orientation": "horizontal",
            "style": "IPY_MODEL_2e13e93e852149899e9403d46bf86713",
            "value": 116
          }
        },
        "a406ca7166f94b888ba67d48da2e23c6": {
          "model_module": "@jupyter-widgets/controls",
          "model_name": "HTMLModel",
          "model_module_version": "1.5.0",
          "state": {
            "_dom_classes": [],
            "_model_module": "@jupyter-widgets/controls",
            "_model_module_version": "1.5.0",
            "_model_name": "HTMLModel",
            "_view_count": null,
            "_view_module": "@jupyter-widgets/controls",
            "_view_module_version": "1.5.0",
            "_view_name": "HTMLView",
            "description": "",
            "description_tooltip": null,
            "layout": "IPY_MODEL_dd7e282eb2b741c7a58d064b3514d0fb",
            "placeholder": "​",
            "style": "IPY_MODEL_086992c9f21049bfae3348d69b0817a1",
            "value": " 116/116 [00:00&lt;00:00, 3.43kB/s]"
          }
        },
        "0e5c0e524c874e9d8564d50c13c9fa7b": {
          "model_module": "@jupyter-widgets/base",
          "model_name": "LayoutModel",
          "model_module_version": "1.2.0",
          "state": {
            "_model_module": "@jupyter-widgets/base",
            "_model_module_version": "1.2.0",
            "_model_name": "LayoutModel",
            "_view_count": null,
            "_view_module": "@jupyter-widgets/base",
            "_view_module_version": "1.2.0",
            "_view_name": "LayoutView",
            "align_content": null,
            "align_items": null,
            "align_self": null,
            "border": null,
            "bottom": null,
            "display": null,
            "flex": null,
            "flex_flow": null,
            "grid_area": null,
            "grid_auto_columns": null,
            "grid_auto_flow": null,
            "grid_auto_rows": null,
            "grid_column": null,
            "grid_gap": null,
            "grid_row": null,
            "grid_template_areas": null,
            "grid_template_columns": null,
            "grid_template_rows": null,
            "height": null,
            "justify_content": null,
            "justify_items": null,
            "left": null,
            "margin": null,
            "max_height": null,
            "max_width": null,
            "min_height": null,
            "min_width": null,
            "object_fit": null,
            "object_position": null,
            "order": null,
            "overflow": null,
            "overflow_x": null,
            "overflow_y": null,
            "padding": null,
            "right": null,
            "top": null,
            "visibility": null,
            "width": null
          }
        },
        "a0bab4c21e694e11a48b445858281b4f": {
          "model_module": "@jupyter-widgets/base",
          "model_name": "LayoutModel",
          "model_module_version": "1.2.0",
          "state": {
            "_model_module": "@jupyter-widgets/base",
            "_model_module_version": "1.2.0",
            "_model_name": "LayoutModel",
            "_view_count": null,
            "_view_module": "@jupyter-widgets/base",
            "_view_module_version": "1.2.0",
            "_view_name": "LayoutView",
            "align_content": null,
            "align_items": null,
            "align_self": null,
            "border": null,
            "bottom": null,
            "display": null,
            "flex": null,
            "flex_flow": null,
            "grid_area": null,
            "grid_auto_columns": null,
            "grid_auto_flow": null,
            "grid_auto_rows": null,
            "grid_column": null,
            "grid_gap": null,
            "grid_row": null,
            "grid_template_areas": null,
            "grid_template_columns": null,
            "grid_template_rows": null,
            "height": null,
            "justify_content": null,
            "justify_items": null,
            "left": null,
            "margin": null,
            "max_height": null,
            "max_width": null,
            "min_height": null,
            "min_width": null,
            "object_fit": null,
            "object_position": null,
            "order": null,
            "overflow": null,
            "overflow_x": null,
            "overflow_y": null,
            "padding": null,
            "right": null,
            "top": null,
            "visibility": null,
            "width": null
          }
        },
        "e4cb56ac5fe841b294e68c923b8452d3": {
          "model_module": "@jupyter-widgets/controls",
          "model_name": "DescriptionStyleModel",
          "model_module_version": "1.5.0",
          "state": {
            "_model_module": "@jupyter-widgets/controls",
            "_model_module_version": "1.5.0",
            "_model_name": "DescriptionStyleModel",
            "_view_count": null,
            "_view_module": "@jupyter-widgets/base",
            "_view_module_version": "1.2.0",
            "_view_name": "StyleView",
            "description_width": ""
          }
        },
        "a8de3a03749c401eb5cf3157095a25b6": {
          "model_module": "@jupyter-widgets/base",
          "model_name": "LayoutModel",
          "model_module_version": "1.2.0",
          "state": {
            "_model_module": "@jupyter-widgets/base",
            "_model_module_version": "1.2.0",
            "_model_name": "LayoutModel",
            "_view_count": null,
            "_view_module": "@jupyter-widgets/base",
            "_view_module_version": "1.2.0",
            "_view_name": "LayoutView",
            "align_content": null,
            "align_items": null,
            "align_self": null,
            "border": null,
            "bottom": null,
            "display": null,
            "flex": null,
            "flex_flow": null,
            "grid_area": null,
            "grid_auto_columns": null,
            "grid_auto_flow": null,
            "grid_auto_rows": null,
            "grid_column": null,
            "grid_gap": null,
            "grid_row": null,
            "grid_template_areas": null,
            "grid_template_columns": null,
            "grid_template_rows": null,
            "height": null,
            "justify_content": null,
            "justify_items": null,
            "left": null,
            "margin": null,
            "max_height": null,
            "max_width": null,
            "min_height": null,
            "min_width": null,
            "object_fit": null,
            "object_position": null,
            "order": null,
            "overflow": null,
            "overflow_x": null,
            "overflow_y": null,
            "padding": null,
            "right": null,
            "top": null,
            "visibility": null,
            "width": null
          }
        },
        "2e13e93e852149899e9403d46bf86713": {
          "model_module": "@jupyter-widgets/controls",
          "model_name": "ProgressStyleModel",
          "model_module_version": "1.5.0",
          "state": {
            "_model_module": "@jupyter-widgets/controls",
            "_model_module_version": "1.5.0",
            "_model_name": "ProgressStyleModel",
            "_view_count": null,
            "_view_module": "@jupyter-widgets/base",
            "_view_module_version": "1.2.0",
            "_view_name": "StyleView",
            "bar_color": null,
            "description_width": ""
          }
        },
        "dd7e282eb2b741c7a58d064b3514d0fb": {
          "model_module": "@jupyter-widgets/base",
          "model_name": "LayoutModel",
          "model_module_version": "1.2.0",
          "state": {
            "_model_module": "@jupyter-widgets/base",
            "_model_module_version": "1.2.0",
            "_model_name": "LayoutModel",
            "_view_count": null,
            "_view_module": "@jupyter-widgets/base",
            "_view_module_version": "1.2.0",
            "_view_name": "LayoutView",
            "align_content": null,
            "align_items": null,
            "align_self": null,
            "border": null,
            "bottom": null,
            "display": null,
            "flex": null,
            "flex_flow": null,
            "grid_area": null,
            "grid_auto_columns": null,
            "grid_auto_flow": null,
            "grid_auto_rows": null,
            "grid_column": null,
            "grid_gap": null,
            "grid_row": null,
            "grid_template_areas": null,
            "grid_template_columns": null,
            "grid_template_rows": null,
            "height": null,
            "justify_content": null,
            "justify_items": null,
            "left": null,
            "margin": null,
            "max_height": null,
            "max_width": null,
            "min_height": null,
            "min_width": null,
            "object_fit": null,
            "object_position": null,
            "order": null,
            "overflow": null,
            "overflow_x": null,
            "overflow_y": null,
            "padding": null,
            "right": null,
            "top": null,
            "visibility": null,
            "width": null
          }
        },
        "086992c9f21049bfae3348d69b0817a1": {
          "model_module": "@jupyter-widgets/controls",
          "model_name": "DescriptionStyleModel",
          "model_module_version": "1.5.0",
          "state": {
            "_model_module": "@jupyter-widgets/controls",
            "_model_module_version": "1.5.0",
            "_model_name": "DescriptionStyleModel",
            "_view_count": null,
            "_view_module": "@jupyter-widgets/base",
            "_view_module_version": "1.2.0",
            "_view_name": "StyleView",
            "description_width": ""
          }
        },
        "2a6cb313745a4b2f88f6188f10b72b37": {
          "model_module": "@jupyter-widgets/controls",
          "model_name": "HBoxModel",
          "model_module_version": "1.5.0",
          "state": {
            "_dom_classes": [],
            "_model_module": "@jupyter-widgets/controls",
            "_model_module_version": "1.5.0",
            "_model_name": "HBoxModel",
            "_view_count": null,
            "_view_module": "@jupyter-widgets/controls",
            "_view_module_version": "1.5.0",
            "_view_name": "HBoxView",
            "box_style": "",
            "children": [
              "IPY_MODEL_fcc053e99a1e4555997c16faeb0237c5",
              "IPY_MODEL_26102128b8de40c38176ffafd77ef064",
              "IPY_MODEL_cd62132809cb41f1a345bd27046685e4"
            ],
            "layout": "IPY_MODEL_c29f5c3cc07d46beab9161b5b7cd2822"
          }
        },
        "fcc053e99a1e4555997c16faeb0237c5": {
          "model_module": "@jupyter-widgets/controls",
          "model_name": "HTMLModel",
          "model_module_version": "1.5.0",
          "state": {
            "_dom_classes": [],
            "_model_module": "@jupyter-widgets/controls",
            "_model_module_version": "1.5.0",
            "_model_name": "HTMLModel",
            "_view_count": null,
            "_view_module": "@jupyter-widgets/controls",
            "_view_module_version": "1.5.0",
            "_view_name": "HTMLView",
            "description": "",
            "description_tooltip": null,
            "layout": "IPY_MODEL_04ad476f116f418793a1a08c21510976",
            "placeholder": "​",
            "style": "IPY_MODEL_8cdbf45f1cd3403a840db995b051732d",
            "value": "README.md: 100%"
          }
        },
        "26102128b8de40c38176ffafd77ef064": {
          "model_module": "@jupyter-widgets/controls",
          "model_name": "FloatProgressModel",
          "model_module_version": "1.5.0",
          "state": {
            "_dom_classes": [],
            "_model_module": "@jupyter-widgets/controls",
            "_model_module_version": "1.5.0",
            "_model_name": "FloatProgressModel",
            "_view_count": null,
            "_view_module": "@jupyter-widgets/controls",
            "_view_module_version": "1.5.0",
            "_view_name": "ProgressView",
            "bar_style": "success",
            "description": "",
            "description_tooltip": null,
            "layout": "IPY_MODEL_13ad49bc486245bb9546426e7531bb6b",
            "max": 1911,
            "min": 0,
            "orientation": "horizontal",
            "style": "IPY_MODEL_bbc63bf2d6e247a5817a86f05c29b72a",
            "value": 1911
          }
        },
        "cd62132809cb41f1a345bd27046685e4": {
          "model_module": "@jupyter-widgets/controls",
          "model_name": "HTMLModel",
          "model_module_version": "1.5.0",
          "state": {
            "_dom_classes": [],
            "_model_module": "@jupyter-widgets/controls",
            "_model_module_version": "1.5.0",
            "_model_name": "HTMLModel",
            "_view_count": null,
            "_view_module": "@jupyter-widgets/controls",
            "_view_module_version": "1.5.0",
            "_view_name": "HTMLView",
            "description": "",
            "description_tooltip": null,
            "layout": "IPY_MODEL_1a7b3035c1914f12b6c18c0521644218",
            "placeholder": "​",
            "style": "IPY_MODEL_e44aed8f55d146b3859f75889006dd87",
            "value": " 1.91k/1.91k [00:00&lt;00:00, 35.2kB/s]"
          }
        },
        "c29f5c3cc07d46beab9161b5b7cd2822": {
          "model_module": "@jupyter-widgets/base",
          "model_name": "LayoutModel",
          "model_module_version": "1.2.0",
          "state": {
            "_model_module": "@jupyter-widgets/base",
            "_model_module_version": "1.2.0",
            "_model_name": "LayoutModel",
            "_view_count": null,
            "_view_module": "@jupyter-widgets/base",
            "_view_module_version": "1.2.0",
            "_view_name": "LayoutView",
            "align_content": null,
            "align_items": null,
            "align_self": null,
            "border": null,
            "bottom": null,
            "display": null,
            "flex": null,
            "flex_flow": null,
            "grid_area": null,
            "grid_auto_columns": null,
            "grid_auto_flow": null,
            "grid_auto_rows": null,
            "grid_column": null,
            "grid_gap": null,
            "grid_row": null,
            "grid_template_areas": null,
            "grid_template_columns": null,
            "grid_template_rows": null,
            "height": null,
            "justify_content": null,
            "justify_items": null,
            "left": null,
            "margin": null,
            "max_height": null,
            "max_width": null,
            "min_height": null,
            "min_width": null,
            "object_fit": null,
            "object_position": null,
            "order": null,
            "overflow": null,
            "overflow_x": null,
            "overflow_y": null,
            "padding": null,
            "right": null,
            "top": null,
            "visibility": null,
            "width": null
          }
        },
        "04ad476f116f418793a1a08c21510976": {
          "model_module": "@jupyter-widgets/base",
          "model_name": "LayoutModel",
          "model_module_version": "1.2.0",
          "state": {
            "_model_module": "@jupyter-widgets/base",
            "_model_module_version": "1.2.0",
            "_model_name": "LayoutModel",
            "_view_count": null,
            "_view_module": "@jupyter-widgets/base",
            "_view_module_version": "1.2.0",
            "_view_name": "LayoutView",
            "align_content": null,
            "align_items": null,
            "align_self": null,
            "border": null,
            "bottom": null,
            "display": null,
            "flex": null,
            "flex_flow": null,
            "grid_area": null,
            "grid_auto_columns": null,
            "grid_auto_flow": null,
            "grid_auto_rows": null,
            "grid_column": null,
            "grid_gap": null,
            "grid_row": null,
            "grid_template_areas": null,
            "grid_template_columns": null,
            "grid_template_rows": null,
            "height": null,
            "justify_content": null,
            "justify_items": null,
            "left": null,
            "margin": null,
            "max_height": null,
            "max_width": null,
            "min_height": null,
            "min_width": null,
            "object_fit": null,
            "object_position": null,
            "order": null,
            "overflow": null,
            "overflow_x": null,
            "overflow_y": null,
            "padding": null,
            "right": null,
            "top": null,
            "visibility": null,
            "width": null
          }
        },
        "8cdbf45f1cd3403a840db995b051732d": {
          "model_module": "@jupyter-widgets/controls",
          "model_name": "DescriptionStyleModel",
          "model_module_version": "1.5.0",
          "state": {
            "_model_module": "@jupyter-widgets/controls",
            "_model_module_version": "1.5.0",
            "_model_name": "DescriptionStyleModel",
            "_view_count": null,
            "_view_module": "@jupyter-widgets/base",
            "_view_module_version": "1.2.0",
            "_view_name": "StyleView",
            "description_width": ""
          }
        },
        "13ad49bc486245bb9546426e7531bb6b": {
          "model_module": "@jupyter-widgets/base",
          "model_name": "LayoutModel",
          "model_module_version": "1.2.0",
          "state": {
            "_model_module": "@jupyter-widgets/base",
            "_model_module_version": "1.2.0",
            "_model_name": "LayoutModel",
            "_view_count": null,
            "_view_module": "@jupyter-widgets/base",
            "_view_module_version": "1.2.0",
            "_view_name": "LayoutView",
            "align_content": null,
            "align_items": null,
            "align_self": null,
            "border": null,
            "bottom": null,
            "display": null,
            "flex": null,
            "flex_flow": null,
            "grid_area": null,
            "grid_auto_columns": null,
            "grid_auto_flow": null,
            "grid_auto_rows": null,
            "grid_column": null,
            "grid_gap": null,
            "grid_row": null,
            "grid_template_areas": null,
            "grid_template_columns": null,
            "grid_template_rows": null,
            "height": null,
            "justify_content": null,
            "justify_items": null,
            "left": null,
            "margin": null,
            "max_height": null,
            "max_width": null,
            "min_height": null,
            "min_width": null,
            "object_fit": null,
            "object_position": null,
            "order": null,
            "overflow": null,
            "overflow_x": null,
            "overflow_y": null,
            "padding": null,
            "right": null,
            "top": null,
            "visibility": null,
            "width": null
          }
        },
        "bbc63bf2d6e247a5817a86f05c29b72a": {
          "model_module": "@jupyter-widgets/controls",
          "model_name": "ProgressStyleModel",
          "model_module_version": "1.5.0",
          "state": {
            "_model_module": "@jupyter-widgets/controls",
            "_model_module_version": "1.5.0",
            "_model_name": "ProgressStyleModel",
            "_view_count": null,
            "_view_module": "@jupyter-widgets/base",
            "_view_module_version": "1.2.0",
            "_view_name": "StyleView",
            "bar_color": null,
            "description_width": ""
          }
        },
        "1a7b3035c1914f12b6c18c0521644218": {
          "model_module": "@jupyter-widgets/base",
          "model_name": "LayoutModel",
          "model_module_version": "1.2.0",
          "state": {
            "_model_module": "@jupyter-widgets/base",
            "_model_module_version": "1.2.0",
            "_model_name": "LayoutModel",
            "_view_count": null,
            "_view_module": "@jupyter-widgets/base",
            "_view_module_version": "1.2.0",
            "_view_name": "LayoutView",
            "align_content": null,
            "align_items": null,
            "align_self": null,
            "border": null,
            "bottom": null,
            "display": null,
            "flex": null,
            "flex_flow": null,
            "grid_area": null,
            "grid_auto_columns": null,
            "grid_auto_flow": null,
            "grid_auto_rows": null,
            "grid_column": null,
            "grid_gap": null,
            "grid_row": null,
            "grid_template_areas": null,
            "grid_template_columns": null,
            "grid_template_rows": null,
            "height": null,
            "justify_content": null,
            "justify_items": null,
            "left": null,
            "margin": null,
            "max_height": null,
            "max_width": null,
            "min_height": null,
            "min_width": null,
            "object_fit": null,
            "object_position": null,
            "order": null,
            "overflow": null,
            "overflow_x": null,
            "overflow_y": null,
            "padding": null,
            "right": null,
            "top": null,
            "visibility": null,
            "width": null
          }
        },
        "e44aed8f55d146b3859f75889006dd87": {
          "model_module": "@jupyter-widgets/controls",
          "model_name": "DescriptionStyleModel",
          "model_module_version": "1.5.0",
          "state": {
            "_model_module": "@jupyter-widgets/controls",
            "_model_module_version": "1.5.0",
            "_model_name": "DescriptionStyleModel",
            "_view_count": null,
            "_view_module": "@jupyter-widgets/base",
            "_view_module_version": "1.2.0",
            "_view_name": "StyleView",
            "description_width": ""
          }
        },
        "066ef1faec724771ba0cf1eb61e043d0": {
          "model_module": "@jupyter-widgets/controls",
          "model_name": "HBoxModel",
          "model_module_version": "1.5.0",
          "state": {
            "_dom_classes": [],
            "_model_module": "@jupyter-widgets/controls",
            "_model_module_version": "1.5.0",
            "_model_name": "HBoxModel",
            "_view_count": null,
            "_view_module": "@jupyter-widgets/controls",
            "_view_module_version": "1.5.0",
            "_view_name": "HBoxView",
            "box_style": "",
            "children": [
              "IPY_MODEL_6b57604baeb64f899e630c7ccb2ed10f",
              "IPY_MODEL_20b2e3b428894d56b4f724613a04c7fa",
              "IPY_MODEL_cd11ba2d532d42dea370ef8186ba8bb1"
            ],
            "layout": "IPY_MODEL_249c7584ffe24f5d9d4bd367e021c12b"
          }
        },
        "6b57604baeb64f899e630c7ccb2ed10f": {
          "model_module": "@jupyter-widgets/controls",
          "model_name": "HTMLModel",
          "model_module_version": "1.5.0",
          "state": {
            "_dom_classes": [],
            "_model_module": "@jupyter-widgets/controls",
            "_model_module_version": "1.5.0",
            "_model_name": "HTMLModel",
            "_view_count": null,
            "_view_module": "@jupyter-widgets/controls",
            "_view_module_version": "1.5.0",
            "_view_name": "HTMLView",
            "description": "",
            "description_tooltip": null,
            "layout": "IPY_MODEL_be5c99f1dbca4f03b6517eed2f6bc8f1",
            "placeholder": "​",
            "style": "IPY_MODEL_09711cd8e4cc42fe9d1968f76cc13e27",
            "value": "0_CLIPModel/vocab.json: 100%"
          }
        },
        "20b2e3b428894d56b4f724613a04c7fa": {
          "model_module": "@jupyter-widgets/controls",
          "model_name": "FloatProgressModel",
          "model_module_version": "1.5.0",
          "state": {
            "_dom_classes": [],
            "_model_module": "@jupyter-widgets/controls",
            "_model_module_version": "1.5.0",
            "_model_name": "FloatProgressModel",
            "_view_count": null,
            "_view_module": "@jupyter-widgets/controls",
            "_view_module_version": "1.5.0",
            "_view_name": "ProgressView",
            "bar_style": "success",
            "description": "",
            "description_tooltip": null,
            "layout": "IPY_MODEL_9de296a1c8324cd5af363c0809191cbf",
            "max": 961143,
            "min": 0,
            "orientation": "horizontal",
            "style": "IPY_MODEL_42958ae3b45849a7aec1ab619d04a13d",
            "value": 961143
          }
        },
        "cd11ba2d532d42dea370ef8186ba8bb1": {
          "model_module": "@jupyter-widgets/controls",
          "model_name": "HTMLModel",
          "model_module_version": "1.5.0",
          "state": {
            "_dom_classes": [],
            "_model_module": "@jupyter-widgets/controls",
            "_model_module_version": "1.5.0",
            "_model_name": "HTMLModel",
            "_view_count": null,
            "_view_module": "@jupyter-widgets/controls",
            "_view_module_version": "1.5.0",
            "_view_name": "HTMLView",
            "description": "",
            "description_tooltip": null,
            "layout": "IPY_MODEL_e553545322cf4401ad7bee30bc235da9",
            "placeholder": "​",
            "style": "IPY_MODEL_3e262d21e49747318ce2398f55a0804a",
            "value": " 961k/961k [00:00&lt;00:00, 2.47MB/s]"
          }
        },
        "249c7584ffe24f5d9d4bd367e021c12b": {
          "model_module": "@jupyter-widgets/base",
          "model_name": "LayoutModel",
          "model_module_version": "1.2.0",
          "state": {
            "_model_module": "@jupyter-widgets/base",
            "_model_module_version": "1.2.0",
            "_model_name": "LayoutModel",
            "_view_count": null,
            "_view_module": "@jupyter-widgets/base",
            "_view_module_version": "1.2.0",
            "_view_name": "LayoutView",
            "align_content": null,
            "align_items": null,
            "align_self": null,
            "border": null,
            "bottom": null,
            "display": null,
            "flex": null,
            "flex_flow": null,
            "grid_area": null,
            "grid_auto_columns": null,
            "grid_auto_flow": null,
            "grid_auto_rows": null,
            "grid_column": null,
            "grid_gap": null,
            "grid_row": null,
            "grid_template_areas": null,
            "grid_template_columns": null,
            "grid_template_rows": null,
            "height": null,
            "justify_content": null,
            "justify_items": null,
            "left": null,
            "margin": null,
            "max_height": null,
            "max_width": null,
            "min_height": null,
            "min_width": null,
            "object_fit": null,
            "object_position": null,
            "order": null,
            "overflow": null,
            "overflow_x": null,
            "overflow_y": null,
            "padding": null,
            "right": null,
            "top": null,
            "visibility": null,
            "width": null
          }
        },
        "be5c99f1dbca4f03b6517eed2f6bc8f1": {
          "model_module": "@jupyter-widgets/base",
          "model_name": "LayoutModel",
          "model_module_version": "1.2.0",
          "state": {
            "_model_module": "@jupyter-widgets/base",
            "_model_module_version": "1.2.0",
            "_model_name": "LayoutModel",
            "_view_count": null,
            "_view_module": "@jupyter-widgets/base",
            "_view_module_version": "1.2.0",
            "_view_name": "LayoutView",
            "align_content": null,
            "align_items": null,
            "align_self": null,
            "border": null,
            "bottom": null,
            "display": null,
            "flex": null,
            "flex_flow": null,
            "grid_area": null,
            "grid_auto_columns": null,
            "grid_auto_flow": null,
            "grid_auto_rows": null,
            "grid_column": null,
            "grid_gap": null,
            "grid_row": null,
            "grid_template_areas": null,
            "grid_template_columns": null,
            "grid_template_rows": null,
            "height": null,
            "justify_content": null,
            "justify_items": null,
            "left": null,
            "margin": null,
            "max_height": null,
            "max_width": null,
            "min_height": null,
            "min_width": null,
            "object_fit": null,
            "object_position": null,
            "order": null,
            "overflow": null,
            "overflow_x": null,
            "overflow_y": null,
            "padding": null,
            "right": null,
            "top": null,
            "visibility": null,
            "width": null
          }
        },
        "09711cd8e4cc42fe9d1968f76cc13e27": {
          "model_module": "@jupyter-widgets/controls",
          "model_name": "DescriptionStyleModel",
          "model_module_version": "1.5.0",
          "state": {
            "_model_module": "@jupyter-widgets/controls",
            "_model_module_version": "1.5.0",
            "_model_name": "DescriptionStyleModel",
            "_view_count": null,
            "_view_module": "@jupyter-widgets/base",
            "_view_module_version": "1.2.0",
            "_view_name": "StyleView",
            "description_width": ""
          }
        },
        "9de296a1c8324cd5af363c0809191cbf": {
          "model_module": "@jupyter-widgets/base",
          "model_name": "LayoutModel",
          "model_module_version": "1.2.0",
          "state": {
            "_model_module": "@jupyter-widgets/base",
            "_model_module_version": "1.2.0",
            "_model_name": "LayoutModel",
            "_view_count": null,
            "_view_module": "@jupyter-widgets/base",
            "_view_module_version": "1.2.0",
            "_view_name": "LayoutView",
            "align_content": null,
            "align_items": null,
            "align_self": null,
            "border": null,
            "bottom": null,
            "display": null,
            "flex": null,
            "flex_flow": null,
            "grid_area": null,
            "grid_auto_columns": null,
            "grid_auto_flow": null,
            "grid_auto_rows": null,
            "grid_column": null,
            "grid_gap": null,
            "grid_row": null,
            "grid_template_areas": null,
            "grid_template_columns": null,
            "grid_template_rows": null,
            "height": null,
            "justify_content": null,
            "justify_items": null,
            "left": null,
            "margin": null,
            "max_height": null,
            "max_width": null,
            "min_height": null,
            "min_width": null,
            "object_fit": null,
            "object_position": null,
            "order": null,
            "overflow": null,
            "overflow_x": null,
            "overflow_y": null,
            "padding": null,
            "right": null,
            "top": null,
            "visibility": null,
            "width": null
          }
        },
        "42958ae3b45849a7aec1ab619d04a13d": {
          "model_module": "@jupyter-widgets/controls",
          "model_name": "ProgressStyleModel",
          "model_module_version": "1.5.0",
          "state": {
            "_model_module": "@jupyter-widgets/controls",
            "_model_module_version": "1.5.0",
            "_model_name": "ProgressStyleModel",
            "_view_count": null,
            "_view_module": "@jupyter-widgets/base",
            "_view_module_version": "1.2.0",
            "_view_name": "StyleView",
            "bar_color": null,
            "description_width": ""
          }
        },
        "e553545322cf4401ad7bee30bc235da9": {
          "model_module": "@jupyter-widgets/base",
          "model_name": "LayoutModel",
          "model_module_version": "1.2.0",
          "state": {
            "_model_module": "@jupyter-widgets/base",
            "_model_module_version": "1.2.0",
            "_model_name": "LayoutModel",
            "_view_count": null,
            "_view_module": "@jupyter-widgets/base",
            "_view_module_version": "1.2.0",
            "_view_name": "LayoutView",
            "align_content": null,
            "align_items": null,
            "align_self": null,
            "border": null,
            "bottom": null,
            "display": null,
            "flex": null,
            "flex_flow": null,
            "grid_area": null,
            "grid_auto_columns": null,
            "grid_auto_flow": null,
            "grid_auto_rows": null,
            "grid_column": null,
            "grid_gap": null,
            "grid_row": null,
            "grid_template_areas": null,
            "grid_template_columns": null,
            "grid_template_rows": null,
            "height": null,
            "justify_content": null,
            "justify_items": null,
            "left": null,
            "margin": null,
            "max_height": null,
            "max_width": null,
            "min_height": null,
            "min_width": null,
            "object_fit": null,
            "object_position": null,
            "order": null,
            "overflow": null,
            "overflow_x": null,
            "overflow_y": null,
            "padding": null,
            "right": null,
            "top": null,
            "visibility": null,
            "width": null
          }
        },
        "3e262d21e49747318ce2398f55a0804a": {
          "model_module": "@jupyter-widgets/controls",
          "model_name": "DescriptionStyleModel",
          "model_module_version": "1.5.0",
          "state": {
            "_model_module": "@jupyter-widgets/controls",
            "_model_module_version": "1.5.0",
            "_model_name": "DescriptionStyleModel",
            "_view_count": null,
            "_view_module": "@jupyter-widgets/base",
            "_view_module_version": "1.2.0",
            "_view_name": "StyleView",
            "description_width": ""
          }
        },
        "fe9016869e8a435495cc5a7765de60a9": {
          "model_module": "@jupyter-widgets/controls",
          "model_name": "HBoxModel",
          "model_module_version": "1.5.0",
          "state": {
            "_dom_classes": [],
            "_model_module": "@jupyter-widgets/controls",
            "_model_module_version": "1.5.0",
            "_model_name": "HBoxModel",
            "_view_count": null,
            "_view_module": "@jupyter-widgets/controls",
            "_view_module_version": "1.5.0",
            "_view_name": "HBoxView",
            "box_style": "",
            "children": [
              "IPY_MODEL_7d66fb747a904e87847b64cb07528036",
              "IPY_MODEL_fb650378682a4bd2970b430a6c81518a",
              "IPY_MODEL_fb08f018515f42ea9e1a99ecf2dcfa89"
            ],
            "layout": "IPY_MODEL_714b2075bc58423c8b7caf654653cbf6"
          }
        },
        "7d66fb747a904e87847b64cb07528036": {
          "model_module": "@jupyter-widgets/controls",
          "model_name": "HTMLModel",
          "model_module_version": "1.5.0",
          "state": {
            "_dom_classes": [],
            "_model_module": "@jupyter-widgets/controls",
            "_model_module_version": "1.5.0",
            "_model_name": "HTMLModel",
            "_view_count": null,
            "_view_module": "@jupyter-widgets/controls",
            "_view_module_version": "1.5.0",
            "_view_name": "HTMLView",
            "description": "",
            "description_tooltip": null,
            "layout": "IPY_MODEL_79eca6d1ea8949168f06d1d066721353",
            "placeholder": "​",
            "style": "IPY_MODEL_09b1678d8320435cb06ce026e6726ce6",
            "value": "0_CLIPModel/preprocessor_config.json: 100%"
          }
        },
        "fb650378682a4bd2970b430a6c81518a": {
          "model_module": "@jupyter-widgets/controls",
          "model_name": "FloatProgressModel",
          "model_module_version": "1.5.0",
          "state": {
            "_dom_classes": [],
            "_model_module": "@jupyter-widgets/controls",
            "_model_module_version": "1.5.0",
            "_model_name": "FloatProgressModel",
            "_view_count": null,
            "_view_module": "@jupyter-widgets/controls",
            "_view_module_version": "1.5.0",
            "_view_name": "ProgressView",
            "bar_style": "success",
            "description": "",
            "description_tooltip": null,
            "layout": "IPY_MODEL_e34c69a0023b4a14bdb4c474751260f6",
            "max": 316,
            "min": 0,
            "orientation": "horizontal",
            "style": "IPY_MODEL_49b19bad26ab4737a5e264185afe5542",
            "value": 316
          }
        },
        "fb08f018515f42ea9e1a99ecf2dcfa89": {
          "model_module": "@jupyter-widgets/controls",
          "model_name": "HTMLModel",
          "model_module_version": "1.5.0",
          "state": {
            "_dom_classes": [],
            "_model_module": "@jupyter-widgets/controls",
            "_model_module_version": "1.5.0",
            "_model_name": "HTMLModel",
            "_view_count": null,
            "_view_module": "@jupyter-widgets/controls",
            "_view_module_version": "1.5.0",
            "_view_name": "HTMLView",
            "description": "",
            "description_tooltip": null,
            "layout": "IPY_MODEL_1c6570a4edd84e14a5f7446780d1ac0e",
            "placeholder": "​",
            "style": "IPY_MODEL_f57f8314d3424fe88fb112ae20a6692e",
            "value": " 316/316 [00:00&lt;00:00, 2.09kB/s]"
          }
        },
        "714b2075bc58423c8b7caf654653cbf6": {
          "model_module": "@jupyter-widgets/base",
          "model_name": "LayoutModel",
          "model_module_version": "1.2.0",
          "state": {
            "_model_module": "@jupyter-widgets/base",
            "_model_module_version": "1.2.0",
            "_model_name": "LayoutModel",
            "_view_count": null,
            "_view_module": "@jupyter-widgets/base",
            "_view_module_version": "1.2.0",
            "_view_name": "LayoutView",
            "align_content": null,
            "align_items": null,
            "align_self": null,
            "border": null,
            "bottom": null,
            "display": null,
            "flex": null,
            "flex_flow": null,
            "grid_area": null,
            "grid_auto_columns": null,
            "grid_auto_flow": null,
            "grid_auto_rows": null,
            "grid_column": null,
            "grid_gap": null,
            "grid_row": null,
            "grid_template_areas": null,
            "grid_template_columns": null,
            "grid_template_rows": null,
            "height": null,
            "justify_content": null,
            "justify_items": null,
            "left": null,
            "margin": null,
            "max_height": null,
            "max_width": null,
            "min_height": null,
            "min_width": null,
            "object_fit": null,
            "object_position": null,
            "order": null,
            "overflow": null,
            "overflow_x": null,
            "overflow_y": null,
            "padding": null,
            "right": null,
            "top": null,
            "visibility": null,
            "width": null
          }
        },
        "79eca6d1ea8949168f06d1d066721353": {
          "model_module": "@jupyter-widgets/base",
          "model_name": "LayoutModel",
          "model_module_version": "1.2.0",
          "state": {
            "_model_module": "@jupyter-widgets/base",
            "_model_module_version": "1.2.0",
            "_model_name": "LayoutModel",
            "_view_count": null,
            "_view_module": "@jupyter-widgets/base",
            "_view_module_version": "1.2.0",
            "_view_name": "LayoutView",
            "align_content": null,
            "align_items": null,
            "align_self": null,
            "border": null,
            "bottom": null,
            "display": null,
            "flex": null,
            "flex_flow": null,
            "grid_area": null,
            "grid_auto_columns": null,
            "grid_auto_flow": null,
            "grid_auto_rows": null,
            "grid_column": null,
            "grid_gap": null,
            "grid_row": null,
            "grid_template_areas": null,
            "grid_template_columns": null,
            "grid_template_rows": null,
            "height": null,
            "justify_content": null,
            "justify_items": null,
            "left": null,
            "margin": null,
            "max_height": null,
            "max_width": null,
            "min_height": null,
            "min_width": null,
            "object_fit": null,
            "object_position": null,
            "order": null,
            "overflow": null,
            "overflow_x": null,
            "overflow_y": null,
            "padding": null,
            "right": null,
            "top": null,
            "visibility": null,
            "width": null
          }
        },
        "09b1678d8320435cb06ce026e6726ce6": {
          "model_module": "@jupyter-widgets/controls",
          "model_name": "DescriptionStyleModel",
          "model_module_version": "1.5.0",
          "state": {
            "_model_module": "@jupyter-widgets/controls",
            "_model_module_version": "1.5.0",
            "_model_name": "DescriptionStyleModel",
            "_view_count": null,
            "_view_module": "@jupyter-widgets/base",
            "_view_module_version": "1.2.0",
            "_view_name": "StyleView",
            "description_width": ""
          }
        },
        "e34c69a0023b4a14bdb4c474751260f6": {
          "model_module": "@jupyter-widgets/base",
          "model_name": "LayoutModel",
          "model_module_version": "1.2.0",
          "state": {
            "_model_module": "@jupyter-widgets/base",
            "_model_module_version": "1.2.0",
            "_model_name": "LayoutModel",
            "_view_count": null,
            "_view_module": "@jupyter-widgets/base",
            "_view_module_version": "1.2.0",
            "_view_name": "LayoutView",
            "align_content": null,
            "align_items": null,
            "align_self": null,
            "border": null,
            "bottom": null,
            "display": null,
            "flex": null,
            "flex_flow": null,
            "grid_area": null,
            "grid_auto_columns": null,
            "grid_auto_flow": null,
            "grid_auto_rows": null,
            "grid_column": null,
            "grid_gap": null,
            "grid_row": null,
            "grid_template_areas": null,
            "grid_template_columns": null,
            "grid_template_rows": null,
            "height": null,
            "justify_content": null,
            "justify_items": null,
            "left": null,
            "margin": null,
            "max_height": null,
            "max_width": null,
            "min_height": null,
            "min_width": null,
            "object_fit": null,
            "object_position": null,
            "order": null,
            "overflow": null,
            "overflow_x": null,
            "overflow_y": null,
            "padding": null,
            "right": null,
            "top": null,
            "visibility": null,
            "width": null
          }
        },
        "49b19bad26ab4737a5e264185afe5542": {
          "model_module": "@jupyter-widgets/controls",
          "model_name": "ProgressStyleModel",
          "model_module_version": "1.5.0",
          "state": {
            "_model_module": "@jupyter-widgets/controls",
            "_model_module_version": "1.5.0",
            "_model_name": "ProgressStyleModel",
            "_view_count": null,
            "_view_module": "@jupyter-widgets/base",
            "_view_module_version": "1.2.0",
            "_view_name": "StyleView",
            "bar_color": null,
            "description_width": ""
          }
        },
        "1c6570a4edd84e14a5f7446780d1ac0e": {
          "model_module": "@jupyter-widgets/base",
          "model_name": "LayoutModel",
          "model_module_version": "1.2.0",
          "state": {
            "_model_module": "@jupyter-widgets/base",
            "_model_module_version": "1.2.0",
            "_model_name": "LayoutModel",
            "_view_count": null,
            "_view_module": "@jupyter-widgets/base",
            "_view_module_version": "1.2.0",
            "_view_name": "LayoutView",
            "align_content": null,
            "align_items": null,
            "align_self": null,
            "border": null,
            "bottom": null,
            "display": null,
            "flex": null,
            "flex_flow": null,
            "grid_area": null,
            "grid_auto_columns": null,
            "grid_auto_flow": null,
            "grid_auto_rows": null,
            "grid_column": null,
            "grid_gap": null,
            "grid_row": null,
            "grid_template_areas": null,
            "grid_template_columns": null,
            "grid_template_rows": null,
            "height": null,
            "justify_content": null,
            "justify_items": null,
            "left": null,
            "margin": null,
            "max_height": null,
            "max_width": null,
            "min_height": null,
            "min_width": null,
            "object_fit": null,
            "object_position": null,
            "order": null,
            "overflow": null,
            "overflow_x": null,
            "overflow_y": null,
            "padding": null,
            "right": null,
            "top": null,
            "visibility": null,
            "width": null
          }
        },
        "f57f8314d3424fe88fb112ae20a6692e": {
          "model_module": "@jupyter-widgets/controls",
          "model_name": "DescriptionStyleModel",
          "model_module_version": "1.5.0",
          "state": {
            "_model_module": "@jupyter-widgets/controls",
            "_model_module_version": "1.5.0",
            "_model_name": "DescriptionStyleModel",
            "_view_count": null,
            "_view_module": "@jupyter-widgets/base",
            "_view_module_version": "1.2.0",
            "_view_name": "StyleView",
            "description_width": ""
          }
        },
        "365c779855944108af2cd13925235f4f": {
          "model_module": "@jupyter-widgets/controls",
          "model_name": "HBoxModel",
          "model_module_version": "1.5.0",
          "state": {
            "_dom_classes": [],
            "_model_module": "@jupyter-widgets/controls",
            "_model_module_version": "1.5.0",
            "_model_name": "HBoxModel",
            "_view_count": null,
            "_view_module": "@jupyter-widgets/controls",
            "_view_module_version": "1.5.0",
            "_view_name": "HBoxView",
            "box_style": "",
            "children": [
              "IPY_MODEL_13f1ff44f0904950bdc7d96e842b1e8a",
              "IPY_MODEL_39d0a04b8deb4b83bd50b9b32a4024ab",
              "IPY_MODEL_aa4128dff1e94b67bb7c1722ee62e01c"
            ],
            "layout": "IPY_MODEL_2ce18e97f3cc4e57b3b27f0d7da8727d"
          }
        },
        "13f1ff44f0904950bdc7d96e842b1e8a": {
          "model_module": "@jupyter-widgets/controls",
          "model_name": "HTMLModel",
          "model_module_version": "1.5.0",
          "state": {
            "_dom_classes": [],
            "_model_module": "@jupyter-widgets/controls",
            "_model_module_version": "1.5.0",
            "_model_name": "HTMLModel",
            "_view_count": null,
            "_view_module": "@jupyter-widgets/controls",
            "_view_module_version": "1.5.0",
            "_view_name": "HTMLView",
            "description": "",
            "description_tooltip": null,
            "layout": "IPY_MODEL_c4af54063bf14568b74e4ef13bd33929",
            "placeholder": "​",
            "style": "IPY_MODEL_f09d97ffcf484407928a63d0b4fa8b60",
            "value": "0_CLIPModel/merges.txt: 100%"
          }
        },
        "39d0a04b8deb4b83bd50b9b32a4024ab": {
          "model_module": "@jupyter-widgets/controls",
          "model_name": "FloatProgressModel",
          "model_module_version": "1.5.0",
          "state": {
            "_dom_classes": [],
            "_model_module": "@jupyter-widgets/controls",
            "_model_module_version": "1.5.0",
            "_model_name": "FloatProgressModel",
            "_view_count": null,
            "_view_module": "@jupyter-widgets/controls",
            "_view_module_version": "1.5.0",
            "_view_name": "ProgressView",
            "bar_style": "success",
            "description": "",
            "description_tooltip": null,
            "layout": "IPY_MODEL_5ddcd20eb3f34466a736ef0f89aff62c",
            "max": 524619,
            "min": 0,
            "orientation": "horizontal",
            "style": "IPY_MODEL_31122044364a41258ca65405acfab540",
            "value": 524619
          }
        },
        "aa4128dff1e94b67bb7c1722ee62e01c": {
          "model_module": "@jupyter-widgets/controls",
          "model_name": "HTMLModel",
          "model_module_version": "1.5.0",
          "state": {
            "_dom_classes": [],
            "_model_module": "@jupyter-widgets/controls",
            "_model_module_version": "1.5.0",
            "_model_name": "HTMLModel",
            "_view_count": null,
            "_view_module": "@jupyter-widgets/controls",
            "_view_module_version": "1.5.0",
            "_view_name": "HTMLView",
            "description": "",
            "description_tooltip": null,
            "layout": "IPY_MODEL_fbae47d2e9f64e6fb2c94828bcde0cd8",
            "placeholder": "​",
            "style": "IPY_MODEL_ed909529d0f243d89f2d3c280782c8cc",
            "value": " 525k/525k [00:00&lt;00:00, 1.74MB/s]"
          }
        },
        "2ce18e97f3cc4e57b3b27f0d7da8727d": {
          "model_module": "@jupyter-widgets/base",
          "model_name": "LayoutModel",
          "model_module_version": "1.2.0",
          "state": {
            "_model_module": "@jupyter-widgets/base",
            "_model_module_version": "1.2.0",
            "_model_name": "LayoutModel",
            "_view_count": null,
            "_view_module": "@jupyter-widgets/base",
            "_view_module_version": "1.2.0",
            "_view_name": "LayoutView",
            "align_content": null,
            "align_items": null,
            "align_self": null,
            "border": null,
            "bottom": null,
            "display": null,
            "flex": null,
            "flex_flow": null,
            "grid_area": null,
            "grid_auto_columns": null,
            "grid_auto_flow": null,
            "grid_auto_rows": null,
            "grid_column": null,
            "grid_gap": null,
            "grid_row": null,
            "grid_template_areas": null,
            "grid_template_columns": null,
            "grid_template_rows": null,
            "height": null,
            "justify_content": null,
            "justify_items": null,
            "left": null,
            "margin": null,
            "max_height": null,
            "max_width": null,
            "min_height": null,
            "min_width": null,
            "object_fit": null,
            "object_position": null,
            "order": null,
            "overflow": null,
            "overflow_x": null,
            "overflow_y": null,
            "padding": null,
            "right": null,
            "top": null,
            "visibility": null,
            "width": null
          }
        },
        "c4af54063bf14568b74e4ef13bd33929": {
          "model_module": "@jupyter-widgets/base",
          "model_name": "LayoutModel",
          "model_module_version": "1.2.0",
          "state": {
            "_model_module": "@jupyter-widgets/base",
            "_model_module_version": "1.2.0",
            "_model_name": "LayoutModel",
            "_view_count": null,
            "_view_module": "@jupyter-widgets/base",
            "_view_module_version": "1.2.0",
            "_view_name": "LayoutView",
            "align_content": null,
            "align_items": null,
            "align_self": null,
            "border": null,
            "bottom": null,
            "display": null,
            "flex": null,
            "flex_flow": null,
            "grid_area": null,
            "grid_auto_columns": null,
            "grid_auto_flow": null,
            "grid_auto_rows": null,
            "grid_column": null,
            "grid_gap": null,
            "grid_row": null,
            "grid_template_areas": null,
            "grid_template_columns": null,
            "grid_template_rows": null,
            "height": null,
            "justify_content": null,
            "justify_items": null,
            "left": null,
            "margin": null,
            "max_height": null,
            "max_width": null,
            "min_height": null,
            "min_width": null,
            "object_fit": null,
            "object_position": null,
            "order": null,
            "overflow": null,
            "overflow_x": null,
            "overflow_y": null,
            "padding": null,
            "right": null,
            "top": null,
            "visibility": null,
            "width": null
          }
        },
        "f09d97ffcf484407928a63d0b4fa8b60": {
          "model_module": "@jupyter-widgets/controls",
          "model_name": "DescriptionStyleModel",
          "model_module_version": "1.5.0",
          "state": {
            "_model_module": "@jupyter-widgets/controls",
            "_model_module_version": "1.5.0",
            "_model_name": "DescriptionStyleModel",
            "_view_count": null,
            "_view_module": "@jupyter-widgets/base",
            "_view_module_version": "1.2.0",
            "_view_name": "StyleView",
            "description_width": ""
          }
        },
        "5ddcd20eb3f34466a736ef0f89aff62c": {
          "model_module": "@jupyter-widgets/base",
          "model_name": "LayoutModel",
          "model_module_version": "1.2.0",
          "state": {
            "_model_module": "@jupyter-widgets/base",
            "_model_module_version": "1.2.0",
            "_model_name": "LayoutModel",
            "_view_count": null,
            "_view_module": "@jupyter-widgets/base",
            "_view_module_version": "1.2.0",
            "_view_name": "LayoutView",
            "align_content": null,
            "align_items": null,
            "align_self": null,
            "border": null,
            "bottom": null,
            "display": null,
            "flex": null,
            "flex_flow": null,
            "grid_area": null,
            "grid_auto_columns": null,
            "grid_auto_flow": null,
            "grid_auto_rows": null,
            "grid_column": null,
            "grid_gap": null,
            "grid_row": null,
            "grid_template_areas": null,
            "grid_template_columns": null,
            "grid_template_rows": null,
            "height": null,
            "justify_content": null,
            "justify_items": null,
            "left": null,
            "margin": null,
            "max_height": null,
            "max_width": null,
            "min_height": null,
            "min_width": null,
            "object_fit": null,
            "object_position": null,
            "order": null,
            "overflow": null,
            "overflow_x": null,
            "overflow_y": null,
            "padding": null,
            "right": null,
            "top": null,
            "visibility": null,
            "width": null
          }
        },
        "31122044364a41258ca65405acfab540": {
          "model_module": "@jupyter-widgets/controls",
          "model_name": "ProgressStyleModel",
          "model_module_version": "1.5.0",
          "state": {
            "_model_module": "@jupyter-widgets/controls",
            "_model_module_version": "1.5.0",
            "_model_name": "ProgressStyleModel",
            "_view_count": null,
            "_view_module": "@jupyter-widgets/base",
            "_view_module_version": "1.2.0",
            "_view_name": "StyleView",
            "bar_color": null,
            "description_width": ""
          }
        },
        "fbae47d2e9f64e6fb2c94828bcde0cd8": {
          "model_module": "@jupyter-widgets/base",
          "model_name": "LayoutModel",
          "model_module_version": "1.2.0",
          "state": {
            "_model_module": "@jupyter-widgets/base",
            "_model_module_version": "1.2.0",
            "_model_name": "LayoutModel",
            "_view_count": null,
            "_view_module": "@jupyter-widgets/base",
            "_view_module_version": "1.2.0",
            "_view_name": "LayoutView",
            "align_content": null,
            "align_items": null,
            "align_self": null,
            "border": null,
            "bottom": null,
            "display": null,
            "flex": null,
            "flex_flow": null,
            "grid_area": null,
            "grid_auto_columns": null,
            "grid_auto_flow": null,
            "grid_auto_rows": null,
            "grid_column": null,
            "grid_gap": null,
            "grid_row": null,
            "grid_template_areas": null,
            "grid_template_columns": null,
            "grid_template_rows": null,
            "height": null,
            "justify_content": null,
            "justify_items": null,
            "left": null,
            "margin": null,
            "max_height": null,
            "max_width": null,
            "min_height": null,
            "min_width": null,
            "object_fit": null,
            "object_position": null,
            "order": null,
            "overflow": null,
            "overflow_x": null,
            "overflow_y": null,
            "padding": null,
            "right": null,
            "top": null,
            "visibility": null,
            "width": null
          }
        },
        "ed909529d0f243d89f2d3c280782c8cc": {
          "model_module": "@jupyter-widgets/controls",
          "model_name": "DescriptionStyleModel",
          "model_module_version": "1.5.0",
          "state": {
            "_model_module": "@jupyter-widgets/controls",
            "_model_module_version": "1.5.0",
            "_model_name": "DescriptionStyleModel",
            "_view_count": null,
            "_view_module": "@jupyter-widgets/base",
            "_view_module_version": "1.2.0",
            "_view_name": "StyleView",
            "description_width": ""
          }
        },
        "ba44cbe787cf4a48905d2aaee3618e98": {
          "model_module": "@jupyter-widgets/controls",
          "model_name": "HBoxModel",
          "model_module_version": "1.5.0",
          "state": {
            "_dom_classes": [],
            "_model_module": "@jupyter-widgets/controls",
            "_model_module_version": "1.5.0",
            "_model_name": "HBoxModel",
            "_view_count": null,
            "_view_module": "@jupyter-widgets/controls",
            "_view_module_version": "1.5.0",
            "_view_name": "HBoxView",
            "box_style": "",
            "children": [
              "IPY_MODEL_5ed0fb49ba304c04abcccd418cd85179",
              "IPY_MODEL_74f592518e54496b94416f7700de9dd1",
              "IPY_MODEL_af5f78d6d34f4219b04a28d7cca98314"
            ],
            "layout": "IPY_MODEL_d4c9a43013d742359622136a526e1b36"
          }
        },
        "5ed0fb49ba304c04abcccd418cd85179": {
          "model_module": "@jupyter-widgets/controls",
          "model_name": "HTMLModel",
          "model_module_version": "1.5.0",
          "state": {
            "_dom_classes": [],
            "_model_module": "@jupyter-widgets/controls",
            "_model_module_version": "1.5.0",
            "_model_name": "HTMLModel",
            "_view_count": null,
            "_view_module": "@jupyter-widgets/controls",
            "_view_module_version": "1.5.0",
            "_view_name": "HTMLView",
            "description": "",
            "description_tooltip": null,
            "layout": "IPY_MODEL_8ec073b0d8f74e1d96cec8c0d5a7de5a",
            "placeholder": "​",
            "style": "IPY_MODEL_4dc9321d88b043428881c42d86ba9841",
            "value": "0_CLIPModel/config.json: 100%"
          }
        },
        "74f592518e54496b94416f7700de9dd1": {
          "model_module": "@jupyter-widgets/controls",
          "model_name": "FloatProgressModel",
          "model_module_version": "1.5.0",
          "state": {
            "_dom_classes": [],
            "_model_module": "@jupyter-widgets/controls",
            "_model_module_version": "1.5.0",
            "_model_name": "FloatProgressModel",
            "_view_count": null,
            "_view_module": "@jupyter-widgets/controls",
            "_view_module_version": "1.5.0",
            "_view_name": "ProgressView",
            "bar_style": "success",
            "description": "",
            "description_tooltip": null,
            "layout": "IPY_MODEL_4c9b7cac00914e9fad4c895ecb952f8f",
            "max": 4025,
            "min": 0,
            "orientation": "horizontal",
            "style": "IPY_MODEL_1ae3248c8aa6480886b497ef5f36883b",
            "value": 4025
          }
        },
        "af5f78d6d34f4219b04a28d7cca98314": {
          "model_module": "@jupyter-widgets/controls",
          "model_name": "HTMLModel",
          "model_module_version": "1.5.0",
          "state": {
            "_dom_classes": [],
            "_model_module": "@jupyter-widgets/controls",
            "_model_module_version": "1.5.0",
            "_model_name": "HTMLModel",
            "_view_count": null,
            "_view_module": "@jupyter-widgets/controls",
            "_view_module_version": "1.5.0",
            "_view_name": "HTMLView",
            "description": "",
            "description_tooltip": null,
            "layout": "IPY_MODEL_c91aefe5efe342ccbb649ca8eb0d4af5",
            "placeholder": "​",
            "style": "IPY_MODEL_398100318f5943718758d8a1452bcf88",
            "value": " 4.03k/4.03k [00:00&lt;00:00, 40.3kB/s]"
          }
        },
        "d4c9a43013d742359622136a526e1b36": {
          "model_module": "@jupyter-widgets/base",
          "model_name": "LayoutModel",
          "model_module_version": "1.2.0",
          "state": {
            "_model_module": "@jupyter-widgets/base",
            "_model_module_version": "1.2.0",
            "_model_name": "LayoutModel",
            "_view_count": null,
            "_view_module": "@jupyter-widgets/base",
            "_view_module_version": "1.2.0",
            "_view_name": "LayoutView",
            "align_content": null,
            "align_items": null,
            "align_self": null,
            "border": null,
            "bottom": null,
            "display": null,
            "flex": null,
            "flex_flow": null,
            "grid_area": null,
            "grid_auto_columns": null,
            "grid_auto_flow": null,
            "grid_auto_rows": null,
            "grid_column": null,
            "grid_gap": null,
            "grid_row": null,
            "grid_template_areas": null,
            "grid_template_columns": null,
            "grid_template_rows": null,
            "height": null,
            "justify_content": null,
            "justify_items": null,
            "left": null,
            "margin": null,
            "max_height": null,
            "max_width": null,
            "min_height": null,
            "min_width": null,
            "object_fit": null,
            "object_position": null,
            "order": null,
            "overflow": null,
            "overflow_x": null,
            "overflow_y": null,
            "padding": null,
            "right": null,
            "top": null,
            "visibility": null,
            "width": null
          }
        },
        "8ec073b0d8f74e1d96cec8c0d5a7de5a": {
          "model_module": "@jupyter-widgets/base",
          "model_name": "LayoutModel",
          "model_module_version": "1.2.0",
          "state": {
            "_model_module": "@jupyter-widgets/base",
            "_model_module_version": "1.2.0",
            "_model_name": "LayoutModel",
            "_view_count": null,
            "_view_module": "@jupyter-widgets/base",
            "_view_module_version": "1.2.0",
            "_view_name": "LayoutView",
            "align_content": null,
            "align_items": null,
            "align_self": null,
            "border": null,
            "bottom": null,
            "display": null,
            "flex": null,
            "flex_flow": null,
            "grid_area": null,
            "grid_auto_columns": null,
            "grid_auto_flow": null,
            "grid_auto_rows": null,
            "grid_column": null,
            "grid_gap": null,
            "grid_row": null,
            "grid_template_areas": null,
            "grid_template_columns": null,
            "grid_template_rows": null,
            "height": null,
            "justify_content": null,
            "justify_items": null,
            "left": null,
            "margin": null,
            "max_height": null,
            "max_width": null,
            "min_height": null,
            "min_width": null,
            "object_fit": null,
            "object_position": null,
            "order": null,
            "overflow": null,
            "overflow_x": null,
            "overflow_y": null,
            "padding": null,
            "right": null,
            "top": null,
            "visibility": null,
            "width": null
          }
        },
        "4dc9321d88b043428881c42d86ba9841": {
          "model_module": "@jupyter-widgets/controls",
          "model_name": "DescriptionStyleModel",
          "model_module_version": "1.5.0",
          "state": {
            "_model_module": "@jupyter-widgets/controls",
            "_model_module_version": "1.5.0",
            "_model_name": "DescriptionStyleModel",
            "_view_count": null,
            "_view_module": "@jupyter-widgets/base",
            "_view_module_version": "1.2.0",
            "_view_name": "StyleView",
            "description_width": ""
          }
        },
        "4c9b7cac00914e9fad4c895ecb952f8f": {
          "model_module": "@jupyter-widgets/base",
          "model_name": "LayoutModel",
          "model_module_version": "1.2.0",
          "state": {
            "_model_module": "@jupyter-widgets/base",
            "_model_module_version": "1.2.0",
            "_model_name": "LayoutModel",
            "_view_count": null,
            "_view_module": "@jupyter-widgets/base",
            "_view_module_version": "1.2.0",
            "_view_name": "LayoutView",
            "align_content": null,
            "align_items": null,
            "align_self": null,
            "border": null,
            "bottom": null,
            "display": null,
            "flex": null,
            "flex_flow": null,
            "grid_area": null,
            "grid_auto_columns": null,
            "grid_auto_flow": null,
            "grid_auto_rows": null,
            "grid_column": null,
            "grid_gap": null,
            "grid_row": null,
            "grid_template_areas": null,
            "grid_template_columns": null,
            "grid_template_rows": null,
            "height": null,
            "justify_content": null,
            "justify_items": null,
            "left": null,
            "margin": null,
            "max_height": null,
            "max_width": null,
            "min_height": null,
            "min_width": null,
            "object_fit": null,
            "object_position": null,
            "order": null,
            "overflow": null,
            "overflow_x": null,
            "overflow_y": null,
            "padding": null,
            "right": null,
            "top": null,
            "visibility": null,
            "width": null
          }
        },
        "1ae3248c8aa6480886b497ef5f36883b": {
          "model_module": "@jupyter-widgets/controls",
          "model_name": "ProgressStyleModel",
          "model_module_version": "1.5.0",
          "state": {
            "_model_module": "@jupyter-widgets/controls",
            "_model_module_version": "1.5.0",
            "_model_name": "ProgressStyleModel",
            "_view_count": null,
            "_view_module": "@jupyter-widgets/base",
            "_view_module_version": "1.2.0",
            "_view_name": "StyleView",
            "bar_color": null,
            "description_width": ""
          }
        },
        "c91aefe5efe342ccbb649ca8eb0d4af5": {
          "model_module": "@jupyter-widgets/base",
          "model_name": "LayoutModel",
          "model_module_version": "1.2.0",
          "state": {
            "_model_module": "@jupyter-widgets/base",
            "_model_module_version": "1.2.0",
            "_model_name": "LayoutModel",
            "_view_count": null,
            "_view_module": "@jupyter-widgets/base",
            "_view_module_version": "1.2.0",
            "_view_name": "LayoutView",
            "align_content": null,
            "align_items": null,
            "align_self": null,
            "border": null,
            "bottom": null,
            "display": null,
            "flex": null,
            "flex_flow": null,
            "grid_area": null,
            "grid_auto_columns": null,
            "grid_auto_flow": null,
            "grid_auto_rows": null,
            "grid_column": null,
            "grid_gap": null,
            "grid_row": null,
            "grid_template_areas": null,
            "grid_template_columns": null,
            "grid_template_rows": null,
            "height": null,
            "justify_content": null,
            "justify_items": null,
            "left": null,
            "margin": null,
            "max_height": null,
            "max_width": null,
            "min_height": null,
            "min_width": null,
            "object_fit": null,
            "object_position": null,
            "order": null,
            "overflow": null,
            "overflow_x": null,
            "overflow_y": null,
            "padding": null,
            "right": null,
            "top": null,
            "visibility": null,
            "width": null
          }
        },
        "398100318f5943718758d8a1452bcf88": {
          "model_module": "@jupyter-widgets/controls",
          "model_name": "DescriptionStyleModel",
          "model_module_version": "1.5.0",
          "state": {
            "_model_module": "@jupyter-widgets/controls",
            "_model_module_version": "1.5.0",
            "_model_name": "DescriptionStyleModel",
            "_view_count": null,
            "_view_module": "@jupyter-widgets/base",
            "_view_module_version": "1.2.0",
            "_view_name": "StyleView",
            "description_width": ""
          }
        },
        "3a332d424ba24473afe0b00401c1bf7e": {
          "model_module": "@jupyter-widgets/controls",
          "model_name": "HBoxModel",
          "model_module_version": "1.5.0",
          "state": {
            "_dom_classes": [],
            "_model_module": "@jupyter-widgets/controls",
            "_model_module_version": "1.5.0",
            "_model_name": "HBoxModel",
            "_view_count": null,
            "_view_module": "@jupyter-widgets/controls",
            "_view_module_version": "1.5.0",
            "_view_name": "HBoxView",
            "box_style": "",
            "children": [
              "IPY_MODEL_22bfcf79f7364a86bcd806d15e4d2af4",
              "IPY_MODEL_0a2ccaa0855b4be3bc9f0376b26a38ed",
              "IPY_MODEL_410ab31e751847f4bd73356478a971b4"
            ],
            "layout": "IPY_MODEL_d20b94a232774b54b4c166d9ff410c5f"
          }
        },
        "22bfcf79f7364a86bcd806d15e4d2af4": {
          "model_module": "@jupyter-widgets/controls",
          "model_name": "HTMLModel",
          "model_module_version": "1.5.0",
          "state": {
            "_dom_classes": [],
            "_model_module": "@jupyter-widgets/controls",
            "_model_module_version": "1.5.0",
            "_model_name": "HTMLModel",
            "_view_count": null,
            "_view_module": "@jupyter-widgets/controls",
            "_view_module_version": "1.5.0",
            "_view_name": "HTMLView",
            "description": "",
            "description_tooltip": null,
            "layout": "IPY_MODEL_8b5d2b2b50b04dc2aabe2f527dfa52ab",
            "placeholder": "​",
            "style": "IPY_MODEL_6360ce1a789248ada3585307868700a6",
            "value": "0_CLIPModel/tokenizer_config.json: 100%"
          }
        },
        "0a2ccaa0855b4be3bc9f0376b26a38ed": {
          "model_module": "@jupyter-widgets/controls",
          "model_name": "FloatProgressModel",
          "model_module_version": "1.5.0",
          "state": {
            "_dom_classes": [],
            "_model_module": "@jupyter-widgets/controls",
            "_model_module_version": "1.5.0",
            "_model_name": "FloatProgressModel",
            "_view_count": null,
            "_view_module": "@jupyter-widgets/controls",
            "_view_module_version": "1.5.0",
            "_view_name": "ProgressView",
            "bar_style": "success",
            "description": "",
            "description_tooltip": null,
            "layout": "IPY_MODEL_cb6c3f59b05a42e691623972650b387f",
            "max": 604,
            "min": 0,
            "orientation": "horizontal",
            "style": "IPY_MODEL_a0c1c969e41b4d49aff224f9a1f4cf86",
            "value": 604
          }
        },
        "410ab31e751847f4bd73356478a971b4": {
          "model_module": "@jupyter-widgets/controls",
          "model_name": "HTMLModel",
          "model_module_version": "1.5.0",
          "state": {
            "_dom_classes": [],
            "_model_module": "@jupyter-widgets/controls",
            "_model_module_version": "1.5.0",
            "_model_name": "HTMLModel",
            "_view_count": null,
            "_view_module": "@jupyter-widgets/controls",
            "_view_module_version": "1.5.0",
            "_view_name": "HTMLView",
            "description": "",
            "description_tooltip": null,
            "layout": "IPY_MODEL_e0288ce9be79470e913f9154e76b0f73",
            "placeholder": "​",
            "style": "IPY_MODEL_e3a194b74fbc4c728381b3fe94aab486",
            "value": " 604/604 [00:00&lt;00:00, 4.37kB/s]"
          }
        },
        "d20b94a232774b54b4c166d9ff410c5f": {
          "model_module": "@jupyter-widgets/base",
          "model_name": "LayoutModel",
          "model_module_version": "1.2.0",
          "state": {
            "_model_module": "@jupyter-widgets/base",
            "_model_module_version": "1.2.0",
            "_model_name": "LayoutModel",
            "_view_count": null,
            "_view_module": "@jupyter-widgets/base",
            "_view_module_version": "1.2.0",
            "_view_name": "LayoutView",
            "align_content": null,
            "align_items": null,
            "align_self": null,
            "border": null,
            "bottom": null,
            "display": null,
            "flex": null,
            "flex_flow": null,
            "grid_area": null,
            "grid_auto_columns": null,
            "grid_auto_flow": null,
            "grid_auto_rows": null,
            "grid_column": null,
            "grid_gap": null,
            "grid_row": null,
            "grid_template_areas": null,
            "grid_template_columns": null,
            "grid_template_rows": null,
            "height": null,
            "justify_content": null,
            "justify_items": null,
            "left": null,
            "margin": null,
            "max_height": null,
            "max_width": null,
            "min_height": null,
            "min_width": null,
            "object_fit": null,
            "object_position": null,
            "order": null,
            "overflow": null,
            "overflow_x": null,
            "overflow_y": null,
            "padding": null,
            "right": null,
            "top": null,
            "visibility": null,
            "width": null
          }
        },
        "8b5d2b2b50b04dc2aabe2f527dfa52ab": {
          "model_module": "@jupyter-widgets/base",
          "model_name": "LayoutModel",
          "model_module_version": "1.2.0",
          "state": {
            "_model_module": "@jupyter-widgets/base",
            "_model_module_version": "1.2.0",
            "_model_name": "LayoutModel",
            "_view_count": null,
            "_view_module": "@jupyter-widgets/base",
            "_view_module_version": "1.2.0",
            "_view_name": "LayoutView",
            "align_content": null,
            "align_items": null,
            "align_self": null,
            "border": null,
            "bottom": null,
            "display": null,
            "flex": null,
            "flex_flow": null,
            "grid_area": null,
            "grid_auto_columns": null,
            "grid_auto_flow": null,
            "grid_auto_rows": null,
            "grid_column": null,
            "grid_gap": null,
            "grid_row": null,
            "grid_template_areas": null,
            "grid_template_columns": null,
            "grid_template_rows": null,
            "height": null,
            "justify_content": null,
            "justify_items": null,
            "left": null,
            "margin": null,
            "max_height": null,
            "max_width": null,
            "min_height": null,
            "min_width": null,
            "object_fit": null,
            "object_position": null,
            "order": null,
            "overflow": null,
            "overflow_x": null,
            "overflow_y": null,
            "padding": null,
            "right": null,
            "top": null,
            "visibility": null,
            "width": null
          }
        },
        "6360ce1a789248ada3585307868700a6": {
          "model_module": "@jupyter-widgets/controls",
          "model_name": "DescriptionStyleModel",
          "model_module_version": "1.5.0",
          "state": {
            "_model_module": "@jupyter-widgets/controls",
            "_model_module_version": "1.5.0",
            "_model_name": "DescriptionStyleModel",
            "_view_count": null,
            "_view_module": "@jupyter-widgets/base",
            "_view_module_version": "1.2.0",
            "_view_name": "StyleView",
            "description_width": ""
          }
        },
        "cb6c3f59b05a42e691623972650b387f": {
          "model_module": "@jupyter-widgets/base",
          "model_name": "LayoutModel",
          "model_module_version": "1.2.0",
          "state": {
            "_model_module": "@jupyter-widgets/base",
            "_model_module_version": "1.2.0",
            "_model_name": "LayoutModel",
            "_view_count": null,
            "_view_module": "@jupyter-widgets/base",
            "_view_module_version": "1.2.0",
            "_view_name": "LayoutView",
            "align_content": null,
            "align_items": null,
            "align_self": null,
            "border": null,
            "bottom": null,
            "display": null,
            "flex": null,
            "flex_flow": null,
            "grid_area": null,
            "grid_auto_columns": null,
            "grid_auto_flow": null,
            "grid_auto_rows": null,
            "grid_column": null,
            "grid_gap": null,
            "grid_row": null,
            "grid_template_areas": null,
            "grid_template_columns": null,
            "grid_template_rows": null,
            "height": null,
            "justify_content": null,
            "justify_items": null,
            "left": null,
            "margin": null,
            "max_height": null,
            "max_width": null,
            "min_height": null,
            "min_width": null,
            "object_fit": null,
            "object_position": null,
            "order": null,
            "overflow": null,
            "overflow_x": null,
            "overflow_y": null,
            "padding": null,
            "right": null,
            "top": null,
            "visibility": null,
            "width": null
          }
        },
        "a0c1c969e41b4d49aff224f9a1f4cf86": {
          "model_module": "@jupyter-widgets/controls",
          "model_name": "ProgressStyleModel",
          "model_module_version": "1.5.0",
          "state": {
            "_model_module": "@jupyter-widgets/controls",
            "_model_module_version": "1.5.0",
            "_model_name": "ProgressStyleModel",
            "_view_count": null,
            "_view_module": "@jupyter-widgets/base",
            "_view_module_version": "1.2.0",
            "_view_name": "StyleView",
            "bar_color": null,
            "description_width": ""
          }
        },
        "e0288ce9be79470e913f9154e76b0f73": {
          "model_module": "@jupyter-widgets/base",
          "model_name": "LayoutModel",
          "model_module_version": "1.2.0",
          "state": {
            "_model_module": "@jupyter-widgets/base",
            "_model_module_version": "1.2.0",
            "_model_name": "LayoutModel",
            "_view_count": null,
            "_view_module": "@jupyter-widgets/base",
            "_view_module_version": "1.2.0",
            "_view_name": "LayoutView",
            "align_content": null,
            "align_items": null,
            "align_self": null,
            "border": null,
            "bottom": null,
            "display": null,
            "flex": null,
            "flex_flow": null,
            "grid_area": null,
            "grid_auto_columns": null,
            "grid_auto_flow": null,
            "grid_auto_rows": null,
            "grid_column": null,
            "grid_gap": null,
            "grid_row": null,
            "grid_template_areas": null,
            "grid_template_columns": null,
            "grid_template_rows": null,
            "height": null,
            "justify_content": null,
            "justify_items": null,
            "left": null,
            "margin": null,
            "max_height": null,
            "max_width": null,
            "min_height": null,
            "min_width": null,
            "object_fit": null,
            "object_position": null,
            "order": null,
            "overflow": null,
            "overflow_x": null,
            "overflow_y": null,
            "padding": null,
            "right": null,
            "top": null,
            "visibility": null,
            "width": null
          }
        },
        "e3a194b74fbc4c728381b3fe94aab486": {
          "model_module": "@jupyter-widgets/controls",
          "model_name": "DescriptionStyleModel",
          "model_module_version": "1.5.0",
          "state": {
            "_model_module": "@jupyter-widgets/controls",
            "_model_module_version": "1.5.0",
            "_model_name": "DescriptionStyleModel",
            "_view_count": null,
            "_view_module": "@jupyter-widgets/base",
            "_view_module_version": "1.2.0",
            "_view_name": "StyleView",
            "description_width": ""
          }
        },
        "44506000ada94fe58b9cb977c4a3c9b8": {
          "model_module": "@jupyter-widgets/controls",
          "model_name": "HBoxModel",
          "model_module_version": "1.5.0",
          "state": {
            "_dom_classes": [],
            "_model_module": "@jupyter-widgets/controls",
            "_model_module_version": "1.5.0",
            "_model_name": "HBoxModel",
            "_view_count": null,
            "_view_module": "@jupyter-widgets/controls",
            "_view_module_version": "1.5.0",
            "_view_name": "HBoxView",
            "box_style": "",
            "children": [
              "IPY_MODEL_f43faeab5294406da6ab7aa07c422fc2",
              "IPY_MODEL_1beff7aa5ecd49878779f8c6fae186a4",
              "IPY_MODEL_9022668e35ff424fb705399fff13d215"
            ],
            "layout": "IPY_MODEL_38802ffa85154cb69cea1070a75016ff"
          }
        },
        "f43faeab5294406da6ab7aa07c422fc2": {
          "model_module": "@jupyter-widgets/controls",
          "model_name": "HTMLModel",
          "model_module_version": "1.5.0",
          "state": {
            "_dom_classes": [],
            "_model_module": "@jupyter-widgets/controls",
            "_model_module_version": "1.5.0",
            "_model_name": "HTMLModel",
            "_view_count": null,
            "_view_module": "@jupyter-widgets/controls",
            "_view_module_version": "1.5.0",
            "_view_name": "HTMLView",
            "description": "",
            "description_tooltip": null,
            "layout": "IPY_MODEL_252ceab3340e4deba184b1e685b4ca53",
            "placeholder": "​",
            "style": "IPY_MODEL_eb2d151039c840e7bb82d409caa898ea",
            "value": "0_CLIPModel/special_tokens_map.json: 100%"
          }
        },
        "1beff7aa5ecd49878779f8c6fae186a4": {
          "model_module": "@jupyter-widgets/controls",
          "model_name": "FloatProgressModel",
          "model_module_version": "1.5.0",
          "state": {
            "_dom_classes": [],
            "_model_module": "@jupyter-widgets/controls",
            "_model_module_version": "1.5.0",
            "_model_name": "FloatProgressModel",
            "_view_count": null,
            "_view_module": "@jupyter-widgets/controls",
            "_view_module_version": "1.5.0",
            "_view_name": "ProgressView",
            "bar_style": "success",
            "description": "",
            "description_tooltip": null,
            "layout": "IPY_MODEL_8162a7ead96c4ba9ad295f9f87495331",
            "max": 389,
            "min": 0,
            "orientation": "horizontal",
            "style": "IPY_MODEL_52268584151246dfa1e507c4c523fe07",
            "value": 389
          }
        },
        "9022668e35ff424fb705399fff13d215": {
          "model_module": "@jupyter-widgets/controls",
          "model_name": "HTMLModel",
          "model_module_version": "1.5.0",
          "state": {
            "_dom_classes": [],
            "_model_module": "@jupyter-widgets/controls",
            "_model_module_version": "1.5.0",
            "_model_name": "HTMLModel",
            "_view_count": null,
            "_view_module": "@jupyter-widgets/controls",
            "_view_module_version": "1.5.0",
            "_view_name": "HTMLView",
            "description": "",
            "description_tooltip": null,
            "layout": "IPY_MODEL_426c530629b3415dbbb78de1c7265361",
            "placeholder": "​",
            "style": "IPY_MODEL_204008bc91b247b0983ffd344f84d77c",
            "value": " 389/389 [00:00&lt;00:00, 3.67kB/s]"
          }
        },
        "38802ffa85154cb69cea1070a75016ff": {
          "model_module": "@jupyter-widgets/base",
          "model_name": "LayoutModel",
          "model_module_version": "1.2.0",
          "state": {
            "_model_module": "@jupyter-widgets/base",
            "_model_module_version": "1.2.0",
            "_model_name": "LayoutModel",
            "_view_count": null,
            "_view_module": "@jupyter-widgets/base",
            "_view_module_version": "1.2.0",
            "_view_name": "LayoutView",
            "align_content": null,
            "align_items": null,
            "align_self": null,
            "border": null,
            "bottom": null,
            "display": null,
            "flex": null,
            "flex_flow": null,
            "grid_area": null,
            "grid_auto_columns": null,
            "grid_auto_flow": null,
            "grid_auto_rows": null,
            "grid_column": null,
            "grid_gap": null,
            "grid_row": null,
            "grid_template_areas": null,
            "grid_template_columns": null,
            "grid_template_rows": null,
            "height": null,
            "justify_content": null,
            "justify_items": null,
            "left": null,
            "margin": null,
            "max_height": null,
            "max_width": null,
            "min_height": null,
            "min_width": null,
            "object_fit": null,
            "object_position": null,
            "order": null,
            "overflow": null,
            "overflow_x": null,
            "overflow_y": null,
            "padding": null,
            "right": null,
            "top": null,
            "visibility": null,
            "width": null
          }
        },
        "252ceab3340e4deba184b1e685b4ca53": {
          "model_module": "@jupyter-widgets/base",
          "model_name": "LayoutModel",
          "model_module_version": "1.2.0",
          "state": {
            "_model_module": "@jupyter-widgets/base",
            "_model_module_version": "1.2.0",
            "_model_name": "LayoutModel",
            "_view_count": null,
            "_view_module": "@jupyter-widgets/base",
            "_view_module_version": "1.2.0",
            "_view_name": "LayoutView",
            "align_content": null,
            "align_items": null,
            "align_self": null,
            "border": null,
            "bottom": null,
            "display": null,
            "flex": null,
            "flex_flow": null,
            "grid_area": null,
            "grid_auto_columns": null,
            "grid_auto_flow": null,
            "grid_auto_rows": null,
            "grid_column": null,
            "grid_gap": null,
            "grid_row": null,
            "grid_template_areas": null,
            "grid_template_columns": null,
            "grid_template_rows": null,
            "height": null,
            "justify_content": null,
            "justify_items": null,
            "left": null,
            "margin": null,
            "max_height": null,
            "max_width": null,
            "min_height": null,
            "min_width": null,
            "object_fit": null,
            "object_position": null,
            "order": null,
            "overflow": null,
            "overflow_x": null,
            "overflow_y": null,
            "padding": null,
            "right": null,
            "top": null,
            "visibility": null,
            "width": null
          }
        },
        "eb2d151039c840e7bb82d409caa898ea": {
          "model_module": "@jupyter-widgets/controls",
          "model_name": "DescriptionStyleModel",
          "model_module_version": "1.5.0",
          "state": {
            "_model_module": "@jupyter-widgets/controls",
            "_model_module_version": "1.5.0",
            "_model_name": "DescriptionStyleModel",
            "_view_count": null,
            "_view_module": "@jupyter-widgets/base",
            "_view_module_version": "1.2.0",
            "_view_name": "StyleView",
            "description_width": ""
          }
        },
        "8162a7ead96c4ba9ad295f9f87495331": {
          "model_module": "@jupyter-widgets/base",
          "model_name": "LayoutModel",
          "model_module_version": "1.2.0",
          "state": {
            "_model_module": "@jupyter-widgets/base",
            "_model_module_version": "1.2.0",
            "_model_name": "LayoutModel",
            "_view_count": null,
            "_view_module": "@jupyter-widgets/base",
            "_view_module_version": "1.2.0",
            "_view_name": "LayoutView",
            "align_content": null,
            "align_items": null,
            "align_self": null,
            "border": null,
            "bottom": null,
            "display": null,
            "flex": null,
            "flex_flow": null,
            "grid_area": null,
            "grid_auto_columns": null,
            "grid_auto_flow": null,
            "grid_auto_rows": null,
            "grid_column": null,
            "grid_gap": null,
            "grid_row": null,
            "grid_template_areas": null,
            "grid_template_columns": null,
            "grid_template_rows": null,
            "height": null,
            "justify_content": null,
            "justify_items": null,
            "left": null,
            "margin": null,
            "max_height": null,
            "max_width": null,
            "min_height": null,
            "min_width": null,
            "object_fit": null,
            "object_position": null,
            "order": null,
            "overflow": null,
            "overflow_x": null,
            "overflow_y": null,
            "padding": null,
            "right": null,
            "top": null,
            "visibility": null,
            "width": null
          }
        },
        "52268584151246dfa1e507c4c523fe07": {
          "model_module": "@jupyter-widgets/controls",
          "model_name": "ProgressStyleModel",
          "model_module_version": "1.5.0",
          "state": {
            "_model_module": "@jupyter-widgets/controls",
            "_model_module_version": "1.5.0",
            "_model_name": "ProgressStyleModel",
            "_view_count": null,
            "_view_module": "@jupyter-widgets/base",
            "_view_module_version": "1.2.0",
            "_view_name": "StyleView",
            "bar_color": null,
            "description_width": ""
          }
        },
        "426c530629b3415dbbb78de1c7265361": {
          "model_module": "@jupyter-widgets/base",
          "model_name": "LayoutModel",
          "model_module_version": "1.2.0",
          "state": {
            "_model_module": "@jupyter-widgets/base",
            "_model_module_version": "1.2.0",
            "_model_name": "LayoutModel",
            "_view_count": null,
            "_view_module": "@jupyter-widgets/base",
            "_view_module_version": "1.2.0",
            "_view_name": "LayoutView",
            "align_content": null,
            "align_items": null,
            "align_self": null,
            "border": null,
            "bottom": null,
            "display": null,
            "flex": null,
            "flex_flow": null,
            "grid_area": null,
            "grid_auto_columns": null,
            "grid_auto_flow": null,
            "grid_auto_rows": null,
            "grid_column": null,
            "grid_gap": null,
            "grid_row": null,
            "grid_template_areas": null,
            "grid_template_columns": null,
            "grid_template_rows": null,
            "height": null,
            "justify_content": null,
            "justify_items": null,
            "left": null,
            "margin": null,
            "max_height": null,
            "max_width": null,
            "min_height": null,
            "min_width": null,
            "object_fit": null,
            "object_position": null,
            "order": null,
            "overflow": null,
            "overflow_x": null,
            "overflow_y": null,
            "padding": null,
            "right": null,
            "top": null,
            "visibility": null,
            "width": null
          }
        },
        "204008bc91b247b0983ffd344f84d77c": {
          "model_module": "@jupyter-widgets/controls",
          "model_name": "DescriptionStyleModel",
          "model_module_version": "1.5.0",
          "state": {
            "_model_module": "@jupyter-widgets/controls",
            "_model_module_version": "1.5.0",
            "_model_name": "DescriptionStyleModel",
            "_view_count": null,
            "_view_module": "@jupyter-widgets/base",
            "_view_module_version": "1.2.0",
            "_view_name": "StyleView",
            "description_width": ""
          }
        },
        "423cb3c9f04b4e79863f5415b42dd830": {
          "model_module": "@jupyter-widgets/controls",
          "model_name": "HBoxModel",
          "model_module_version": "1.5.0",
          "state": {
            "_dom_classes": [],
            "_model_module": "@jupyter-widgets/controls",
            "_model_module_version": "1.5.0",
            "_model_name": "HBoxModel",
            "_view_count": null,
            "_view_module": "@jupyter-widgets/controls",
            "_view_module_version": "1.5.0",
            "_view_name": "HBoxView",
            "box_style": "",
            "children": [
              "IPY_MODEL_2be03ff04bfb4980893f8a7db5a78f06",
              "IPY_MODEL_5faddb8507b742f18b0d4b0cd0eb6b15",
              "IPY_MODEL_4b2e7b50fd1747b5af061d6ae588d0ac"
            ],
            "layout": "IPY_MODEL_3caa88f8dded48f8842304d770ff6026"
          }
        },
        "2be03ff04bfb4980893f8a7db5a78f06": {
          "model_module": "@jupyter-widgets/controls",
          "model_name": "HTMLModel",
          "model_module_version": "1.5.0",
          "state": {
            "_dom_classes": [],
            "_model_module": "@jupyter-widgets/controls",
            "_model_module_version": "1.5.0",
            "_model_name": "HTMLModel",
            "_view_count": null,
            "_view_module": "@jupyter-widgets/controls",
            "_view_module_version": "1.5.0",
            "_view_name": "HTMLView",
            "description": "",
            "description_tooltip": null,
            "layout": "IPY_MODEL_9e3855d6c0d34715975b226fad30452b",
            "placeholder": "​",
            "style": "IPY_MODEL_63a3e63ad2fd420f8a90ebabae02413f",
            "value": "pytorch_model.bin: 100%"
          }
        },
        "5faddb8507b742f18b0d4b0cd0eb6b15": {
          "model_module": "@jupyter-widgets/controls",
          "model_name": "FloatProgressModel",
          "model_module_version": "1.5.0",
          "state": {
            "_dom_classes": [],
            "_model_module": "@jupyter-widgets/controls",
            "_model_module_version": "1.5.0",
            "_model_name": "FloatProgressModel",
            "_view_count": null,
            "_view_module": "@jupyter-widgets/controls",
            "_view_module_version": "1.5.0",
            "_view_name": "ProgressView",
            "bar_style": "success",
            "description": "",
            "description_tooltip": null,
            "layout": "IPY_MODEL_e6d4ff5bfc924ef8bee1225f7ae16908",
            "max": 605266175,
            "min": 0,
            "orientation": "horizontal",
            "style": "IPY_MODEL_a93a87db272c4af989053e7a635e0746",
            "value": 605266175
          }
        },
        "4b2e7b50fd1747b5af061d6ae588d0ac": {
          "model_module": "@jupyter-widgets/controls",
          "model_name": "HTMLModel",
          "model_module_version": "1.5.0",
          "state": {
            "_dom_classes": [],
            "_model_module": "@jupyter-widgets/controls",
            "_model_module_version": "1.5.0",
            "_model_name": "HTMLModel",
            "_view_count": null,
            "_view_module": "@jupyter-widgets/controls",
            "_view_module_version": "1.5.0",
            "_view_name": "HTMLView",
            "description": "",
            "description_tooltip": null,
            "layout": "IPY_MODEL_61e3f16ecd8b45c3872402ccecbe816d",
            "placeholder": "​",
            "style": "IPY_MODEL_a3fb1fae014349008f0272b939b7ab4b",
            "value": " 605M/605M [00:08&lt;00:00, 115MB/s]"
          }
        },
        "3caa88f8dded48f8842304d770ff6026": {
          "model_module": "@jupyter-widgets/base",
          "model_name": "LayoutModel",
          "model_module_version": "1.2.0",
          "state": {
            "_model_module": "@jupyter-widgets/base",
            "_model_module_version": "1.2.0",
            "_model_name": "LayoutModel",
            "_view_count": null,
            "_view_module": "@jupyter-widgets/base",
            "_view_module_version": "1.2.0",
            "_view_name": "LayoutView",
            "align_content": null,
            "align_items": null,
            "align_self": null,
            "border": null,
            "bottom": null,
            "display": null,
            "flex": null,
            "flex_flow": null,
            "grid_area": null,
            "grid_auto_columns": null,
            "grid_auto_flow": null,
            "grid_auto_rows": null,
            "grid_column": null,
            "grid_gap": null,
            "grid_row": null,
            "grid_template_areas": null,
            "grid_template_columns": null,
            "grid_template_rows": null,
            "height": null,
            "justify_content": null,
            "justify_items": null,
            "left": null,
            "margin": null,
            "max_height": null,
            "max_width": null,
            "min_height": null,
            "min_width": null,
            "object_fit": null,
            "object_position": null,
            "order": null,
            "overflow": null,
            "overflow_x": null,
            "overflow_y": null,
            "padding": null,
            "right": null,
            "top": null,
            "visibility": null,
            "width": null
          }
        },
        "9e3855d6c0d34715975b226fad30452b": {
          "model_module": "@jupyter-widgets/base",
          "model_name": "LayoutModel",
          "model_module_version": "1.2.0",
          "state": {
            "_model_module": "@jupyter-widgets/base",
            "_model_module_version": "1.2.0",
            "_model_name": "LayoutModel",
            "_view_count": null,
            "_view_module": "@jupyter-widgets/base",
            "_view_module_version": "1.2.0",
            "_view_name": "LayoutView",
            "align_content": null,
            "align_items": null,
            "align_self": null,
            "border": null,
            "bottom": null,
            "display": null,
            "flex": null,
            "flex_flow": null,
            "grid_area": null,
            "grid_auto_columns": null,
            "grid_auto_flow": null,
            "grid_auto_rows": null,
            "grid_column": null,
            "grid_gap": null,
            "grid_row": null,
            "grid_template_areas": null,
            "grid_template_columns": null,
            "grid_template_rows": null,
            "height": null,
            "justify_content": null,
            "justify_items": null,
            "left": null,
            "margin": null,
            "max_height": null,
            "max_width": null,
            "min_height": null,
            "min_width": null,
            "object_fit": null,
            "object_position": null,
            "order": null,
            "overflow": null,
            "overflow_x": null,
            "overflow_y": null,
            "padding": null,
            "right": null,
            "top": null,
            "visibility": null,
            "width": null
          }
        },
        "63a3e63ad2fd420f8a90ebabae02413f": {
          "model_module": "@jupyter-widgets/controls",
          "model_name": "DescriptionStyleModel",
          "model_module_version": "1.5.0",
          "state": {
            "_model_module": "@jupyter-widgets/controls",
            "_model_module_version": "1.5.0",
            "_model_name": "DescriptionStyleModel",
            "_view_count": null,
            "_view_module": "@jupyter-widgets/base",
            "_view_module_version": "1.2.0",
            "_view_name": "StyleView",
            "description_width": ""
          }
        },
        "e6d4ff5bfc924ef8bee1225f7ae16908": {
          "model_module": "@jupyter-widgets/base",
          "model_name": "LayoutModel",
          "model_module_version": "1.2.0",
          "state": {
            "_model_module": "@jupyter-widgets/base",
            "_model_module_version": "1.2.0",
            "_model_name": "LayoutModel",
            "_view_count": null,
            "_view_module": "@jupyter-widgets/base",
            "_view_module_version": "1.2.0",
            "_view_name": "LayoutView",
            "align_content": null,
            "align_items": null,
            "align_self": null,
            "border": null,
            "bottom": null,
            "display": null,
            "flex": null,
            "flex_flow": null,
            "grid_area": null,
            "grid_auto_columns": null,
            "grid_auto_flow": null,
            "grid_auto_rows": null,
            "grid_column": null,
            "grid_gap": null,
            "grid_row": null,
            "grid_template_areas": null,
            "grid_template_columns": null,
            "grid_template_rows": null,
            "height": null,
            "justify_content": null,
            "justify_items": null,
            "left": null,
            "margin": null,
            "max_height": null,
            "max_width": null,
            "min_height": null,
            "min_width": null,
            "object_fit": null,
            "object_position": null,
            "order": null,
            "overflow": null,
            "overflow_x": null,
            "overflow_y": null,
            "padding": null,
            "right": null,
            "top": null,
            "visibility": null,
            "width": null
          }
        },
        "a93a87db272c4af989053e7a635e0746": {
          "model_module": "@jupyter-widgets/controls",
          "model_name": "ProgressStyleModel",
          "model_module_version": "1.5.0",
          "state": {
            "_model_module": "@jupyter-widgets/controls",
            "_model_module_version": "1.5.0",
            "_model_name": "ProgressStyleModel",
            "_view_count": null,
            "_view_module": "@jupyter-widgets/base",
            "_view_module_version": "1.2.0",
            "_view_name": "StyleView",
            "bar_color": null,
            "description_width": ""
          }
        },
        "61e3f16ecd8b45c3872402ccecbe816d": {
          "model_module": "@jupyter-widgets/base",
          "model_name": "LayoutModel",
          "model_module_version": "1.2.0",
          "state": {
            "_model_module": "@jupyter-widgets/base",
            "_model_module_version": "1.2.0",
            "_model_name": "LayoutModel",
            "_view_count": null,
            "_view_module": "@jupyter-widgets/base",
            "_view_module_version": "1.2.0",
            "_view_name": "LayoutView",
            "align_content": null,
            "align_items": null,
            "align_self": null,
            "border": null,
            "bottom": null,
            "display": null,
            "flex": null,
            "flex_flow": null,
            "grid_area": null,
            "grid_auto_columns": null,
            "grid_auto_flow": null,
            "grid_auto_rows": null,
            "grid_column": null,
            "grid_gap": null,
            "grid_row": null,
            "grid_template_areas": null,
            "grid_template_columns": null,
            "grid_template_rows": null,
            "height": null,
            "justify_content": null,
            "justify_items": null,
            "left": null,
            "margin": null,
            "max_height": null,
            "max_width": null,
            "min_height": null,
            "min_width": null,
            "object_fit": null,
            "object_position": null,
            "order": null,
            "overflow": null,
            "overflow_x": null,
            "overflow_y": null,
            "padding": null,
            "right": null,
            "top": null,
            "visibility": null,
            "width": null
          }
        },
        "a3fb1fae014349008f0272b939b7ab4b": {
          "model_module": "@jupyter-widgets/controls",
          "model_name": "DescriptionStyleModel",
          "model_module_version": "1.5.0",
          "state": {
            "_model_module": "@jupyter-widgets/controls",
            "_model_module_version": "1.5.0",
            "_model_name": "DescriptionStyleModel",
            "_view_count": null,
            "_view_module": "@jupyter-widgets/base",
            "_view_module_version": "1.2.0",
            "_view_name": "StyleView",
            "description_width": ""
          }
        },
        "f122ab70f6e0455cb2815b3b2a02c4f1": {
          "model_module": "@jupyter-widgets/controls",
          "model_name": "HBoxModel",
          "model_module_version": "1.5.0",
          "state": {
            "_dom_classes": [],
            "_model_module": "@jupyter-widgets/controls",
            "_model_module_version": "1.5.0",
            "_model_name": "HBoxModel",
            "_view_count": null,
            "_view_module": "@jupyter-widgets/controls",
            "_view_module_version": "1.5.0",
            "_view_name": "HBoxView",
            "box_style": "",
            "children": [
              "IPY_MODEL_900e799f9fd5454ea11de9eead544782",
              "IPY_MODEL_fd37403b421e4e8d8ee4576a020e7864",
              "IPY_MODEL_1978e7820e814a2da2424500897e3d33"
            ],
            "layout": "IPY_MODEL_4ed9a8be06fe496e97e9cb033571bbb3"
          }
        },
        "900e799f9fd5454ea11de9eead544782": {
          "model_module": "@jupyter-widgets/controls",
          "model_name": "HTMLModel",
          "model_module_version": "1.5.0",
          "state": {
            "_dom_classes": [],
            "_model_module": "@jupyter-widgets/controls",
            "_model_module_version": "1.5.0",
            "_model_name": "HTMLModel",
            "_view_count": null,
            "_view_module": "@jupyter-widgets/controls",
            "_view_module_version": "1.5.0",
            "_view_name": "HTMLView",
            "description": "",
            "description_tooltip": null,
            "layout": "IPY_MODEL_e99ab8a068bf43fc878d9f0930dd7c65",
            "placeholder": "​",
            "style": "IPY_MODEL_cee55cdf6ca245bcb2fa9680b8480bf6",
            "value": "modules.json: 100%"
          }
        },
        "fd37403b421e4e8d8ee4576a020e7864": {
          "model_module": "@jupyter-widgets/controls",
          "model_name": "FloatProgressModel",
          "model_module_version": "1.5.0",
          "state": {
            "_dom_classes": [],
            "_model_module": "@jupyter-widgets/controls",
            "_model_module_version": "1.5.0",
            "_model_name": "FloatProgressModel",
            "_view_count": null,
            "_view_module": "@jupyter-widgets/controls",
            "_view_module_version": "1.5.0",
            "_view_name": "ProgressView",
            "bar_style": "success",
            "description": "",
            "description_tooltip": null,
            "layout": "IPY_MODEL_e63045e70aec4af2b41cf73832343b60",
            "max": 229,
            "min": 0,
            "orientation": "horizontal",
            "style": "IPY_MODEL_2e363643b34e4cdeb58f8d5550f21145",
            "value": 229
          }
        },
        "1978e7820e814a2da2424500897e3d33": {
          "model_module": "@jupyter-widgets/controls",
          "model_name": "HTMLModel",
          "model_module_version": "1.5.0",
          "state": {
            "_dom_classes": [],
            "_model_module": "@jupyter-widgets/controls",
            "_model_module_version": "1.5.0",
            "_model_name": "HTMLModel",
            "_view_count": null,
            "_view_module": "@jupyter-widgets/controls",
            "_view_module_version": "1.5.0",
            "_view_name": "HTMLView",
            "description": "",
            "description_tooltip": null,
            "layout": "IPY_MODEL_48df43b4ad72453a965abcc5b83ee2ed",
            "placeholder": "​",
            "style": "IPY_MODEL_b70314e63d484d8e96eaf2b7983ea517",
            "value": " 229/229 [00:00&lt;00:00, 9.53kB/s]"
          }
        },
        "4ed9a8be06fe496e97e9cb033571bbb3": {
          "model_module": "@jupyter-widgets/base",
          "model_name": "LayoutModel",
          "model_module_version": "1.2.0",
          "state": {
            "_model_module": "@jupyter-widgets/base",
            "_model_module_version": "1.2.0",
            "_model_name": "LayoutModel",
            "_view_count": null,
            "_view_module": "@jupyter-widgets/base",
            "_view_module_version": "1.2.0",
            "_view_name": "LayoutView",
            "align_content": null,
            "align_items": null,
            "align_self": null,
            "border": null,
            "bottom": null,
            "display": null,
            "flex": null,
            "flex_flow": null,
            "grid_area": null,
            "grid_auto_columns": null,
            "grid_auto_flow": null,
            "grid_auto_rows": null,
            "grid_column": null,
            "grid_gap": null,
            "grid_row": null,
            "grid_template_areas": null,
            "grid_template_columns": null,
            "grid_template_rows": null,
            "height": null,
            "justify_content": null,
            "justify_items": null,
            "left": null,
            "margin": null,
            "max_height": null,
            "max_width": null,
            "min_height": null,
            "min_width": null,
            "object_fit": null,
            "object_position": null,
            "order": null,
            "overflow": null,
            "overflow_x": null,
            "overflow_y": null,
            "padding": null,
            "right": null,
            "top": null,
            "visibility": null,
            "width": null
          }
        },
        "e99ab8a068bf43fc878d9f0930dd7c65": {
          "model_module": "@jupyter-widgets/base",
          "model_name": "LayoutModel",
          "model_module_version": "1.2.0",
          "state": {
            "_model_module": "@jupyter-widgets/base",
            "_model_module_version": "1.2.0",
            "_model_name": "LayoutModel",
            "_view_count": null,
            "_view_module": "@jupyter-widgets/base",
            "_view_module_version": "1.2.0",
            "_view_name": "LayoutView",
            "align_content": null,
            "align_items": null,
            "align_self": null,
            "border": null,
            "bottom": null,
            "display": null,
            "flex": null,
            "flex_flow": null,
            "grid_area": null,
            "grid_auto_columns": null,
            "grid_auto_flow": null,
            "grid_auto_rows": null,
            "grid_column": null,
            "grid_gap": null,
            "grid_row": null,
            "grid_template_areas": null,
            "grid_template_columns": null,
            "grid_template_rows": null,
            "height": null,
            "justify_content": null,
            "justify_items": null,
            "left": null,
            "margin": null,
            "max_height": null,
            "max_width": null,
            "min_height": null,
            "min_width": null,
            "object_fit": null,
            "object_position": null,
            "order": null,
            "overflow": null,
            "overflow_x": null,
            "overflow_y": null,
            "padding": null,
            "right": null,
            "top": null,
            "visibility": null,
            "width": null
          }
        },
        "cee55cdf6ca245bcb2fa9680b8480bf6": {
          "model_module": "@jupyter-widgets/controls",
          "model_name": "DescriptionStyleModel",
          "model_module_version": "1.5.0",
          "state": {
            "_model_module": "@jupyter-widgets/controls",
            "_model_module_version": "1.5.0",
            "_model_name": "DescriptionStyleModel",
            "_view_count": null,
            "_view_module": "@jupyter-widgets/base",
            "_view_module_version": "1.2.0",
            "_view_name": "StyleView",
            "description_width": ""
          }
        },
        "e63045e70aec4af2b41cf73832343b60": {
          "model_module": "@jupyter-widgets/base",
          "model_name": "LayoutModel",
          "model_module_version": "1.2.0",
          "state": {
            "_model_module": "@jupyter-widgets/base",
            "_model_module_version": "1.2.0",
            "_model_name": "LayoutModel",
            "_view_count": null,
            "_view_module": "@jupyter-widgets/base",
            "_view_module_version": "1.2.0",
            "_view_name": "LayoutView",
            "align_content": null,
            "align_items": null,
            "align_self": null,
            "border": null,
            "bottom": null,
            "display": null,
            "flex": null,
            "flex_flow": null,
            "grid_area": null,
            "grid_auto_columns": null,
            "grid_auto_flow": null,
            "grid_auto_rows": null,
            "grid_column": null,
            "grid_gap": null,
            "grid_row": null,
            "grid_template_areas": null,
            "grid_template_columns": null,
            "grid_template_rows": null,
            "height": null,
            "justify_content": null,
            "justify_items": null,
            "left": null,
            "margin": null,
            "max_height": null,
            "max_width": null,
            "min_height": null,
            "min_width": null,
            "object_fit": null,
            "object_position": null,
            "order": null,
            "overflow": null,
            "overflow_x": null,
            "overflow_y": null,
            "padding": null,
            "right": null,
            "top": null,
            "visibility": null,
            "width": null
          }
        },
        "2e363643b34e4cdeb58f8d5550f21145": {
          "model_module": "@jupyter-widgets/controls",
          "model_name": "ProgressStyleModel",
          "model_module_version": "1.5.0",
          "state": {
            "_model_module": "@jupyter-widgets/controls",
            "_model_module_version": "1.5.0",
            "_model_name": "ProgressStyleModel",
            "_view_count": null,
            "_view_module": "@jupyter-widgets/base",
            "_view_module_version": "1.2.0",
            "_view_name": "StyleView",
            "bar_color": null,
            "description_width": ""
          }
        },
        "48df43b4ad72453a965abcc5b83ee2ed": {
          "model_module": "@jupyter-widgets/base",
          "model_name": "LayoutModel",
          "model_module_version": "1.2.0",
          "state": {
            "_model_module": "@jupyter-widgets/base",
            "_model_module_version": "1.2.0",
            "_model_name": "LayoutModel",
            "_view_count": null,
            "_view_module": "@jupyter-widgets/base",
            "_view_module_version": "1.2.0",
            "_view_name": "LayoutView",
            "align_content": null,
            "align_items": null,
            "align_self": null,
            "border": null,
            "bottom": null,
            "display": null,
            "flex": null,
            "flex_flow": null,
            "grid_area": null,
            "grid_auto_columns": null,
            "grid_auto_flow": null,
            "grid_auto_rows": null,
            "grid_column": null,
            "grid_gap": null,
            "grid_row": null,
            "grid_template_areas": null,
            "grid_template_columns": null,
            "grid_template_rows": null,
            "height": null,
            "justify_content": null,
            "justify_items": null,
            "left": null,
            "margin": null,
            "max_height": null,
            "max_width": null,
            "min_height": null,
            "min_width": null,
            "object_fit": null,
            "object_position": null,
            "order": null,
            "overflow": null,
            "overflow_x": null,
            "overflow_y": null,
            "padding": null,
            "right": null,
            "top": null,
            "visibility": null,
            "width": null
          }
        },
        "b70314e63d484d8e96eaf2b7983ea517": {
          "model_module": "@jupyter-widgets/controls",
          "model_name": "DescriptionStyleModel",
          "model_module_version": "1.5.0",
          "state": {
            "_model_module": "@jupyter-widgets/controls",
            "_model_module_version": "1.5.0",
            "_model_name": "DescriptionStyleModel",
            "_view_count": null,
            "_view_module": "@jupyter-widgets/base",
            "_view_module_version": "1.2.0",
            "_view_name": "StyleView",
            "description_width": ""
          }
        },
        "369daf59db5244c2981709b52fddde62": {
          "model_module": "@jupyter-widgets/controls",
          "model_name": "HBoxModel",
          "model_module_version": "1.5.0",
          "state": {
            "_dom_classes": [],
            "_model_module": "@jupyter-widgets/controls",
            "_model_module_version": "1.5.0",
            "_model_name": "HBoxModel",
            "_view_count": null,
            "_view_module": "@jupyter-widgets/controls",
            "_view_module_version": "1.5.0",
            "_view_name": "HBoxView",
            "box_style": "",
            "children": [
              "IPY_MODEL_8d9df34bc5f545fcb8428f556c41cb3d",
              "IPY_MODEL_7d11e4b5d57c4331b017a05d1c39c7a1",
              "IPY_MODEL_3661ce6ea7ea4ddf86bf34a4a37b49da"
            ],
            "layout": "IPY_MODEL_a92937d28a8b448a8a77797ece6d5054"
          }
        },
        "8d9df34bc5f545fcb8428f556c41cb3d": {
          "model_module": "@jupyter-widgets/controls",
          "model_name": "HTMLModel",
          "model_module_version": "1.5.0",
          "state": {
            "_dom_classes": [],
            "_model_module": "@jupyter-widgets/controls",
            "_model_module_version": "1.5.0",
            "_model_name": "HTMLModel",
            "_view_count": null,
            "_view_module": "@jupyter-widgets/controls",
            "_view_module_version": "1.5.0",
            "_view_name": "HTMLView",
            "description": "",
            "description_tooltip": null,
            "layout": "IPY_MODEL_7c578ac79a8444fe858054bd6e68f83c",
            "placeholder": "​",
            "style": "IPY_MODEL_3fc890e0f4cb4a1bb6ddea676610f5ca",
            "value": "config_sentence_transformers.json: 100%"
          }
        },
        "7d11e4b5d57c4331b017a05d1c39c7a1": {
          "model_module": "@jupyter-widgets/controls",
          "model_name": "FloatProgressModel",
          "model_module_version": "1.5.0",
          "state": {
            "_dom_classes": [],
            "_model_module": "@jupyter-widgets/controls",
            "_model_module_version": "1.5.0",
            "_model_name": "FloatProgressModel",
            "_view_count": null,
            "_view_module": "@jupyter-widgets/controls",
            "_view_module_version": "1.5.0",
            "_view_name": "ProgressView",
            "bar_style": "success",
            "description": "",
            "description_tooltip": null,
            "layout": "IPY_MODEL_23e26fc2dea24e2fbd80fc970a1d6269",
            "max": 122,
            "min": 0,
            "orientation": "horizontal",
            "style": "IPY_MODEL_d0c48ebe997e484d8d6164179e4b3d75",
            "value": 122
          }
        },
        "3661ce6ea7ea4ddf86bf34a4a37b49da": {
          "model_module": "@jupyter-widgets/controls",
          "model_name": "HTMLModel",
          "model_module_version": "1.5.0",
          "state": {
            "_dom_classes": [],
            "_model_module": "@jupyter-widgets/controls",
            "_model_module_version": "1.5.0",
            "_model_name": "HTMLModel",
            "_view_count": null,
            "_view_module": "@jupyter-widgets/controls",
            "_view_module_version": "1.5.0",
            "_view_name": "HTMLView",
            "description": "",
            "description_tooltip": null,
            "layout": "IPY_MODEL_9127ca7da5d449ceb82567c44b6ef52c",
            "placeholder": "​",
            "style": "IPY_MODEL_347014b5918b4c1db760621db069f9ee",
            "value": " 122/122 [00:00&lt;00:00, 6.42kB/s]"
          }
        },
        "a92937d28a8b448a8a77797ece6d5054": {
          "model_module": "@jupyter-widgets/base",
          "model_name": "LayoutModel",
          "model_module_version": "1.2.0",
          "state": {
            "_model_module": "@jupyter-widgets/base",
            "_model_module_version": "1.2.0",
            "_model_name": "LayoutModel",
            "_view_count": null,
            "_view_module": "@jupyter-widgets/base",
            "_view_module_version": "1.2.0",
            "_view_name": "LayoutView",
            "align_content": null,
            "align_items": null,
            "align_self": null,
            "border": null,
            "bottom": null,
            "display": null,
            "flex": null,
            "flex_flow": null,
            "grid_area": null,
            "grid_auto_columns": null,
            "grid_auto_flow": null,
            "grid_auto_rows": null,
            "grid_column": null,
            "grid_gap": null,
            "grid_row": null,
            "grid_template_areas": null,
            "grid_template_columns": null,
            "grid_template_rows": null,
            "height": null,
            "justify_content": null,
            "justify_items": null,
            "left": null,
            "margin": null,
            "max_height": null,
            "max_width": null,
            "min_height": null,
            "min_width": null,
            "object_fit": null,
            "object_position": null,
            "order": null,
            "overflow": null,
            "overflow_x": null,
            "overflow_y": null,
            "padding": null,
            "right": null,
            "top": null,
            "visibility": null,
            "width": null
          }
        },
        "7c578ac79a8444fe858054bd6e68f83c": {
          "model_module": "@jupyter-widgets/base",
          "model_name": "LayoutModel",
          "model_module_version": "1.2.0",
          "state": {
            "_model_module": "@jupyter-widgets/base",
            "_model_module_version": "1.2.0",
            "_model_name": "LayoutModel",
            "_view_count": null,
            "_view_module": "@jupyter-widgets/base",
            "_view_module_version": "1.2.0",
            "_view_name": "LayoutView",
            "align_content": null,
            "align_items": null,
            "align_self": null,
            "border": null,
            "bottom": null,
            "display": null,
            "flex": null,
            "flex_flow": null,
            "grid_area": null,
            "grid_auto_columns": null,
            "grid_auto_flow": null,
            "grid_auto_rows": null,
            "grid_column": null,
            "grid_gap": null,
            "grid_row": null,
            "grid_template_areas": null,
            "grid_template_columns": null,
            "grid_template_rows": null,
            "height": null,
            "justify_content": null,
            "justify_items": null,
            "left": null,
            "margin": null,
            "max_height": null,
            "max_width": null,
            "min_height": null,
            "min_width": null,
            "object_fit": null,
            "object_position": null,
            "order": null,
            "overflow": null,
            "overflow_x": null,
            "overflow_y": null,
            "padding": null,
            "right": null,
            "top": null,
            "visibility": null,
            "width": null
          }
        },
        "3fc890e0f4cb4a1bb6ddea676610f5ca": {
          "model_module": "@jupyter-widgets/controls",
          "model_name": "DescriptionStyleModel",
          "model_module_version": "1.5.0",
          "state": {
            "_model_module": "@jupyter-widgets/controls",
            "_model_module_version": "1.5.0",
            "_model_name": "DescriptionStyleModel",
            "_view_count": null,
            "_view_module": "@jupyter-widgets/base",
            "_view_module_version": "1.2.0",
            "_view_name": "StyleView",
            "description_width": ""
          }
        },
        "23e26fc2dea24e2fbd80fc970a1d6269": {
          "model_module": "@jupyter-widgets/base",
          "model_name": "LayoutModel",
          "model_module_version": "1.2.0",
          "state": {
            "_model_module": "@jupyter-widgets/base",
            "_model_module_version": "1.2.0",
            "_model_name": "LayoutModel",
            "_view_count": null,
            "_view_module": "@jupyter-widgets/base",
            "_view_module_version": "1.2.0",
            "_view_name": "LayoutView",
            "align_content": null,
            "align_items": null,
            "align_self": null,
            "border": null,
            "bottom": null,
            "display": null,
            "flex": null,
            "flex_flow": null,
            "grid_area": null,
            "grid_auto_columns": null,
            "grid_auto_flow": null,
            "grid_auto_rows": null,
            "grid_column": null,
            "grid_gap": null,
            "grid_row": null,
            "grid_template_areas": null,
            "grid_template_columns": null,
            "grid_template_rows": null,
            "height": null,
            "justify_content": null,
            "justify_items": null,
            "left": null,
            "margin": null,
            "max_height": null,
            "max_width": null,
            "min_height": null,
            "min_width": null,
            "object_fit": null,
            "object_position": null,
            "order": null,
            "overflow": null,
            "overflow_x": null,
            "overflow_y": null,
            "padding": null,
            "right": null,
            "top": null,
            "visibility": null,
            "width": null
          }
        },
        "d0c48ebe997e484d8d6164179e4b3d75": {
          "model_module": "@jupyter-widgets/controls",
          "model_name": "ProgressStyleModel",
          "model_module_version": "1.5.0",
          "state": {
            "_model_module": "@jupyter-widgets/controls",
            "_model_module_version": "1.5.0",
            "_model_name": "ProgressStyleModel",
            "_view_count": null,
            "_view_module": "@jupyter-widgets/base",
            "_view_module_version": "1.2.0",
            "_view_name": "StyleView",
            "bar_color": null,
            "description_width": ""
          }
        },
        "9127ca7da5d449ceb82567c44b6ef52c": {
          "model_module": "@jupyter-widgets/base",
          "model_name": "LayoutModel",
          "model_module_version": "1.2.0",
          "state": {
            "_model_module": "@jupyter-widgets/base",
            "_model_module_version": "1.2.0",
            "_model_name": "LayoutModel",
            "_view_count": null,
            "_view_module": "@jupyter-widgets/base",
            "_view_module_version": "1.2.0",
            "_view_name": "LayoutView",
            "align_content": null,
            "align_items": null,
            "align_self": null,
            "border": null,
            "bottom": null,
            "display": null,
            "flex": null,
            "flex_flow": null,
            "grid_area": null,
            "grid_auto_columns": null,
            "grid_auto_flow": null,
            "grid_auto_rows": null,
            "grid_column": null,
            "grid_gap": null,
            "grid_row": null,
            "grid_template_areas": null,
            "grid_template_columns": null,
            "grid_template_rows": null,
            "height": null,
            "justify_content": null,
            "justify_items": null,
            "left": null,
            "margin": null,
            "max_height": null,
            "max_width": null,
            "min_height": null,
            "min_width": null,
            "object_fit": null,
            "object_position": null,
            "order": null,
            "overflow": null,
            "overflow_x": null,
            "overflow_y": null,
            "padding": null,
            "right": null,
            "top": null,
            "visibility": null,
            "width": null
          }
        },
        "347014b5918b4c1db760621db069f9ee": {
          "model_module": "@jupyter-widgets/controls",
          "model_name": "DescriptionStyleModel",
          "model_module_version": "1.5.0",
          "state": {
            "_model_module": "@jupyter-widgets/controls",
            "_model_module_version": "1.5.0",
            "_model_name": "DescriptionStyleModel",
            "_view_count": null,
            "_view_module": "@jupyter-widgets/base",
            "_view_module_version": "1.2.0",
            "_view_name": "StyleView",
            "description_width": ""
          }
        },
        "9d30b5b0b6b941c7a945e268b3ec4827": {
          "model_module": "@jupyter-widgets/controls",
          "model_name": "HBoxModel",
          "model_module_version": "1.5.0",
          "state": {
            "_dom_classes": [],
            "_model_module": "@jupyter-widgets/controls",
            "_model_module_version": "1.5.0",
            "_model_name": "HBoxModel",
            "_view_count": null,
            "_view_module": "@jupyter-widgets/controls",
            "_view_module_version": "1.5.0",
            "_view_name": "HBoxView",
            "box_style": "",
            "children": [
              "IPY_MODEL_9dcb5eeb71d742a5945892e710fcd8d0",
              "IPY_MODEL_d687b7d7ea3d4617880c116ef16f7f63",
              "IPY_MODEL_8baf7cee495e44448988951f994547ac"
            ],
            "layout": "IPY_MODEL_a3793180aa8048818c195021aa8cc6ad"
          }
        },
        "9dcb5eeb71d742a5945892e710fcd8d0": {
          "model_module": "@jupyter-widgets/controls",
          "model_name": "HTMLModel",
          "model_module_version": "1.5.0",
          "state": {
            "_dom_classes": [],
            "_model_module": "@jupyter-widgets/controls",
            "_model_module_version": "1.5.0",
            "_model_name": "HTMLModel",
            "_view_count": null,
            "_view_module": "@jupyter-widgets/controls",
            "_view_module_version": "1.5.0",
            "_view_name": "HTMLView",
            "description": "",
            "description_tooltip": null,
            "layout": "IPY_MODEL_007f719622e043b4b5a9e011ceb7cafe",
            "placeholder": "​",
            "style": "IPY_MODEL_650538b909064214bc8bff8cfd6046d9",
            "value": "README.md: 100%"
          }
        },
        "d687b7d7ea3d4617880c116ef16f7f63": {
          "model_module": "@jupyter-widgets/controls",
          "model_name": "FloatProgressModel",
          "model_module_version": "1.5.0",
          "state": {
            "_dom_classes": [],
            "_model_module": "@jupyter-widgets/controls",
            "_model_module_version": "1.5.0",
            "_model_name": "FloatProgressModel",
            "_view_count": null,
            "_view_module": "@jupyter-widgets/controls",
            "_view_module_version": "1.5.0",
            "_view_name": "ProgressView",
            "bar_style": "success",
            "description": "",
            "description_tooltip": null,
            "layout": "IPY_MODEL_66a3aec5cd024479acd26baeef676153",
            "max": 3729,
            "min": 0,
            "orientation": "horizontal",
            "style": "IPY_MODEL_f840d16ed7194bcfb1f5ec0f7228a604",
            "value": 3729
          }
        },
        "8baf7cee495e44448988951f994547ac": {
          "model_module": "@jupyter-widgets/controls",
          "model_name": "HTMLModel",
          "model_module_version": "1.5.0",
          "state": {
            "_dom_classes": [],
            "_model_module": "@jupyter-widgets/controls",
            "_model_module_version": "1.5.0",
            "_model_name": "HTMLModel",
            "_view_count": null,
            "_view_module": "@jupyter-widgets/controls",
            "_view_module_version": "1.5.0",
            "_view_name": "HTMLView",
            "description": "",
            "description_tooltip": null,
            "layout": "IPY_MODEL_e17875ae442d474c990c5738ad000f4b",
            "placeholder": "​",
            "style": "IPY_MODEL_6ee8d363d95248d5a7540462f67cdc40",
            "value": " 3.73k/3.73k [00:00&lt;00:00, 127kB/s]"
          }
        },
        "a3793180aa8048818c195021aa8cc6ad": {
          "model_module": "@jupyter-widgets/base",
          "model_name": "LayoutModel",
          "model_module_version": "1.2.0",
          "state": {
            "_model_module": "@jupyter-widgets/base",
            "_model_module_version": "1.2.0",
            "_model_name": "LayoutModel",
            "_view_count": null,
            "_view_module": "@jupyter-widgets/base",
            "_view_module_version": "1.2.0",
            "_view_name": "LayoutView",
            "align_content": null,
            "align_items": null,
            "align_self": null,
            "border": null,
            "bottom": null,
            "display": null,
            "flex": null,
            "flex_flow": null,
            "grid_area": null,
            "grid_auto_columns": null,
            "grid_auto_flow": null,
            "grid_auto_rows": null,
            "grid_column": null,
            "grid_gap": null,
            "grid_row": null,
            "grid_template_areas": null,
            "grid_template_columns": null,
            "grid_template_rows": null,
            "height": null,
            "justify_content": null,
            "justify_items": null,
            "left": null,
            "margin": null,
            "max_height": null,
            "max_width": null,
            "min_height": null,
            "min_width": null,
            "object_fit": null,
            "object_position": null,
            "order": null,
            "overflow": null,
            "overflow_x": null,
            "overflow_y": null,
            "padding": null,
            "right": null,
            "top": null,
            "visibility": null,
            "width": null
          }
        },
        "007f719622e043b4b5a9e011ceb7cafe": {
          "model_module": "@jupyter-widgets/base",
          "model_name": "LayoutModel",
          "model_module_version": "1.2.0",
          "state": {
            "_model_module": "@jupyter-widgets/base",
            "_model_module_version": "1.2.0",
            "_model_name": "LayoutModel",
            "_view_count": null,
            "_view_module": "@jupyter-widgets/base",
            "_view_module_version": "1.2.0",
            "_view_name": "LayoutView",
            "align_content": null,
            "align_items": null,
            "align_self": null,
            "border": null,
            "bottom": null,
            "display": null,
            "flex": null,
            "flex_flow": null,
            "grid_area": null,
            "grid_auto_columns": null,
            "grid_auto_flow": null,
            "grid_auto_rows": null,
            "grid_column": null,
            "grid_gap": null,
            "grid_row": null,
            "grid_template_areas": null,
            "grid_template_columns": null,
            "grid_template_rows": null,
            "height": null,
            "justify_content": null,
            "justify_items": null,
            "left": null,
            "margin": null,
            "max_height": null,
            "max_width": null,
            "min_height": null,
            "min_width": null,
            "object_fit": null,
            "object_position": null,
            "order": null,
            "overflow": null,
            "overflow_x": null,
            "overflow_y": null,
            "padding": null,
            "right": null,
            "top": null,
            "visibility": null,
            "width": null
          }
        },
        "650538b909064214bc8bff8cfd6046d9": {
          "model_module": "@jupyter-widgets/controls",
          "model_name": "DescriptionStyleModel",
          "model_module_version": "1.5.0",
          "state": {
            "_model_module": "@jupyter-widgets/controls",
            "_model_module_version": "1.5.0",
            "_model_name": "DescriptionStyleModel",
            "_view_count": null,
            "_view_module": "@jupyter-widgets/base",
            "_view_module_version": "1.2.0",
            "_view_name": "StyleView",
            "description_width": ""
          }
        },
        "66a3aec5cd024479acd26baeef676153": {
          "model_module": "@jupyter-widgets/base",
          "model_name": "LayoutModel",
          "model_module_version": "1.2.0",
          "state": {
            "_model_module": "@jupyter-widgets/base",
            "_model_module_version": "1.2.0",
            "_model_name": "LayoutModel",
            "_view_count": null,
            "_view_module": "@jupyter-widgets/base",
            "_view_module_version": "1.2.0",
            "_view_name": "LayoutView",
            "align_content": null,
            "align_items": null,
            "align_self": null,
            "border": null,
            "bottom": null,
            "display": null,
            "flex": null,
            "flex_flow": null,
            "grid_area": null,
            "grid_auto_columns": null,
            "grid_auto_flow": null,
            "grid_auto_rows": null,
            "grid_column": null,
            "grid_gap": null,
            "grid_row": null,
            "grid_template_areas": null,
            "grid_template_columns": null,
            "grid_template_rows": null,
            "height": null,
            "justify_content": null,
            "justify_items": null,
            "left": null,
            "margin": null,
            "max_height": null,
            "max_width": null,
            "min_height": null,
            "min_width": null,
            "object_fit": null,
            "object_position": null,
            "order": null,
            "overflow": null,
            "overflow_x": null,
            "overflow_y": null,
            "padding": null,
            "right": null,
            "top": null,
            "visibility": null,
            "width": null
          }
        },
        "f840d16ed7194bcfb1f5ec0f7228a604": {
          "model_module": "@jupyter-widgets/controls",
          "model_name": "ProgressStyleModel",
          "model_module_version": "1.5.0",
          "state": {
            "_model_module": "@jupyter-widgets/controls",
            "_model_module_version": "1.5.0",
            "_model_name": "ProgressStyleModel",
            "_view_count": null,
            "_view_module": "@jupyter-widgets/base",
            "_view_module_version": "1.2.0",
            "_view_name": "StyleView",
            "bar_color": null,
            "description_width": ""
          }
        },
        "e17875ae442d474c990c5738ad000f4b": {
          "model_module": "@jupyter-widgets/base",
          "model_name": "LayoutModel",
          "model_module_version": "1.2.0",
          "state": {
            "_model_module": "@jupyter-widgets/base",
            "_model_module_version": "1.2.0",
            "_model_name": "LayoutModel",
            "_view_count": null,
            "_view_module": "@jupyter-widgets/base",
            "_view_module_version": "1.2.0",
            "_view_name": "LayoutView",
            "align_content": null,
            "align_items": null,
            "align_self": null,
            "border": null,
            "bottom": null,
            "display": null,
            "flex": null,
            "flex_flow": null,
            "grid_area": null,
            "grid_auto_columns": null,
            "grid_auto_flow": null,
            "grid_auto_rows": null,
            "grid_column": null,
            "grid_gap": null,
            "grid_row": null,
            "grid_template_areas": null,
            "grid_template_columns": null,
            "grid_template_rows": null,
            "height": null,
            "justify_content": null,
            "justify_items": null,
            "left": null,
            "margin": null,
            "max_height": null,
            "max_width": null,
            "min_height": null,
            "min_width": null,
            "object_fit": null,
            "object_position": null,
            "order": null,
            "overflow": null,
            "overflow_x": null,
            "overflow_y": null,
            "padding": null,
            "right": null,
            "top": null,
            "visibility": null,
            "width": null
          }
        },
        "6ee8d363d95248d5a7540462f67cdc40": {
          "model_module": "@jupyter-widgets/controls",
          "model_name": "DescriptionStyleModel",
          "model_module_version": "1.5.0",
          "state": {
            "_model_module": "@jupyter-widgets/controls",
            "_model_module_version": "1.5.0",
            "_model_name": "DescriptionStyleModel",
            "_view_count": null,
            "_view_module": "@jupyter-widgets/base",
            "_view_module_version": "1.2.0",
            "_view_name": "StyleView",
            "description_width": ""
          }
        },
        "518872fd557f42aaa268e0e2a55b29bf": {
          "model_module": "@jupyter-widgets/controls",
          "model_name": "HBoxModel",
          "model_module_version": "1.5.0",
          "state": {
            "_dom_classes": [],
            "_model_module": "@jupyter-widgets/controls",
            "_model_module_version": "1.5.0",
            "_model_name": "HBoxModel",
            "_view_count": null,
            "_view_module": "@jupyter-widgets/controls",
            "_view_module_version": "1.5.0",
            "_view_name": "HBoxView",
            "box_style": "",
            "children": [
              "IPY_MODEL_4ad3d95430ce402e82651b256846ebec",
              "IPY_MODEL_ed29b0b3878245a0a35ef8ef4ac56449",
              "IPY_MODEL_f72ad443a1a541f786c61c6451442370"
            ],
            "layout": "IPY_MODEL_ae8f02ad0e2a48189c820348d78c2624"
          }
        },
        "4ad3d95430ce402e82651b256846ebec": {
          "model_module": "@jupyter-widgets/controls",
          "model_name": "HTMLModel",
          "model_module_version": "1.5.0",
          "state": {
            "_dom_classes": [],
            "_model_module": "@jupyter-widgets/controls",
            "_model_module_version": "1.5.0",
            "_model_name": "HTMLModel",
            "_view_count": null,
            "_view_module": "@jupyter-widgets/controls",
            "_view_module_version": "1.5.0",
            "_view_name": "HTMLView",
            "description": "",
            "description_tooltip": null,
            "layout": "IPY_MODEL_cd8964525a1b452f9fb9ead0e42b8abb",
            "placeholder": "​",
            "style": "IPY_MODEL_7a5e8e69a4614722b689e09dab8f96fb",
            "value": "sentence_bert_config.json: 100%"
          }
        },
        "ed29b0b3878245a0a35ef8ef4ac56449": {
          "model_module": "@jupyter-widgets/controls",
          "model_name": "FloatProgressModel",
          "model_module_version": "1.5.0",
          "state": {
            "_dom_classes": [],
            "_model_module": "@jupyter-widgets/controls",
            "_model_module_version": "1.5.0",
            "_model_name": "FloatProgressModel",
            "_view_count": null,
            "_view_module": "@jupyter-widgets/controls",
            "_view_module_version": "1.5.0",
            "_view_name": "ProgressView",
            "bar_style": "success",
            "description": "",
            "description_tooltip": null,
            "layout": "IPY_MODEL_d0c45e3136194902bc40d80e85c02b41",
            "max": 53,
            "min": 0,
            "orientation": "horizontal",
            "style": "IPY_MODEL_f2ce01d3b6174ab3996644d80fd02abe",
            "value": 53
          }
        },
        "f72ad443a1a541f786c61c6451442370": {
          "model_module": "@jupyter-widgets/controls",
          "model_name": "HTMLModel",
          "model_module_version": "1.5.0",
          "state": {
            "_dom_classes": [],
            "_model_module": "@jupyter-widgets/controls",
            "_model_module_version": "1.5.0",
            "_model_name": "HTMLModel",
            "_view_count": null,
            "_view_module": "@jupyter-widgets/controls",
            "_view_module_version": "1.5.0",
            "_view_name": "HTMLView",
            "description": "",
            "description_tooltip": null,
            "layout": "IPY_MODEL_b19b320ddca54fe19d27c1223222d101",
            "placeholder": "​",
            "style": "IPY_MODEL_de99fb46242e404e91c51a46fe6c4a89",
            "value": " 53.0/53.0 [00:00&lt;00:00, 803B/s]"
          }
        },
        "ae8f02ad0e2a48189c820348d78c2624": {
          "model_module": "@jupyter-widgets/base",
          "model_name": "LayoutModel",
          "model_module_version": "1.2.0",
          "state": {
            "_model_module": "@jupyter-widgets/base",
            "_model_module_version": "1.2.0",
            "_model_name": "LayoutModel",
            "_view_count": null,
            "_view_module": "@jupyter-widgets/base",
            "_view_module_version": "1.2.0",
            "_view_name": "LayoutView",
            "align_content": null,
            "align_items": null,
            "align_self": null,
            "border": null,
            "bottom": null,
            "display": null,
            "flex": null,
            "flex_flow": null,
            "grid_area": null,
            "grid_auto_columns": null,
            "grid_auto_flow": null,
            "grid_auto_rows": null,
            "grid_column": null,
            "grid_gap": null,
            "grid_row": null,
            "grid_template_areas": null,
            "grid_template_columns": null,
            "grid_template_rows": null,
            "height": null,
            "justify_content": null,
            "justify_items": null,
            "left": null,
            "margin": null,
            "max_height": null,
            "max_width": null,
            "min_height": null,
            "min_width": null,
            "object_fit": null,
            "object_position": null,
            "order": null,
            "overflow": null,
            "overflow_x": null,
            "overflow_y": null,
            "padding": null,
            "right": null,
            "top": null,
            "visibility": null,
            "width": null
          }
        },
        "cd8964525a1b452f9fb9ead0e42b8abb": {
          "model_module": "@jupyter-widgets/base",
          "model_name": "LayoutModel",
          "model_module_version": "1.2.0",
          "state": {
            "_model_module": "@jupyter-widgets/base",
            "_model_module_version": "1.2.0",
            "_model_name": "LayoutModel",
            "_view_count": null,
            "_view_module": "@jupyter-widgets/base",
            "_view_module_version": "1.2.0",
            "_view_name": "LayoutView",
            "align_content": null,
            "align_items": null,
            "align_self": null,
            "border": null,
            "bottom": null,
            "display": null,
            "flex": null,
            "flex_flow": null,
            "grid_area": null,
            "grid_auto_columns": null,
            "grid_auto_flow": null,
            "grid_auto_rows": null,
            "grid_column": null,
            "grid_gap": null,
            "grid_row": null,
            "grid_template_areas": null,
            "grid_template_columns": null,
            "grid_template_rows": null,
            "height": null,
            "justify_content": null,
            "justify_items": null,
            "left": null,
            "margin": null,
            "max_height": null,
            "max_width": null,
            "min_height": null,
            "min_width": null,
            "object_fit": null,
            "object_position": null,
            "order": null,
            "overflow": null,
            "overflow_x": null,
            "overflow_y": null,
            "padding": null,
            "right": null,
            "top": null,
            "visibility": null,
            "width": null
          }
        },
        "7a5e8e69a4614722b689e09dab8f96fb": {
          "model_module": "@jupyter-widgets/controls",
          "model_name": "DescriptionStyleModel",
          "model_module_version": "1.5.0",
          "state": {
            "_model_module": "@jupyter-widgets/controls",
            "_model_module_version": "1.5.0",
            "_model_name": "DescriptionStyleModel",
            "_view_count": null,
            "_view_module": "@jupyter-widgets/base",
            "_view_module_version": "1.2.0",
            "_view_name": "StyleView",
            "description_width": ""
          }
        },
        "d0c45e3136194902bc40d80e85c02b41": {
          "model_module": "@jupyter-widgets/base",
          "model_name": "LayoutModel",
          "model_module_version": "1.2.0",
          "state": {
            "_model_module": "@jupyter-widgets/base",
            "_model_module_version": "1.2.0",
            "_model_name": "LayoutModel",
            "_view_count": null,
            "_view_module": "@jupyter-widgets/base",
            "_view_module_version": "1.2.0",
            "_view_name": "LayoutView",
            "align_content": null,
            "align_items": null,
            "align_self": null,
            "border": null,
            "bottom": null,
            "display": null,
            "flex": null,
            "flex_flow": null,
            "grid_area": null,
            "grid_auto_columns": null,
            "grid_auto_flow": null,
            "grid_auto_rows": null,
            "grid_column": null,
            "grid_gap": null,
            "grid_row": null,
            "grid_template_areas": null,
            "grid_template_columns": null,
            "grid_template_rows": null,
            "height": null,
            "justify_content": null,
            "justify_items": null,
            "left": null,
            "margin": null,
            "max_height": null,
            "max_width": null,
            "min_height": null,
            "min_width": null,
            "object_fit": null,
            "object_position": null,
            "order": null,
            "overflow": null,
            "overflow_x": null,
            "overflow_y": null,
            "padding": null,
            "right": null,
            "top": null,
            "visibility": null,
            "width": null
          }
        },
        "f2ce01d3b6174ab3996644d80fd02abe": {
          "model_module": "@jupyter-widgets/controls",
          "model_name": "ProgressStyleModel",
          "model_module_version": "1.5.0",
          "state": {
            "_model_module": "@jupyter-widgets/controls",
            "_model_module_version": "1.5.0",
            "_model_name": "ProgressStyleModel",
            "_view_count": null,
            "_view_module": "@jupyter-widgets/base",
            "_view_module_version": "1.2.0",
            "_view_name": "StyleView",
            "bar_color": null,
            "description_width": ""
          }
        },
        "b19b320ddca54fe19d27c1223222d101": {
          "model_module": "@jupyter-widgets/base",
          "model_name": "LayoutModel",
          "model_module_version": "1.2.0",
          "state": {
            "_model_module": "@jupyter-widgets/base",
            "_model_module_version": "1.2.0",
            "_model_name": "LayoutModel",
            "_view_count": null,
            "_view_module": "@jupyter-widgets/base",
            "_view_module_version": "1.2.0",
            "_view_name": "LayoutView",
            "align_content": null,
            "align_items": null,
            "align_self": null,
            "border": null,
            "bottom": null,
            "display": null,
            "flex": null,
            "flex_flow": null,
            "grid_area": null,
            "grid_auto_columns": null,
            "grid_auto_flow": null,
            "grid_auto_rows": null,
            "grid_column": null,
            "grid_gap": null,
            "grid_row": null,
            "grid_template_areas": null,
            "grid_template_columns": null,
            "grid_template_rows": null,
            "height": null,
            "justify_content": null,
            "justify_items": null,
            "left": null,
            "margin": null,
            "max_height": null,
            "max_width": null,
            "min_height": null,
            "min_width": null,
            "object_fit": null,
            "object_position": null,
            "order": null,
            "overflow": null,
            "overflow_x": null,
            "overflow_y": null,
            "padding": null,
            "right": null,
            "top": null,
            "visibility": null,
            "width": null
          }
        },
        "de99fb46242e404e91c51a46fe6c4a89": {
          "model_module": "@jupyter-widgets/controls",
          "model_name": "DescriptionStyleModel",
          "model_module_version": "1.5.0",
          "state": {
            "_model_module": "@jupyter-widgets/controls",
            "_model_module_version": "1.5.0",
            "_model_name": "DescriptionStyleModel",
            "_view_count": null,
            "_view_module": "@jupyter-widgets/base",
            "_view_module_version": "1.2.0",
            "_view_name": "StyleView",
            "description_width": ""
          }
        },
        "7f446bfe0cba4f0089e332ffa9cc2b9b": {
          "model_module": "@jupyter-widgets/controls",
          "model_name": "HBoxModel",
          "model_module_version": "1.5.0",
          "state": {
            "_dom_classes": [],
            "_model_module": "@jupyter-widgets/controls",
            "_model_module_version": "1.5.0",
            "_model_name": "HBoxModel",
            "_view_count": null,
            "_view_module": "@jupyter-widgets/controls",
            "_view_module_version": "1.5.0",
            "_view_name": "HBoxView",
            "box_style": "",
            "children": [
              "IPY_MODEL_071864c4dfb245c58a808d8d1b21c42a",
              "IPY_MODEL_b155406fe0634d89ba9846781b0cb9b1",
              "IPY_MODEL_01de26b1c3394df7ba0180b06d02c8a7"
            ],
            "layout": "IPY_MODEL_19741d43b9764cbbab11d59814da4dc6"
          }
        },
        "071864c4dfb245c58a808d8d1b21c42a": {
          "model_module": "@jupyter-widgets/controls",
          "model_name": "HTMLModel",
          "model_module_version": "1.5.0",
          "state": {
            "_dom_classes": [],
            "_model_module": "@jupyter-widgets/controls",
            "_model_module_version": "1.5.0",
            "_model_name": "HTMLModel",
            "_view_count": null,
            "_view_module": "@jupyter-widgets/controls",
            "_view_module_version": "1.5.0",
            "_view_name": "HTMLView",
            "description": "",
            "description_tooltip": null,
            "layout": "IPY_MODEL_1c6fdfc3c8db488bb424ec5c83c435c8",
            "placeholder": "​",
            "style": "IPY_MODEL_c82e0eca481c4c86840f5a1fdb0e991d",
            "value": "config.json: 100%"
          }
        },
        "b155406fe0634d89ba9846781b0cb9b1": {
          "model_module": "@jupyter-widgets/controls",
          "model_name": "FloatProgressModel",
          "model_module_version": "1.5.0",
          "state": {
            "_dom_classes": [],
            "_model_module": "@jupyter-widgets/controls",
            "_model_module_version": "1.5.0",
            "_model_name": "FloatProgressModel",
            "_view_count": null,
            "_view_module": "@jupyter-widgets/controls",
            "_view_module_version": "1.5.0",
            "_view_name": "ProgressView",
            "bar_style": "success",
            "description": "",
            "description_tooltip": null,
            "layout": "IPY_MODEL_294e37716294416b98e896f268716016",
            "max": 629,
            "min": 0,
            "orientation": "horizontal",
            "style": "IPY_MODEL_2c2b634e79db45b48b4a3603221f7a49",
            "value": 629
          }
        },
        "01de26b1c3394df7ba0180b06d02c8a7": {
          "model_module": "@jupyter-widgets/controls",
          "model_name": "HTMLModel",
          "model_module_version": "1.5.0",
          "state": {
            "_dom_classes": [],
            "_model_module": "@jupyter-widgets/controls",
            "_model_module_version": "1.5.0",
            "_model_name": "HTMLModel",
            "_view_count": null,
            "_view_module": "@jupyter-widgets/controls",
            "_view_module_version": "1.5.0",
            "_view_name": "HTMLView",
            "description": "",
            "description_tooltip": null,
            "layout": "IPY_MODEL_51765133e9a04e6eb55e03d0fdcc60a5",
            "placeholder": "​",
            "style": "IPY_MODEL_a3a6251a4ea8481c9c29adee52b9bd78",
            "value": " 629/629 [00:00&lt;00:00, 17.6kB/s]"
          }
        },
        "19741d43b9764cbbab11d59814da4dc6": {
          "model_module": "@jupyter-widgets/base",
          "model_name": "LayoutModel",
          "model_module_version": "1.2.0",
          "state": {
            "_model_module": "@jupyter-widgets/base",
            "_model_module_version": "1.2.0",
            "_model_name": "LayoutModel",
            "_view_count": null,
            "_view_module": "@jupyter-widgets/base",
            "_view_module_version": "1.2.0",
            "_view_name": "LayoutView",
            "align_content": null,
            "align_items": null,
            "align_self": null,
            "border": null,
            "bottom": null,
            "display": null,
            "flex": null,
            "flex_flow": null,
            "grid_area": null,
            "grid_auto_columns": null,
            "grid_auto_flow": null,
            "grid_auto_rows": null,
            "grid_column": null,
            "grid_gap": null,
            "grid_row": null,
            "grid_template_areas": null,
            "grid_template_columns": null,
            "grid_template_rows": null,
            "height": null,
            "justify_content": null,
            "justify_items": null,
            "left": null,
            "margin": null,
            "max_height": null,
            "max_width": null,
            "min_height": null,
            "min_width": null,
            "object_fit": null,
            "object_position": null,
            "order": null,
            "overflow": null,
            "overflow_x": null,
            "overflow_y": null,
            "padding": null,
            "right": null,
            "top": null,
            "visibility": null,
            "width": null
          }
        },
        "1c6fdfc3c8db488bb424ec5c83c435c8": {
          "model_module": "@jupyter-widgets/base",
          "model_name": "LayoutModel",
          "model_module_version": "1.2.0",
          "state": {
            "_model_module": "@jupyter-widgets/base",
            "_model_module_version": "1.2.0",
            "_model_name": "LayoutModel",
            "_view_count": null,
            "_view_module": "@jupyter-widgets/base",
            "_view_module_version": "1.2.0",
            "_view_name": "LayoutView",
            "align_content": null,
            "align_items": null,
            "align_self": null,
            "border": null,
            "bottom": null,
            "display": null,
            "flex": null,
            "flex_flow": null,
            "grid_area": null,
            "grid_auto_columns": null,
            "grid_auto_flow": null,
            "grid_auto_rows": null,
            "grid_column": null,
            "grid_gap": null,
            "grid_row": null,
            "grid_template_areas": null,
            "grid_template_columns": null,
            "grid_template_rows": null,
            "height": null,
            "justify_content": null,
            "justify_items": null,
            "left": null,
            "margin": null,
            "max_height": null,
            "max_width": null,
            "min_height": null,
            "min_width": null,
            "object_fit": null,
            "object_position": null,
            "order": null,
            "overflow": null,
            "overflow_x": null,
            "overflow_y": null,
            "padding": null,
            "right": null,
            "top": null,
            "visibility": null,
            "width": null
          }
        },
        "c82e0eca481c4c86840f5a1fdb0e991d": {
          "model_module": "@jupyter-widgets/controls",
          "model_name": "DescriptionStyleModel",
          "model_module_version": "1.5.0",
          "state": {
            "_model_module": "@jupyter-widgets/controls",
            "_model_module_version": "1.5.0",
            "_model_name": "DescriptionStyleModel",
            "_view_count": null,
            "_view_module": "@jupyter-widgets/base",
            "_view_module_version": "1.2.0",
            "_view_name": "StyleView",
            "description_width": ""
          }
        },
        "294e37716294416b98e896f268716016": {
          "model_module": "@jupyter-widgets/base",
          "model_name": "LayoutModel",
          "model_module_version": "1.2.0",
          "state": {
            "_model_module": "@jupyter-widgets/base",
            "_model_module_version": "1.2.0",
            "_model_name": "LayoutModel",
            "_view_count": null,
            "_view_module": "@jupyter-widgets/base",
            "_view_module_version": "1.2.0",
            "_view_name": "LayoutView",
            "align_content": null,
            "align_items": null,
            "align_self": null,
            "border": null,
            "bottom": null,
            "display": null,
            "flex": null,
            "flex_flow": null,
            "grid_area": null,
            "grid_auto_columns": null,
            "grid_auto_flow": null,
            "grid_auto_rows": null,
            "grid_column": null,
            "grid_gap": null,
            "grid_row": null,
            "grid_template_areas": null,
            "grid_template_columns": null,
            "grid_template_rows": null,
            "height": null,
            "justify_content": null,
            "justify_items": null,
            "left": null,
            "margin": null,
            "max_height": null,
            "max_width": null,
            "min_height": null,
            "min_width": null,
            "object_fit": null,
            "object_position": null,
            "order": null,
            "overflow": null,
            "overflow_x": null,
            "overflow_y": null,
            "padding": null,
            "right": null,
            "top": null,
            "visibility": null,
            "width": null
          }
        },
        "2c2b634e79db45b48b4a3603221f7a49": {
          "model_module": "@jupyter-widgets/controls",
          "model_name": "ProgressStyleModel",
          "model_module_version": "1.5.0",
          "state": {
            "_model_module": "@jupyter-widgets/controls",
            "_model_module_version": "1.5.0",
            "_model_name": "ProgressStyleModel",
            "_view_count": null,
            "_view_module": "@jupyter-widgets/base",
            "_view_module_version": "1.2.0",
            "_view_name": "StyleView",
            "bar_color": null,
            "description_width": ""
          }
        },
        "51765133e9a04e6eb55e03d0fdcc60a5": {
          "model_module": "@jupyter-widgets/base",
          "model_name": "LayoutModel",
          "model_module_version": "1.2.0",
          "state": {
            "_model_module": "@jupyter-widgets/base",
            "_model_module_version": "1.2.0",
            "_model_name": "LayoutModel",
            "_view_count": null,
            "_view_module": "@jupyter-widgets/base",
            "_view_module_version": "1.2.0",
            "_view_name": "LayoutView",
            "align_content": null,
            "align_items": null,
            "align_self": null,
            "border": null,
            "bottom": null,
            "display": null,
            "flex": null,
            "flex_flow": null,
            "grid_area": null,
            "grid_auto_columns": null,
            "grid_auto_flow": null,
            "grid_auto_rows": null,
            "grid_column": null,
            "grid_gap": null,
            "grid_row": null,
            "grid_template_areas": null,
            "grid_template_columns": null,
            "grid_template_rows": null,
            "height": null,
            "justify_content": null,
            "justify_items": null,
            "left": null,
            "margin": null,
            "max_height": null,
            "max_width": null,
            "min_height": null,
            "min_width": null,
            "object_fit": null,
            "object_position": null,
            "order": null,
            "overflow": null,
            "overflow_x": null,
            "overflow_y": null,
            "padding": null,
            "right": null,
            "top": null,
            "visibility": null,
            "width": null
          }
        },
        "a3a6251a4ea8481c9c29adee52b9bd78": {
          "model_module": "@jupyter-widgets/controls",
          "model_name": "DescriptionStyleModel",
          "model_module_version": "1.5.0",
          "state": {
            "_model_module": "@jupyter-widgets/controls",
            "_model_module_version": "1.5.0",
            "_model_name": "DescriptionStyleModel",
            "_view_count": null,
            "_view_module": "@jupyter-widgets/base",
            "_view_module_version": "1.2.0",
            "_view_name": "StyleView",
            "description_width": ""
          }
        },
        "b5ccf598493d41889e622b60707ce2ba": {
          "model_module": "@jupyter-widgets/controls",
          "model_name": "HBoxModel",
          "model_module_version": "1.5.0",
          "state": {
            "_dom_classes": [],
            "_model_module": "@jupyter-widgets/controls",
            "_model_module_version": "1.5.0",
            "_model_name": "HBoxModel",
            "_view_count": null,
            "_view_module": "@jupyter-widgets/controls",
            "_view_module_version": "1.5.0",
            "_view_name": "HBoxView",
            "box_style": "",
            "children": [
              "IPY_MODEL_b44ee9659ae5403c87d4741b61d6816d",
              "IPY_MODEL_834204bdfc2e46c99c9f32a1dac2d8c7",
              "IPY_MODEL_0efcd30e8d114445bc0d38d2029cc40d"
            ],
            "layout": "IPY_MODEL_a88bdc2a69a749f1b435cf65d45bbb54"
          }
        },
        "b44ee9659ae5403c87d4741b61d6816d": {
          "model_module": "@jupyter-widgets/controls",
          "model_name": "HTMLModel",
          "model_module_version": "1.5.0",
          "state": {
            "_dom_classes": [],
            "_model_module": "@jupyter-widgets/controls",
            "_model_module_version": "1.5.0",
            "_model_name": "HTMLModel",
            "_view_count": null,
            "_view_module": "@jupyter-widgets/controls",
            "_view_module_version": "1.5.0",
            "_view_name": "HTMLView",
            "description": "",
            "description_tooltip": null,
            "layout": "IPY_MODEL_b3a68ad9d8254819b60f254b9da259de",
            "placeholder": "​",
            "style": "IPY_MODEL_00fad9cb85374a4c94c5a51480943a2f",
            "value": "pytorch_model.bin: 100%"
          }
        },
        "834204bdfc2e46c99c9f32a1dac2d8c7": {
          "model_module": "@jupyter-widgets/controls",
          "model_name": "FloatProgressModel",
          "model_module_version": "1.5.0",
          "state": {
            "_dom_classes": [],
            "_model_module": "@jupyter-widgets/controls",
            "_model_module_version": "1.5.0",
            "_model_name": "FloatProgressModel",
            "_view_count": null,
            "_view_module": "@jupyter-widgets/controls",
            "_view_module_version": "1.5.0",
            "_view_name": "ProgressView",
            "bar_style": "success",
            "description": "",
            "description_tooltip": null,
            "layout": "IPY_MODEL_2f2bfcdcc58a466c8f5374e58655cddc",
            "max": 90895153,
            "min": 0,
            "orientation": "horizontal",
            "style": "IPY_MODEL_6863afb2abcc437097c0dfad49b49d65",
            "value": 90895153
          }
        },
        "0efcd30e8d114445bc0d38d2029cc40d": {
          "model_module": "@jupyter-widgets/controls",
          "model_name": "HTMLModel",
          "model_module_version": "1.5.0",
          "state": {
            "_dom_classes": [],
            "_model_module": "@jupyter-widgets/controls",
            "_model_module_version": "1.5.0",
            "_model_name": "HTMLModel",
            "_view_count": null,
            "_view_module": "@jupyter-widgets/controls",
            "_view_module_version": "1.5.0",
            "_view_name": "HTMLView",
            "description": "",
            "description_tooltip": null,
            "layout": "IPY_MODEL_d9010829792d42dfab220fb7addd8345",
            "placeholder": "​",
            "style": "IPY_MODEL_9cfa63c9e5f94992be1b3b01b66ede54",
            "value": " 90.9M/90.9M [00:00&lt;00:00, 102MB/s]"
          }
        },
        "a88bdc2a69a749f1b435cf65d45bbb54": {
          "model_module": "@jupyter-widgets/base",
          "model_name": "LayoutModel",
          "model_module_version": "1.2.0",
          "state": {
            "_model_module": "@jupyter-widgets/base",
            "_model_module_version": "1.2.0",
            "_model_name": "LayoutModel",
            "_view_count": null,
            "_view_module": "@jupyter-widgets/base",
            "_view_module_version": "1.2.0",
            "_view_name": "LayoutView",
            "align_content": null,
            "align_items": null,
            "align_self": null,
            "border": null,
            "bottom": null,
            "display": null,
            "flex": null,
            "flex_flow": null,
            "grid_area": null,
            "grid_auto_columns": null,
            "grid_auto_flow": null,
            "grid_auto_rows": null,
            "grid_column": null,
            "grid_gap": null,
            "grid_row": null,
            "grid_template_areas": null,
            "grid_template_columns": null,
            "grid_template_rows": null,
            "height": null,
            "justify_content": null,
            "justify_items": null,
            "left": null,
            "margin": null,
            "max_height": null,
            "max_width": null,
            "min_height": null,
            "min_width": null,
            "object_fit": null,
            "object_position": null,
            "order": null,
            "overflow": null,
            "overflow_x": null,
            "overflow_y": null,
            "padding": null,
            "right": null,
            "top": null,
            "visibility": null,
            "width": null
          }
        },
        "b3a68ad9d8254819b60f254b9da259de": {
          "model_module": "@jupyter-widgets/base",
          "model_name": "LayoutModel",
          "model_module_version": "1.2.0",
          "state": {
            "_model_module": "@jupyter-widgets/base",
            "_model_module_version": "1.2.0",
            "_model_name": "LayoutModel",
            "_view_count": null,
            "_view_module": "@jupyter-widgets/base",
            "_view_module_version": "1.2.0",
            "_view_name": "LayoutView",
            "align_content": null,
            "align_items": null,
            "align_self": null,
            "border": null,
            "bottom": null,
            "display": null,
            "flex": null,
            "flex_flow": null,
            "grid_area": null,
            "grid_auto_columns": null,
            "grid_auto_flow": null,
            "grid_auto_rows": null,
            "grid_column": null,
            "grid_gap": null,
            "grid_row": null,
            "grid_template_areas": null,
            "grid_template_columns": null,
            "grid_template_rows": null,
            "height": null,
            "justify_content": null,
            "justify_items": null,
            "left": null,
            "margin": null,
            "max_height": null,
            "max_width": null,
            "min_height": null,
            "min_width": null,
            "object_fit": null,
            "object_position": null,
            "order": null,
            "overflow": null,
            "overflow_x": null,
            "overflow_y": null,
            "padding": null,
            "right": null,
            "top": null,
            "visibility": null,
            "width": null
          }
        },
        "00fad9cb85374a4c94c5a51480943a2f": {
          "model_module": "@jupyter-widgets/controls",
          "model_name": "DescriptionStyleModel",
          "model_module_version": "1.5.0",
          "state": {
            "_model_module": "@jupyter-widgets/controls",
            "_model_module_version": "1.5.0",
            "_model_name": "DescriptionStyleModel",
            "_view_count": null,
            "_view_module": "@jupyter-widgets/base",
            "_view_module_version": "1.2.0",
            "_view_name": "StyleView",
            "description_width": ""
          }
        },
        "2f2bfcdcc58a466c8f5374e58655cddc": {
          "model_module": "@jupyter-widgets/base",
          "model_name": "LayoutModel",
          "model_module_version": "1.2.0",
          "state": {
            "_model_module": "@jupyter-widgets/base",
            "_model_module_version": "1.2.0",
            "_model_name": "LayoutModel",
            "_view_count": null,
            "_view_module": "@jupyter-widgets/base",
            "_view_module_version": "1.2.0",
            "_view_name": "LayoutView",
            "align_content": null,
            "align_items": null,
            "align_self": null,
            "border": null,
            "bottom": null,
            "display": null,
            "flex": null,
            "flex_flow": null,
            "grid_area": null,
            "grid_auto_columns": null,
            "grid_auto_flow": null,
            "grid_auto_rows": null,
            "grid_column": null,
            "grid_gap": null,
            "grid_row": null,
            "grid_template_areas": null,
            "grid_template_columns": null,
            "grid_template_rows": null,
            "height": null,
            "justify_content": null,
            "justify_items": null,
            "left": null,
            "margin": null,
            "max_height": null,
            "max_width": null,
            "min_height": null,
            "min_width": null,
            "object_fit": null,
            "object_position": null,
            "order": null,
            "overflow": null,
            "overflow_x": null,
            "overflow_y": null,
            "padding": null,
            "right": null,
            "top": null,
            "visibility": null,
            "width": null
          }
        },
        "6863afb2abcc437097c0dfad49b49d65": {
          "model_module": "@jupyter-widgets/controls",
          "model_name": "ProgressStyleModel",
          "model_module_version": "1.5.0",
          "state": {
            "_model_module": "@jupyter-widgets/controls",
            "_model_module_version": "1.5.0",
            "_model_name": "ProgressStyleModel",
            "_view_count": null,
            "_view_module": "@jupyter-widgets/base",
            "_view_module_version": "1.2.0",
            "_view_name": "StyleView",
            "bar_color": null,
            "description_width": ""
          }
        },
        "d9010829792d42dfab220fb7addd8345": {
          "model_module": "@jupyter-widgets/base",
          "model_name": "LayoutModel",
          "model_module_version": "1.2.0",
          "state": {
            "_model_module": "@jupyter-widgets/base",
            "_model_module_version": "1.2.0",
            "_model_name": "LayoutModel",
            "_view_count": null,
            "_view_module": "@jupyter-widgets/base",
            "_view_module_version": "1.2.0",
            "_view_name": "LayoutView",
            "align_content": null,
            "align_items": null,
            "align_self": null,
            "border": null,
            "bottom": null,
            "display": null,
            "flex": null,
            "flex_flow": null,
            "grid_area": null,
            "grid_auto_columns": null,
            "grid_auto_flow": null,
            "grid_auto_rows": null,
            "grid_column": null,
            "grid_gap": null,
            "grid_row": null,
            "grid_template_areas": null,
            "grid_template_columns": null,
            "grid_template_rows": null,
            "height": null,
            "justify_content": null,
            "justify_items": null,
            "left": null,
            "margin": null,
            "max_height": null,
            "max_width": null,
            "min_height": null,
            "min_width": null,
            "object_fit": null,
            "object_position": null,
            "order": null,
            "overflow": null,
            "overflow_x": null,
            "overflow_y": null,
            "padding": null,
            "right": null,
            "top": null,
            "visibility": null,
            "width": null
          }
        },
        "9cfa63c9e5f94992be1b3b01b66ede54": {
          "model_module": "@jupyter-widgets/controls",
          "model_name": "DescriptionStyleModel",
          "model_module_version": "1.5.0",
          "state": {
            "_model_module": "@jupyter-widgets/controls",
            "_model_module_version": "1.5.0",
            "_model_name": "DescriptionStyleModel",
            "_view_count": null,
            "_view_module": "@jupyter-widgets/base",
            "_view_module_version": "1.2.0",
            "_view_name": "StyleView",
            "description_width": ""
          }
        },
        "a00176da0da542af833a6a2a7dee6fd2": {
          "model_module": "@jupyter-widgets/controls",
          "model_name": "HBoxModel",
          "model_module_version": "1.5.0",
          "state": {
            "_dom_classes": [],
            "_model_module": "@jupyter-widgets/controls",
            "_model_module_version": "1.5.0",
            "_model_name": "HBoxModel",
            "_view_count": null,
            "_view_module": "@jupyter-widgets/controls",
            "_view_module_version": "1.5.0",
            "_view_name": "HBoxView",
            "box_style": "",
            "children": [
              "IPY_MODEL_189bae7f8e994cb48d461761edf475c8",
              "IPY_MODEL_ba895a965f724d619ac2d00f8fdd1aa6",
              "IPY_MODEL_3beb8bfb9ff747c88fb2b7fff864c4f7"
            ],
            "layout": "IPY_MODEL_239890fdacb5410f86875ae14ecd23e9"
          }
        },
        "189bae7f8e994cb48d461761edf475c8": {
          "model_module": "@jupyter-widgets/controls",
          "model_name": "HTMLModel",
          "model_module_version": "1.5.0",
          "state": {
            "_dom_classes": [],
            "_model_module": "@jupyter-widgets/controls",
            "_model_module_version": "1.5.0",
            "_model_name": "HTMLModel",
            "_view_count": null,
            "_view_module": "@jupyter-widgets/controls",
            "_view_module_version": "1.5.0",
            "_view_name": "HTMLView",
            "description": "",
            "description_tooltip": null,
            "layout": "IPY_MODEL_d6fd9caf76fb449cb091bcf3d60271a9",
            "placeholder": "​",
            "style": "IPY_MODEL_57a1bb8820184477ad3f8bddc170667d",
            "value": "tokenizer_config.json: 100%"
          }
        },
        "ba895a965f724d619ac2d00f8fdd1aa6": {
          "model_module": "@jupyter-widgets/controls",
          "model_name": "FloatProgressModel",
          "model_module_version": "1.5.0",
          "state": {
            "_dom_classes": [],
            "_model_module": "@jupyter-widgets/controls",
            "_model_module_version": "1.5.0",
            "_model_name": "FloatProgressModel",
            "_view_count": null,
            "_view_module": "@jupyter-widgets/controls",
            "_view_module_version": "1.5.0",
            "_view_name": "ProgressView",
            "bar_style": "success",
            "description": "",
            "description_tooltip": null,
            "layout": "IPY_MODEL_8dcaea318cfd4dbaba5568a1d5acec5d",
            "max": 314,
            "min": 0,
            "orientation": "horizontal",
            "style": "IPY_MODEL_4882a9f08010496abd169e17f878a37d",
            "value": 314
          }
        },
        "3beb8bfb9ff747c88fb2b7fff864c4f7": {
          "model_module": "@jupyter-widgets/controls",
          "model_name": "HTMLModel",
          "model_module_version": "1.5.0",
          "state": {
            "_dom_classes": [],
            "_model_module": "@jupyter-widgets/controls",
            "_model_module_version": "1.5.0",
            "_model_name": "HTMLModel",
            "_view_count": null,
            "_view_module": "@jupyter-widgets/controls",
            "_view_module_version": "1.5.0",
            "_view_name": "HTMLView",
            "description": "",
            "description_tooltip": null,
            "layout": "IPY_MODEL_666842d721ba4ad0b8339abf22db56ca",
            "placeholder": "​",
            "style": "IPY_MODEL_be660b30d6e541a79128a5d59de569c5",
            "value": " 314/314 [00:00&lt;00:00, 10.1kB/s]"
          }
        },
        "239890fdacb5410f86875ae14ecd23e9": {
          "model_module": "@jupyter-widgets/base",
          "model_name": "LayoutModel",
          "model_module_version": "1.2.0",
          "state": {
            "_model_module": "@jupyter-widgets/base",
            "_model_module_version": "1.2.0",
            "_model_name": "LayoutModel",
            "_view_count": null,
            "_view_module": "@jupyter-widgets/base",
            "_view_module_version": "1.2.0",
            "_view_name": "LayoutView",
            "align_content": null,
            "align_items": null,
            "align_self": null,
            "border": null,
            "bottom": null,
            "display": null,
            "flex": null,
            "flex_flow": null,
            "grid_area": null,
            "grid_auto_columns": null,
            "grid_auto_flow": null,
            "grid_auto_rows": null,
            "grid_column": null,
            "grid_gap": null,
            "grid_row": null,
            "grid_template_areas": null,
            "grid_template_columns": null,
            "grid_template_rows": null,
            "height": null,
            "justify_content": null,
            "justify_items": null,
            "left": null,
            "margin": null,
            "max_height": null,
            "max_width": null,
            "min_height": null,
            "min_width": null,
            "object_fit": null,
            "object_position": null,
            "order": null,
            "overflow": null,
            "overflow_x": null,
            "overflow_y": null,
            "padding": null,
            "right": null,
            "top": null,
            "visibility": null,
            "width": null
          }
        },
        "d6fd9caf76fb449cb091bcf3d60271a9": {
          "model_module": "@jupyter-widgets/base",
          "model_name": "LayoutModel",
          "model_module_version": "1.2.0",
          "state": {
            "_model_module": "@jupyter-widgets/base",
            "_model_module_version": "1.2.0",
            "_model_name": "LayoutModel",
            "_view_count": null,
            "_view_module": "@jupyter-widgets/base",
            "_view_module_version": "1.2.0",
            "_view_name": "LayoutView",
            "align_content": null,
            "align_items": null,
            "align_self": null,
            "border": null,
            "bottom": null,
            "display": null,
            "flex": null,
            "flex_flow": null,
            "grid_area": null,
            "grid_auto_columns": null,
            "grid_auto_flow": null,
            "grid_auto_rows": null,
            "grid_column": null,
            "grid_gap": null,
            "grid_row": null,
            "grid_template_areas": null,
            "grid_template_columns": null,
            "grid_template_rows": null,
            "height": null,
            "justify_content": null,
            "justify_items": null,
            "left": null,
            "margin": null,
            "max_height": null,
            "max_width": null,
            "min_height": null,
            "min_width": null,
            "object_fit": null,
            "object_position": null,
            "order": null,
            "overflow": null,
            "overflow_x": null,
            "overflow_y": null,
            "padding": null,
            "right": null,
            "top": null,
            "visibility": null,
            "width": null
          }
        },
        "57a1bb8820184477ad3f8bddc170667d": {
          "model_module": "@jupyter-widgets/controls",
          "model_name": "DescriptionStyleModel",
          "model_module_version": "1.5.0",
          "state": {
            "_model_module": "@jupyter-widgets/controls",
            "_model_module_version": "1.5.0",
            "_model_name": "DescriptionStyleModel",
            "_view_count": null,
            "_view_module": "@jupyter-widgets/base",
            "_view_module_version": "1.2.0",
            "_view_name": "StyleView",
            "description_width": ""
          }
        },
        "8dcaea318cfd4dbaba5568a1d5acec5d": {
          "model_module": "@jupyter-widgets/base",
          "model_name": "LayoutModel",
          "model_module_version": "1.2.0",
          "state": {
            "_model_module": "@jupyter-widgets/base",
            "_model_module_version": "1.2.0",
            "_model_name": "LayoutModel",
            "_view_count": null,
            "_view_module": "@jupyter-widgets/base",
            "_view_module_version": "1.2.0",
            "_view_name": "LayoutView",
            "align_content": null,
            "align_items": null,
            "align_self": null,
            "border": null,
            "bottom": null,
            "display": null,
            "flex": null,
            "flex_flow": null,
            "grid_area": null,
            "grid_auto_columns": null,
            "grid_auto_flow": null,
            "grid_auto_rows": null,
            "grid_column": null,
            "grid_gap": null,
            "grid_row": null,
            "grid_template_areas": null,
            "grid_template_columns": null,
            "grid_template_rows": null,
            "height": null,
            "justify_content": null,
            "justify_items": null,
            "left": null,
            "margin": null,
            "max_height": null,
            "max_width": null,
            "min_height": null,
            "min_width": null,
            "object_fit": null,
            "object_position": null,
            "order": null,
            "overflow": null,
            "overflow_x": null,
            "overflow_y": null,
            "padding": null,
            "right": null,
            "top": null,
            "visibility": null,
            "width": null
          }
        },
        "4882a9f08010496abd169e17f878a37d": {
          "model_module": "@jupyter-widgets/controls",
          "model_name": "ProgressStyleModel",
          "model_module_version": "1.5.0",
          "state": {
            "_model_module": "@jupyter-widgets/controls",
            "_model_module_version": "1.5.0",
            "_model_name": "ProgressStyleModel",
            "_view_count": null,
            "_view_module": "@jupyter-widgets/base",
            "_view_module_version": "1.2.0",
            "_view_name": "StyleView",
            "bar_color": null,
            "description_width": ""
          }
        },
        "666842d721ba4ad0b8339abf22db56ca": {
          "model_module": "@jupyter-widgets/base",
          "model_name": "LayoutModel",
          "model_module_version": "1.2.0",
          "state": {
            "_model_module": "@jupyter-widgets/base",
            "_model_module_version": "1.2.0",
            "_model_name": "LayoutModel",
            "_view_count": null,
            "_view_module": "@jupyter-widgets/base",
            "_view_module_version": "1.2.0",
            "_view_name": "LayoutView",
            "align_content": null,
            "align_items": null,
            "align_self": null,
            "border": null,
            "bottom": null,
            "display": null,
            "flex": null,
            "flex_flow": null,
            "grid_area": null,
            "grid_auto_columns": null,
            "grid_auto_flow": null,
            "grid_auto_rows": null,
            "grid_column": null,
            "grid_gap": null,
            "grid_row": null,
            "grid_template_areas": null,
            "grid_template_columns": null,
            "grid_template_rows": null,
            "height": null,
            "justify_content": null,
            "justify_items": null,
            "left": null,
            "margin": null,
            "max_height": null,
            "max_width": null,
            "min_height": null,
            "min_width": null,
            "object_fit": null,
            "object_position": null,
            "order": null,
            "overflow": null,
            "overflow_x": null,
            "overflow_y": null,
            "padding": null,
            "right": null,
            "top": null,
            "visibility": null,
            "width": null
          }
        },
        "be660b30d6e541a79128a5d59de569c5": {
          "model_module": "@jupyter-widgets/controls",
          "model_name": "DescriptionStyleModel",
          "model_module_version": "1.5.0",
          "state": {
            "_model_module": "@jupyter-widgets/controls",
            "_model_module_version": "1.5.0",
            "_model_name": "DescriptionStyleModel",
            "_view_count": null,
            "_view_module": "@jupyter-widgets/base",
            "_view_module_version": "1.2.0",
            "_view_name": "StyleView",
            "description_width": ""
          }
        },
        "b011d489eb314a6b9b9057df391562c5": {
          "model_module": "@jupyter-widgets/controls",
          "model_name": "HBoxModel",
          "model_module_version": "1.5.0",
          "state": {
            "_dom_classes": [],
            "_model_module": "@jupyter-widgets/controls",
            "_model_module_version": "1.5.0",
            "_model_name": "HBoxModel",
            "_view_count": null,
            "_view_module": "@jupyter-widgets/controls",
            "_view_module_version": "1.5.0",
            "_view_name": "HBoxView",
            "box_style": "",
            "children": [
              "IPY_MODEL_785efebc496f4a50b5f1fbe12cc2fef9",
              "IPY_MODEL_389dbc9520f14a5c9b801f1a02c9600a",
              "IPY_MODEL_7934f24afcdb412696aa367f5a31b160"
            ],
            "layout": "IPY_MODEL_45061c9568d946a786fe01188afde9e7"
          }
        },
        "785efebc496f4a50b5f1fbe12cc2fef9": {
          "model_module": "@jupyter-widgets/controls",
          "model_name": "HTMLModel",
          "model_module_version": "1.5.0",
          "state": {
            "_dom_classes": [],
            "_model_module": "@jupyter-widgets/controls",
            "_model_module_version": "1.5.0",
            "_model_name": "HTMLModel",
            "_view_count": null,
            "_view_module": "@jupyter-widgets/controls",
            "_view_module_version": "1.5.0",
            "_view_name": "HTMLView",
            "description": "",
            "description_tooltip": null,
            "layout": "IPY_MODEL_d0cf408508834e6d9c7cfc09306bd25f",
            "placeholder": "​",
            "style": "IPY_MODEL_40e1bb978ee049c99a1a6c111bdcb99b",
            "value": "vocab.txt: 100%"
          }
        },
        "389dbc9520f14a5c9b801f1a02c9600a": {
          "model_module": "@jupyter-widgets/controls",
          "model_name": "FloatProgressModel",
          "model_module_version": "1.5.0",
          "state": {
            "_dom_classes": [],
            "_model_module": "@jupyter-widgets/controls",
            "_model_module_version": "1.5.0",
            "_model_name": "FloatProgressModel",
            "_view_count": null,
            "_view_module": "@jupyter-widgets/controls",
            "_view_module_version": "1.5.0",
            "_view_name": "ProgressView",
            "bar_style": "success",
            "description": "",
            "description_tooltip": null,
            "layout": "IPY_MODEL_2c951f9028314e4ca32e584e0127affa",
            "max": 231508,
            "min": 0,
            "orientation": "horizontal",
            "style": "IPY_MODEL_41b14397da2e4ed2aa233bb47db34206",
            "value": 231508
          }
        },
        "7934f24afcdb412696aa367f5a31b160": {
          "model_module": "@jupyter-widgets/controls",
          "model_name": "HTMLModel",
          "model_module_version": "1.5.0",
          "state": {
            "_dom_classes": [],
            "_model_module": "@jupyter-widgets/controls",
            "_model_module_version": "1.5.0",
            "_model_name": "HTMLModel",
            "_view_count": null,
            "_view_module": "@jupyter-widgets/controls",
            "_view_module_version": "1.5.0",
            "_view_name": "HTMLView",
            "description": "",
            "description_tooltip": null,
            "layout": "IPY_MODEL_d3281b2121d446f59767accc4d70326e",
            "placeholder": "​",
            "style": "IPY_MODEL_dc93d87e3898446da2648ca3aec73c6b",
            "value": " 232k/232k [00:00&lt;00:00, 2.44MB/s]"
          }
        },
        "45061c9568d946a786fe01188afde9e7": {
          "model_module": "@jupyter-widgets/base",
          "model_name": "LayoutModel",
          "model_module_version": "1.2.0",
          "state": {
            "_model_module": "@jupyter-widgets/base",
            "_model_module_version": "1.2.0",
            "_model_name": "LayoutModel",
            "_view_count": null,
            "_view_module": "@jupyter-widgets/base",
            "_view_module_version": "1.2.0",
            "_view_name": "LayoutView",
            "align_content": null,
            "align_items": null,
            "align_self": null,
            "border": null,
            "bottom": null,
            "display": null,
            "flex": null,
            "flex_flow": null,
            "grid_area": null,
            "grid_auto_columns": null,
            "grid_auto_flow": null,
            "grid_auto_rows": null,
            "grid_column": null,
            "grid_gap": null,
            "grid_row": null,
            "grid_template_areas": null,
            "grid_template_columns": null,
            "grid_template_rows": null,
            "height": null,
            "justify_content": null,
            "justify_items": null,
            "left": null,
            "margin": null,
            "max_height": null,
            "max_width": null,
            "min_height": null,
            "min_width": null,
            "object_fit": null,
            "object_position": null,
            "order": null,
            "overflow": null,
            "overflow_x": null,
            "overflow_y": null,
            "padding": null,
            "right": null,
            "top": null,
            "visibility": null,
            "width": null
          }
        },
        "d0cf408508834e6d9c7cfc09306bd25f": {
          "model_module": "@jupyter-widgets/base",
          "model_name": "LayoutModel",
          "model_module_version": "1.2.0",
          "state": {
            "_model_module": "@jupyter-widgets/base",
            "_model_module_version": "1.2.0",
            "_model_name": "LayoutModel",
            "_view_count": null,
            "_view_module": "@jupyter-widgets/base",
            "_view_module_version": "1.2.0",
            "_view_name": "LayoutView",
            "align_content": null,
            "align_items": null,
            "align_self": null,
            "border": null,
            "bottom": null,
            "display": null,
            "flex": null,
            "flex_flow": null,
            "grid_area": null,
            "grid_auto_columns": null,
            "grid_auto_flow": null,
            "grid_auto_rows": null,
            "grid_column": null,
            "grid_gap": null,
            "grid_row": null,
            "grid_template_areas": null,
            "grid_template_columns": null,
            "grid_template_rows": null,
            "height": null,
            "justify_content": null,
            "justify_items": null,
            "left": null,
            "margin": null,
            "max_height": null,
            "max_width": null,
            "min_height": null,
            "min_width": null,
            "object_fit": null,
            "object_position": null,
            "order": null,
            "overflow": null,
            "overflow_x": null,
            "overflow_y": null,
            "padding": null,
            "right": null,
            "top": null,
            "visibility": null,
            "width": null
          }
        },
        "40e1bb978ee049c99a1a6c111bdcb99b": {
          "model_module": "@jupyter-widgets/controls",
          "model_name": "DescriptionStyleModel",
          "model_module_version": "1.5.0",
          "state": {
            "_model_module": "@jupyter-widgets/controls",
            "_model_module_version": "1.5.0",
            "_model_name": "DescriptionStyleModel",
            "_view_count": null,
            "_view_module": "@jupyter-widgets/base",
            "_view_module_version": "1.2.0",
            "_view_name": "StyleView",
            "description_width": ""
          }
        },
        "2c951f9028314e4ca32e584e0127affa": {
          "model_module": "@jupyter-widgets/base",
          "model_name": "LayoutModel",
          "model_module_version": "1.2.0",
          "state": {
            "_model_module": "@jupyter-widgets/base",
            "_model_module_version": "1.2.0",
            "_model_name": "LayoutModel",
            "_view_count": null,
            "_view_module": "@jupyter-widgets/base",
            "_view_module_version": "1.2.0",
            "_view_name": "LayoutView",
            "align_content": null,
            "align_items": null,
            "align_self": null,
            "border": null,
            "bottom": null,
            "display": null,
            "flex": null,
            "flex_flow": null,
            "grid_area": null,
            "grid_auto_columns": null,
            "grid_auto_flow": null,
            "grid_auto_rows": null,
            "grid_column": null,
            "grid_gap": null,
            "grid_row": null,
            "grid_template_areas": null,
            "grid_template_columns": null,
            "grid_template_rows": null,
            "height": null,
            "justify_content": null,
            "justify_items": null,
            "left": null,
            "margin": null,
            "max_height": null,
            "max_width": null,
            "min_height": null,
            "min_width": null,
            "object_fit": null,
            "object_position": null,
            "order": null,
            "overflow": null,
            "overflow_x": null,
            "overflow_y": null,
            "padding": null,
            "right": null,
            "top": null,
            "visibility": null,
            "width": null
          }
        },
        "41b14397da2e4ed2aa233bb47db34206": {
          "model_module": "@jupyter-widgets/controls",
          "model_name": "ProgressStyleModel",
          "model_module_version": "1.5.0",
          "state": {
            "_model_module": "@jupyter-widgets/controls",
            "_model_module_version": "1.5.0",
            "_model_name": "ProgressStyleModel",
            "_view_count": null,
            "_view_module": "@jupyter-widgets/base",
            "_view_module_version": "1.2.0",
            "_view_name": "StyleView",
            "bar_color": null,
            "description_width": ""
          }
        },
        "d3281b2121d446f59767accc4d70326e": {
          "model_module": "@jupyter-widgets/base",
          "model_name": "LayoutModel",
          "model_module_version": "1.2.0",
          "state": {
            "_model_module": "@jupyter-widgets/base",
            "_model_module_version": "1.2.0",
            "_model_name": "LayoutModel",
            "_view_count": null,
            "_view_module": "@jupyter-widgets/base",
            "_view_module_version": "1.2.0",
            "_view_name": "LayoutView",
            "align_content": null,
            "align_items": null,
            "align_self": null,
            "border": null,
            "bottom": null,
            "display": null,
            "flex": null,
            "flex_flow": null,
            "grid_area": null,
            "grid_auto_columns": null,
            "grid_auto_flow": null,
            "grid_auto_rows": null,
            "grid_column": null,
            "grid_gap": null,
            "grid_row": null,
            "grid_template_areas": null,
            "grid_template_columns": null,
            "grid_template_rows": null,
            "height": null,
            "justify_content": null,
            "justify_items": null,
            "left": null,
            "margin": null,
            "max_height": null,
            "max_width": null,
            "min_height": null,
            "min_width": null,
            "object_fit": null,
            "object_position": null,
            "order": null,
            "overflow": null,
            "overflow_x": null,
            "overflow_y": null,
            "padding": null,
            "right": null,
            "top": null,
            "visibility": null,
            "width": null
          }
        },
        "dc93d87e3898446da2648ca3aec73c6b": {
          "model_module": "@jupyter-widgets/controls",
          "model_name": "DescriptionStyleModel",
          "model_module_version": "1.5.0",
          "state": {
            "_model_module": "@jupyter-widgets/controls",
            "_model_module_version": "1.5.0",
            "_model_name": "DescriptionStyleModel",
            "_view_count": null,
            "_view_module": "@jupyter-widgets/base",
            "_view_module_version": "1.2.0",
            "_view_name": "StyleView",
            "description_width": ""
          }
        },
        "37984bf2860d4bfca9581d3ec6cd29f6": {
          "model_module": "@jupyter-widgets/controls",
          "model_name": "HBoxModel",
          "model_module_version": "1.5.0",
          "state": {
            "_dom_classes": [],
            "_model_module": "@jupyter-widgets/controls",
            "_model_module_version": "1.5.0",
            "_model_name": "HBoxModel",
            "_view_count": null,
            "_view_module": "@jupyter-widgets/controls",
            "_view_module_version": "1.5.0",
            "_view_name": "HBoxView",
            "box_style": "",
            "children": [
              "IPY_MODEL_74818d13c01e42068f0311e043a6294a",
              "IPY_MODEL_460754293a0b4dc48b266ac201b3f3c2",
              "IPY_MODEL_952f3d5b3ca643c583d95f5698ada3c5"
            ],
            "layout": "IPY_MODEL_939d68e2fa374ce285b132112a5e22d2"
          }
        },
        "74818d13c01e42068f0311e043a6294a": {
          "model_module": "@jupyter-widgets/controls",
          "model_name": "HTMLModel",
          "model_module_version": "1.5.0",
          "state": {
            "_dom_classes": [],
            "_model_module": "@jupyter-widgets/controls",
            "_model_module_version": "1.5.0",
            "_model_name": "HTMLModel",
            "_view_count": null,
            "_view_module": "@jupyter-widgets/controls",
            "_view_module_version": "1.5.0",
            "_view_name": "HTMLView",
            "description": "",
            "description_tooltip": null,
            "layout": "IPY_MODEL_6507a2dd7c2a438a9d5652aca47f0daa",
            "placeholder": "​",
            "style": "IPY_MODEL_a1bee3a3d47c4fed9710fc60225e9f3c",
            "value": "tokenizer.json: 100%"
          }
        },
        "460754293a0b4dc48b266ac201b3f3c2": {
          "model_module": "@jupyter-widgets/controls",
          "model_name": "FloatProgressModel",
          "model_module_version": "1.5.0",
          "state": {
            "_dom_classes": [],
            "_model_module": "@jupyter-widgets/controls",
            "_model_module_version": "1.5.0",
            "_model_name": "FloatProgressModel",
            "_view_count": null,
            "_view_module": "@jupyter-widgets/controls",
            "_view_module_version": "1.5.0",
            "_view_name": "ProgressView",
            "bar_style": "success",
            "description": "",
            "description_tooltip": null,
            "layout": "IPY_MODEL_1065a6f350bd4930b23e445e38645d8f",
            "max": 466081,
            "min": 0,
            "orientation": "horizontal",
            "style": "IPY_MODEL_dc1547a1bd4142babb48087de31442fc",
            "value": 466081
          }
        },
        "952f3d5b3ca643c583d95f5698ada3c5": {
          "model_module": "@jupyter-widgets/controls",
          "model_name": "HTMLModel",
          "model_module_version": "1.5.0",
          "state": {
            "_dom_classes": [],
            "_model_module": "@jupyter-widgets/controls",
            "_model_module_version": "1.5.0",
            "_model_name": "HTMLModel",
            "_view_count": null,
            "_view_module": "@jupyter-widgets/controls",
            "_view_module_version": "1.5.0",
            "_view_name": "HTMLView",
            "description": "",
            "description_tooltip": null,
            "layout": "IPY_MODEL_34e91282961a4042aeac2614d41a26bb",
            "placeholder": "​",
            "style": "IPY_MODEL_00f6ae0c2f2a4b468f0df4532875c547",
            "value": " 466k/466k [00:00&lt;00:00, 11.6MB/s]"
          }
        },
        "939d68e2fa374ce285b132112a5e22d2": {
          "model_module": "@jupyter-widgets/base",
          "model_name": "LayoutModel",
          "model_module_version": "1.2.0",
          "state": {
            "_model_module": "@jupyter-widgets/base",
            "_model_module_version": "1.2.0",
            "_model_name": "LayoutModel",
            "_view_count": null,
            "_view_module": "@jupyter-widgets/base",
            "_view_module_version": "1.2.0",
            "_view_name": "LayoutView",
            "align_content": null,
            "align_items": null,
            "align_self": null,
            "border": null,
            "bottom": null,
            "display": null,
            "flex": null,
            "flex_flow": null,
            "grid_area": null,
            "grid_auto_columns": null,
            "grid_auto_flow": null,
            "grid_auto_rows": null,
            "grid_column": null,
            "grid_gap": null,
            "grid_row": null,
            "grid_template_areas": null,
            "grid_template_columns": null,
            "grid_template_rows": null,
            "height": null,
            "justify_content": null,
            "justify_items": null,
            "left": null,
            "margin": null,
            "max_height": null,
            "max_width": null,
            "min_height": null,
            "min_width": null,
            "object_fit": null,
            "object_position": null,
            "order": null,
            "overflow": null,
            "overflow_x": null,
            "overflow_y": null,
            "padding": null,
            "right": null,
            "top": null,
            "visibility": null,
            "width": null
          }
        },
        "6507a2dd7c2a438a9d5652aca47f0daa": {
          "model_module": "@jupyter-widgets/base",
          "model_name": "LayoutModel",
          "model_module_version": "1.2.0",
          "state": {
            "_model_module": "@jupyter-widgets/base",
            "_model_module_version": "1.2.0",
            "_model_name": "LayoutModel",
            "_view_count": null,
            "_view_module": "@jupyter-widgets/base",
            "_view_module_version": "1.2.0",
            "_view_name": "LayoutView",
            "align_content": null,
            "align_items": null,
            "align_self": null,
            "border": null,
            "bottom": null,
            "display": null,
            "flex": null,
            "flex_flow": null,
            "grid_area": null,
            "grid_auto_columns": null,
            "grid_auto_flow": null,
            "grid_auto_rows": null,
            "grid_column": null,
            "grid_gap": null,
            "grid_row": null,
            "grid_template_areas": null,
            "grid_template_columns": null,
            "grid_template_rows": null,
            "height": null,
            "justify_content": null,
            "justify_items": null,
            "left": null,
            "margin": null,
            "max_height": null,
            "max_width": null,
            "min_height": null,
            "min_width": null,
            "object_fit": null,
            "object_position": null,
            "order": null,
            "overflow": null,
            "overflow_x": null,
            "overflow_y": null,
            "padding": null,
            "right": null,
            "top": null,
            "visibility": null,
            "width": null
          }
        },
        "a1bee3a3d47c4fed9710fc60225e9f3c": {
          "model_module": "@jupyter-widgets/controls",
          "model_name": "DescriptionStyleModel",
          "model_module_version": "1.5.0",
          "state": {
            "_model_module": "@jupyter-widgets/controls",
            "_model_module_version": "1.5.0",
            "_model_name": "DescriptionStyleModel",
            "_view_count": null,
            "_view_module": "@jupyter-widgets/base",
            "_view_module_version": "1.2.0",
            "_view_name": "StyleView",
            "description_width": ""
          }
        },
        "1065a6f350bd4930b23e445e38645d8f": {
          "model_module": "@jupyter-widgets/base",
          "model_name": "LayoutModel",
          "model_module_version": "1.2.0",
          "state": {
            "_model_module": "@jupyter-widgets/base",
            "_model_module_version": "1.2.0",
            "_model_name": "LayoutModel",
            "_view_count": null,
            "_view_module": "@jupyter-widgets/base",
            "_view_module_version": "1.2.0",
            "_view_name": "LayoutView",
            "align_content": null,
            "align_items": null,
            "align_self": null,
            "border": null,
            "bottom": null,
            "display": null,
            "flex": null,
            "flex_flow": null,
            "grid_area": null,
            "grid_auto_columns": null,
            "grid_auto_flow": null,
            "grid_auto_rows": null,
            "grid_column": null,
            "grid_gap": null,
            "grid_row": null,
            "grid_template_areas": null,
            "grid_template_columns": null,
            "grid_template_rows": null,
            "height": null,
            "justify_content": null,
            "justify_items": null,
            "left": null,
            "margin": null,
            "max_height": null,
            "max_width": null,
            "min_height": null,
            "min_width": null,
            "object_fit": null,
            "object_position": null,
            "order": null,
            "overflow": null,
            "overflow_x": null,
            "overflow_y": null,
            "padding": null,
            "right": null,
            "top": null,
            "visibility": null,
            "width": null
          }
        },
        "dc1547a1bd4142babb48087de31442fc": {
          "model_module": "@jupyter-widgets/controls",
          "model_name": "ProgressStyleModel",
          "model_module_version": "1.5.0",
          "state": {
            "_model_module": "@jupyter-widgets/controls",
            "_model_module_version": "1.5.0",
            "_model_name": "ProgressStyleModel",
            "_view_count": null,
            "_view_module": "@jupyter-widgets/base",
            "_view_module_version": "1.2.0",
            "_view_name": "StyleView",
            "bar_color": null,
            "description_width": ""
          }
        },
        "34e91282961a4042aeac2614d41a26bb": {
          "model_module": "@jupyter-widgets/base",
          "model_name": "LayoutModel",
          "model_module_version": "1.2.0",
          "state": {
            "_model_module": "@jupyter-widgets/base",
            "_model_module_version": "1.2.0",
            "_model_name": "LayoutModel",
            "_view_count": null,
            "_view_module": "@jupyter-widgets/base",
            "_view_module_version": "1.2.0",
            "_view_name": "LayoutView",
            "align_content": null,
            "align_items": null,
            "align_self": null,
            "border": null,
            "bottom": null,
            "display": null,
            "flex": null,
            "flex_flow": null,
            "grid_area": null,
            "grid_auto_columns": null,
            "grid_auto_flow": null,
            "grid_auto_rows": null,
            "grid_column": null,
            "grid_gap": null,
            "grid_row": null,
            "grid_template_areas": null,
            "grid_template_columns": null,
            "grid_template_rows": null,
            "height": null,
            "justify_content": null,
            "justify_items": null,
            "left": null,
            "margin": null,
            "max_height": null,
            "max_width": null,
            "min_height": null,
            "min_width": null,
            "object_fit": null,
            "object_position": null,
            "order": null,
            "overflow": null,
            "overflow_x": null,
            "overflow_y": null,
            "padding": null,
            "right": null,
            "top": null,
            "visibility": null,
            "width": null
          }
        },
        "00f6ae0c2f2a4b468f0df4532875c547": {
          "model_module": "@jupyter-widgets/controls",
          "model_name": "DescriptionStyleModel",
          "model_module_version": "1.5.0",
          "state": {
            "_model_module": "@jupyter-widgets/controls",
            "_model_module_version": "1.5.0",
            "_model_name": "DescriptionStyleModel",
            "_view_count": null,
            "_view_module": "@jupyter-widgets/base",
            "_view_module_version": "1.2.0",
            "_view_name": "StyleView",
            "description_width": ""
          }
        },
        "9af4289a929c40b898ec3b865a773956": {
          "model_module": "@jupyter-widgets/controls",
          "model_name": "HBoxModel",
          "model_module_version": "1.5.0",
          "state": {
            "_dom_classes": [],
            "_model_module": "@jupyter-widgets/controls",
            "_model_module_version": "1.5.0",
            "_model_name": "HBoxModel",
            "_view_count": null,
            "_view_module": "@jupyter-widgets/controls",
            "_view_module_version": "1.5.0",
            "_view_name": "HBoxView",
            "box_style": "",
            "children": [
              "IPY_MODEL_b1609773dd43453a985b24d0dcbeaf62",
              "IPY_MODEL_63b940f86bc2483e94a0fff9d9a6e0f3",
              "IPY_MODEL_cc2eeb3089c9452b8b22b5509d8f1ca6"
            ],
            "layout": "IPY_MODEL_401eb1384dff4218a9f546db4c3d1185"
          }
        },
        "b1609773dd43453a985b24d0dcbeaf62": {
          "model_module": "@jupyter-widgets/controls",
          "model_name": "HTMLModel",
          "model_module_version": "1.5.0",
          "state": {
            "_dom_classes": [],
            "_model_module": "@jupyter-widgets/controls",
            "_model_module_version": "1.5.0",
            "_model_name": "HTMLModel",
            "_view_count": null,
            "_view_module": "@jupyter-widgets/controls",
            "_view_module_version": "1.5.0",
            "_view_name": "HTMLView",
            "description": "",
            "description_tooltip": null,
            "layout": "IPY_MODEL_d9f7a06e5eaf4c88adadd893fad4596f",
            "placeholder": "​",
            "style": "IPY_MODEL_90ebfee77b5f486ea198a1520b20e39d",
            "value": "special_tokens_map.json: 100%"
          }
        },
        "63b940f86bc2483e94a0fff9d9a6e0f3": {
          "model_module": "@jupyter-widgets/controls",
          "model_name": "FloatProgressModel",
          "model_module_version": "1.5.0",
          "state": {
            "_dom_classes": [],
            "_model_module": "@jupyter-widgets/controls",
            "_model_module_version": "1.5.0",
            "_model_name": "FloatProgressModel",
            "_view_count": null,
            "_view_module": "@jupyter-widgets/controls",
            "_view_module_version": "1.5.0",
            "_view_name": "ProgressView",
            "bar_style": "success",
            "description": "",
            "description_tooltip": null,
            "layout": "IPY_MODEL_354ad51f2fa546b4a6401763c50c40fe",
            "max": 112,
            "min": 0,
            "orientation": "horizontal",
            "style": "IPY_MODEL_a3e4ad3bdd0f4492b17de2782e62f513",
            "value": 112
          }
        },
        "cc2eeb3089c9452b8b22b5509d8f1ca6": {
          "model_module": "@jupyter-widgets/controls",
          "model_name": "HTMLModel",
          "model_module_version": "1.5.0",
          "state": {
            "_dom_classes": [],
            "_model_module": "@jupyter-widgets/controls",
            "_model_module_version": "1.5.0",
            "_model_name": "HTMLModel",
            "_view_count": null,
            "_view_module": "@jupyter-widgets/controls",
            "_view_module_version": "1.5.0",
            "_view_name": "HTMLView",
            "description": "",
            "description_tooltip": null,
            "layout": "IPY_MODEL_328798e69a2e43e3b8c4a84fecfe495c",
            "placeholder": "​",
            "style": "IPY_MODEL_e4cc88fa89d44f21a390ac69802e3c62",
            "value": " 112/112 [00:00&lt;00:00, 5.04kB/s]"
          }
        },
        "401eb1384dff4218a9f546db4c3d1185": {
          "model_module": "@jupyter-widgets/base",
          "model_name": "LayoutModel",
          "model_module_version": "1.2.0",
          "state": {
            "_model_module": "@jupyter-widgets/base",
            "_model_module_version": "1.2.0",
            "_model_name": "LayoutModel",
            "_view_count": null,
            "_view_module": "@jupyter-widgets/base",
            "_view_module_version": "1.2.0",
            "_view_name": "LayoutView",
            "align_content": null,
            "align_items": null,
            "align_self": null,
            "border": null,
            "bottom": null,
            "display": null,
            "flex": null,
            "flex_flow": null,
            "grid_area": null,
            "grid_auto_columns": null,
            "grid_auto_flow": null,
            "grid_auto_rows": null,
            "grid_column": null,
            "grid_gap": null,
            "grid_row": null,
            "grid_template_areas": null,
            "grid_template_columns": null,
            "grid_template_rows": null,
            "height": null,
            "justify_content": null,
            "justify_items": null,
            "left": null,
            "margin": null,
            "max_height": null,
            "max_width": null,
            "min_height": null,
            "min_width": null,
            "object_fit": null,
            "object_position": null,
            "order": null,
            "overflow": null,
            "overflow_x": null,
            "overflow_y": null,
            "padding": null,
            "right": null,
            "top": null,
            "visibility": null,
            "width": null
          }
        },
        "d9f7a06e5eaf4c88adadd893fad4596f": {
          "model_module": "@jupyter-widgets/base",
          "model_name": "LayoutModel",
          "model_module_version": "1.2.0",
          "state": {
            "_model_module": "@jupyter-widgets/base",
            "_model_module_version": "1.2.0",
            "_model_name": "LayoutModel",
            "_view_count": null,
            "_view_module": "@jupyter-widgets/base",
            "_view_module_version": "1.2.0",
            "_view_name": "LayoutView",
            "align_content": null,
            "align_items": null,
            "align_self": null,
            "border": null,
            "bottom": null,
            "display": null,
            "flex": null,
            "flex_flow": null,
            "grid_area": null,
            "grid_auto_columns": null,
            "grid_auto_flow": null,
            "grid_auto_rows": null,
            "grid_column": null,
            "grid_gap": null,
            "grid_row": null,
            "grid_template_areas": null,
            "grid_template_columns": null,
            "grid_template_rows": null,
            "height": null,
            "justify_content": null,
            "justify_items": null,
            "left": null,
            "margin": null,
            "max_height": null,
            "max_width": null,
            "min_height": null,
            "min_width": null,
            "object_fit": null,
            "object_position": null,
            "order": null,
            "overflow": null,
            "overflow_x": null,
            "overflow_y": null,
            "padding": null,
            "right": null,
            "top": null,
            "visibility": null,
            "width": null
          }
        },
        "90ebfee77b5f486ea198a1520b20e39d": {
          "model_module": "@jupyter-widgets/controls",
          "model_name": "DescriptionStyleModel",
          "model_module_version": "1.5.0",
          "state": {
            "_model_module": "@jupyter-widgets/controls",
            "_model_module_version": "1.5.0",
            "_model_name": "DescriptionStyleModel",
            "_view_count": null,
            "_view_module": "@jupyter-widgets/base",
            "_view_module_version": "1.2.0",
            "_view_name": "StyleView",
            "description_width": ""
          }
        },
        "354ad51f2fa546b4a6401763c50c40fe": {
          "model_module": "@jupyter-widgets/base",
          "model_name": "LayoutModel",
          "model_module_version": "1.2.0",
          "state": {
            "_model_module": "@jupyter-widgets/base",
            "_model_module_version": "1.2.0",
            "_model_name": "LayoutModel",
            "_view_count": null,
            "_view_module": "@jupyter-widgets/base",
            "_view_module_version": "1.2.0",
            "_view_name": "LayoutView",
            "align_content": null,
            "align_items": null,
            "align_self": null,
            "border": null,
            "bottom": null,
            "display": null,
            "flex": null,
            "flex_flow": null,
            "grid_area": null,
            "grid_auto_columns": null,
            "grid_auto_flow": null,
            "grid_auto_rows": null,
            "grid_column": null,
            "grid_gap": null,
            "grid_row": null,
            "grid_template_areas": null,
            "grid_template_columns": null,
            "grid_template_rows": null,
            "height": null,
            "justify_content": null,
            "justify_items": null,
            "left": null,
            "margin": null,
            "max_height": null,
            "max_width": null,
            "min_height": null,
            "min_width": null,
            "object_fit": null,
            "object_position": null,
            "order": null,
            "overflow": null,
            "overflow_x": null,
            "overflow_y": null,
            "padding": null,
            "right": null,
            "top": null,
            "visibility": null,
            "width": null
          }
        },
        "a3e4ad3bdd0f4492b17de2782e62f513": {
          "model_module": "@jupyter-widgets/controls",
          "model_name": "ProgressStyleModel",
          "model_module_version": "1.5.0",
          "state": {
            "_model_module": "@jupyter-widgets/controls",
            "_model_module_version": "1.5.0",
            "_model_name": "ProgressStyleModel",
            "_view_count": null,
            "_view_module": "@jupyter-widgets/base",
            "_view_module_version": "1.2.0",
            "_view_name": "StyleView",
            "bar_color": null,
            "description_width": ""
          }
        },
        "328798e69a2e43e3b8c4a84fecfe495c": {
          "model_module": "@jupyter-widgets/base",
          "model_name": "LayoutModel",
          "model_module_version": "1.2.0",
          "state": {
            "_model_module": "@jupyter-widgets/base",
            "_model_module_version": "1.2.0",
            "_model_name": "LayoutModel",
            "_view_count": null,
            "_view_module": "@jupyter-widgets/base",
            "_view_module_version": "1.2.0",
            "_view_name": "LayoutView",
            "align_content": null,
            "align_items": null,
            "align_self": null,
            "border": null,
            "bottom": null,
            "display": null,
            "flex": null,
            "flex_flow": null,
            "grid_area": null,
            "grid_auto_columns": null,
            "grid_auto_flow": null,
            "grid_auto_rows": null,
            "grid_column": null,
            "grid_gap": null,
            "grid_row": null,
            "grid_template_areas": null,
            "grid_template_columns": null,
            "grid_template_rows": null,
            "height": null,
            "justify_content": null,
            "justify_items": null,
            "left": null,
            "margin": null,
            "max_height": null,
            "max_width": null,
            "min_height": null,
            "min_width": null,
            "object_fit": null,
            "object_position": null,
            "order": null,
            "overflow": null,
            "overflow_x": null,
            "overflow_y": null,
            "padding": null,
            "right": null,
            "top": null,
            "visibility": null,
            "width": null
          }
        },
        "e4cc88fa89d44f21a390ac69802e3c62": {
          "model_module": "@jupyter-widgets/controls",
          "model_name": "DescriptionStyleModel",
          "model_module_version": "1.5.0",
          "state": {
            "_model_module": "@jupyter-widgets/controls",
            "_model_module_version": "1.5.0",
            "_model_name": "DescriptionStyleModel",
            "_view_count": null,
            "_view_module": "@jupyter-widgets/base",
            "_view_module_version": "1.2.0",
            "_view_name": "StyleView",
            "description_width": ""
          }
        },
        "127af8eeb30d4e8c976d3deaedd71563": {
          "model_module": "@jupyter-widgets/controls",
          "model_name": "HBoxModel",
          "model_module_version": "1.5.0",
          "state": {
            "_dom_classes": [],
            "_model_module": "@jupyter-widgets/controls",
            "_model_module_version": "1.5.0",
            "_model_name": "HBoxModel",
            "_view_count": null,
            "_view_module": "@jupyter-widgets/controls",
            "_view_module_version": "1.5.0",
            "_view_name": "HBoxView",
            "box_style": "",
            "children": [
              "IPY_MODEL_e74a28e4a3704bf5907494df4ee482b1",
              "IPY_MODEL_a2c29c6317a84fd7a263fc8ce1cccaa6",
              "IPY_MODEL_15bae72198e44c2d9750f1c821b96f28"
            ],
            "layout": "IPY_MODEL_30ac24edbf7749f895e83a4c79e75424"
          }
        },
        "e74a28e4a3704bf5907494df4ee482b1": {
          "model_module": "@jupyter-widgets/controls",
          "model_name": "HTMLModel",
          "model_module_version": "1.5.0",
          "state": {
            "_dom_classes": [],
            "_model_module": "@jupyter-widgets/controls",
            "_model_module_version": "1.5.0",
            "_model_name": "HTMLModel",
            "_view_count": null,
            "_view_module": "@jupyter-widgets/controls",
            "_view_module_version": "1.5.0",
            "_view_name": "HTMLView",
            "description": "",
            "description_tooltip": null,
            "layout": "IPY_MODEL_9dc591133d4a4a17a15962aba0d03892",
            "placeholder": "​",
            "style": "IPY_MODEL_a124ca9008ec4d7083b3ed73b5862c51",
            "value": "1_Pooling/config.json: 100%"
          }
        },
        "a2c29c6317a84fd7a263fc8ce1cccaa6": {
          "model_module": "@jupyter-widgets/controls",
          "model_name": "FloatProgressModel",
          "model_module_version": "1.5.0",
          "state": {
            "_dom_classes": [],
            "_model_module": "@jupyter-widgets/controls",
            "_model_module_version": "1.5.0",
            "_model_name": "FloatProgressModel",
            "_view_count": null,
            "_view_module": "@jupyter-widgets/controls",
            "_view_module_version": "1.5.0",
            "_view_name": "ProgressView",
            "bar_style": "success",
            "description": "",
            "description_tooltip": null,
            "layout": "IPY_MODEL_35a8a6032a444db1a82292e11d0e7d53",
            "max": 190,
            "min": 0,
            "orientation": "horizontal",
            "style": "IPY_MODEL_5ba4c77a43a24c2a944b8545840b69ff",
            "value": 190
          }
        },
        "15bae72198e44c2d9750f1c821b96f28": {
          "model_module": "@jupyter-widgets/controls",
          "model_name": "HTMLModel",
          "model_module_version": "1.5.0",
          "state": {
            "_dom_classes": [],
            "_model_module": "@jupyter-widgets/controls",
            "_model_module_version": "1.5.0",
            "_model_name": "HTMLModel",
            "_view_count": null,
            "_view_module": "@jupyter-widgets/controls",
            "_view_module_version": "1.5.0",
            "_view_name": "HTMLView",
            "description": "",
            "description_tooltip": null,
            "layout": "IPY_MODEL_3eada4d147c948f1b29abe961ffb1259",
            "placeholder": "​",
            "style": "IPY_MODEL_0ffbf45af25e40ffb94642f94416ffae",
            "value": " 190/190 [00:00&lt;00:00, 8.31kB/s]"
          }
        },
        "30ac24edbf7749f895e83a4c79e75424": {
          "model_module": "@jupyter-widgets/base",
          "model_name": "LayoutModel",
          "model_module_version": "1.2.0",
          "state": {
            "_model_module": "@jupyter-widgets/base",
            "_model_module_version": "1.2.0",
            "_model_name": "LayoutModel",
            "_view_count": null,
            "_view_module": "@jupyter-widgets/base",
            "_view_module_version": "1.2.0",
            "_view_name": "LayoutView",
            "align_content": null,
            "align_items": null,
            "align_self": null,
            "border": null,
            "bottom": null,
            "display": null,
            "flex": null,
            "flex_flow": null,
            "grid_area": null,
            "grid_auto_columns": null,
            "grid_auto_flow": null,
            "grid_auto_rows": null,
            "grid_column": null,
            "grid_gap": null,
            "grid_row": null,
            "grid_template_areas": null,
            "grid_template_columns": null,
            "grid_template_rows": null,
            "height": null,
            "justify_content": null,
            "justify_items": null,
            "left": null,
            "margin": null,
            "max_height": null,
            "max_width": null,
            "min_height": null,
            "min_width": null,
            "object_fit": null,
            "object_position": null,
            "order": null,
            "overflow": null,
            "overflow_x": null,
            "overflow_y": null,
            "padding": null,
            "right": null,
            "top": null,
            "visibility": null,
            "width": null
          }
        },
        "9dc591133d4a4a17a15962aba0d03892": {
          "model_module": "@jupyter-widgets/base",
          "model_name": "LayoutModel",
          "model_module_version": "1.2.0",
          "state": {
            "_model_module": "@jupyter-widgets/base",
            "_model_module_version": "1.2.0",
            "_model_name": "LayoutModel",
            "_view_count": null,
            "_view_module": "@jupyter-widgets/base",
            "_view_module_version": "1.2.0",
            "_view_name": "LayoutView",
            "align_content": null,
            "align_items": null,
            "align_self": null,
            "border": null,
            "bottom": null,
            "display": null,
            "flex": null,
            "flex_flow": null,
            "grid_area": null,
            "grid_auto_columns": null,
            "grid_auto_flow": null,
            "grid_auto_rows": null,
            "grid_column": null,
            "grid_gap": null,
            "grid_row": null,
            "grid_template_areas": null,
            "grid_template_columns": null,
            "grid_template_rows": null,
            "height": null,
            "justify_content": null,
            "justify_items": null,
            "left": null,
            "margin": null,
            "max_height": null,
            "max_width": null,
            "min_height": null,
            "min_width": null,
            "object_fit": null,
            "object_position": null,
            "order": null,
            "overflow": null,
            "overflow_x": null,
            "overflow_y": null,
            "padding": null,
            "right": null,
            "top": null,
            "visibility": null,
            "width": null
          }
        },
        "a124ca9008ec4d7083b3ed73b5862c51": {
          "model_module": "@jupyter-widgets/controls",
          "model_name": "DescriptionStyleModel",
          "model_module_version": "1.5.0",
          "state": {
            "_model_module": "@jupyter-widgets/controls",
            "_model_module_version": "1.5.0",
            "_model_name": "DescriptionStyleModel",
            "_view_count": null,
            "_view_module": "@jupyter-widgets/base",
            "_view_module_version": "1.2.0",
            "_view_name": "StyleView",
            "description_width": ""
          }
        },
        "35a8a6032a444db1a82292e11d0e7d53": {
          "model_module": "@jupyter-widgets/base",
          "model_name": "LayoutModel",
          "model_module_version": "1.2.0",
          "state": {
            "_model_module": "@jupyter-widgets/base",
            "_model_module_version": "1.2.0",
            "_model_name": "LayoutModel",
            "_view_count": null,
            "_view_module": "@jupyter-widgets/base",
            "_view_module_version": "1.2.0",
            "_view_name": "LayoutView",
            "align_content": null,
            "align_items": null,
            "align_self": null,
            "border": null,
            "bottom": null,
            "display": null,
            "flex": null,
            "flex_flow": null,
            "grid_area": null,
            "grid_auto_columns": null,
            "grid_auto_flow": null,
            "grid_auto_rows": null,
            "grid_column": null,
            "grid_gap": null,
            "grid_row": null,
            "grid_template_areas": null,
            "grid_template_columns": null,
            "grid_template_rows": null,
            "height": null,
            "justify_content": null,
            "justify_items": null,
            "left": null,
            "margin": null,
            "max_height": null,
            "max_width": null,
            "min_height": null,
            "min_width": null,
            "object_fit": null,
            "object_position": null,
            "order": null,
            "overflow": null,
            "overflow_x": null,
            "overflow_y": null,
            "padding": null,
            "right": null,
            "top": null,
            "visibility": null,
            "width": null
          }
        },
        "5ba4c77a43a24c2a944b8545840b69ff": {
          "model_module": "@jupyter-widgets/controls",
          "model_name": "ProgressStyleModel",
          "model_module_version": "1.5.0",
          "state": {
            "_model_module": "@jupyter-widgets/controls",
            "_model_module_version": "1.5.0",
            "_model_name": "ProgressStyleModel",
            "_view_count": null,
            "_view_module": "@jupyter-widgets/base",
            "_view_module_version": "1.2.0",
            "_view_name": "StyleView",
            "bar_color": null,
            "description_width": ""
          }
        },
        "3eada4d147c948f1b29abe961ffb1259": {
          "model_module": "@jupyter-widgets/base",
          "model_name": "LayoutModel",
          "model_module_version": "1.2.0",
          "state": {
            "_model_module": "@jupyter-widgets/base",
            "_model_module_version": "1.2.0",
            "_model_name": "LayoutModel",
            "_view_count": null,
            "_view_module": "@jupyter-widgets/base",
            "_view_module_version": "1.2.0",
            "_view_name": "LayoutView",
            "align_content": null,
            "align_items": null,
            "align_self": null,
            "border": null,
            "bottom": null,
            "display": null,
            "flex": null,
            "flex_flow": null,
            "grid_area": null,
            "grid_auto_columns": null,
            "grid_auto_flow": null,
            "grid_auto_rows": null,
            "grid_column": null,
            "grid_gap": null,
            "grid_row": null,
            "grid_template_areas": null,
            "grid_template_columns": null,
            "grid_template_rows": null,
            "height": null,
            "justify_content": null,
            "justify_items": null,
            "left": null,
            "margin": null,
            "max_height": null,
            "max_width": null,
            "min_height": null,
            "min_width": null,
            "object_fit": null,
            "object_position": null,
            "order": null,
            "overflow": null,
            "overflow_x": null,
            "overflow_y": null,
            "padding": null,
            "right": null,
            "top": null,
            "visibility": null,
            "width": null
          }
        },
        "0ffbf45af25e40ffb94642f94416ffae": {
          "model_module": "@jupyter-widgets/controls",
          "model_name": "DescriptionStyleModel",
          "model_module_version": "1.5.0",
          "state": {
            "_model_module": "@jupyter-widgets/controls",
            "_model_module_version": "1.5.0",
            "_model_name": "DescriptionStyleModel",
            "_view_count": null,
            "_view_module": "@jupyter-widgets/base",
            "_view_module_version": "1.2.0",
            "_view_name": "StyleView",
            "description_width": ""
          }
        },
        "8fb24f546c934cb8b2fd725e4669605e": {
          "model_module": "@jupyter-widgets/controls",
          "model_name": "HBoxModel",
          "model_module_version": "1.5.0",
          "state": {
            "_dom_classes": [],
            "_model_module": "@jupyter-widgets/controls",
            "_model_module_version": "1.5.0",
            "_model_name": "HBoxModel",
            "_view_count": null,
            "_view_module": "@jupyter-widgets/controls",
            "_view_module_version": "1.5.0",
            "_view_name": "HBoxView",
            "box_style": "",
            "children": [
              "IPY_MODEL_ece7ccb4302e471db32570b9aeb5c1f5",
              "IPY_MODEL_e3925ffc848c40f7b068e48aa6026fe8",
              "IPY_MODEL_939fb57a1a0c4b79ad5c226fc9d2040e"
            ],
            "layout": "IPY_MODEL_2f1e319557074b278ba7352b6839195a"
          }
        },
        "ece7ccb4302e471db32570b9aeb5c1f5": {
          "model_module": "@jupyter-widgets/controls",
          "model_name": "HTMLModel",
          "model_module_version": "1.5.0",
          "state": {
            "_dom_classes": [],
            "_model_module": "@jupyter-widgets/controls",
            "_model_module_version": "1.5.0",
            "_model_name": "HTMLModel",
            "_view_count": null,
            "_view_module": "@jupyter-widgets/controls",
            "_view_module_version": "1.5.0",
            "_view_name": "HTMLView",
            "description": "",
            "description_tooltip": null,
            "layout": "IPY_MODEL_4a6c7e852c6c46beb43bccb23d463b74",
            "placeholder": "​",
            "style": "IPY_MODEL_0697b78d038a485888f46a79ed09d1c1",
            "value": "tokenizer_config.json: 100%"
          }
        },
        "e3925ffc848c40f7b068e48aa6026fe8": {
          "model_module": "@jupyter-widgets/controls",
          "model_name": "FloatProgressModel",
          "model_module_version": "1.5.0",
          "state": {
            "_dom_classes": [],
            "_model_module": "@jupyter-widgets/controls",
            "_model_module_version": "1.5.0",
            "_model_name": "FloatProgressModel",
            "_view_count": null,
            "_view_module": "@jupyter-widgets/controls",
            "_view_module_version": "1.5.0",
            "_view_name": "ProgressView",
            "bar_style": "success",
            "description": "",
            "description_tooltip": null,
            "layout": "IPY_MODEL_489947a3dc014edeb59b75cfebc72eb9",
            "max": 48,
            "min": 0,
            "orientation": "horizontal",
            "style": "IPY_MODEL_479818a056524212a26739c22e96a1fd",
            "value": 48
          }
        },
        "939fb57a1a0c4b79ad5c226fc9d2040e": {
          "model_module": "@jupyter-widgets/controls",
          "model_name": "HTMLModel",
          "model_module_version": "1.5.0",
          "state": {
            "_dom_classes": [],
            "_model_module": "@jupyter-widgets/controls",
            "_model_module_version": "1.5.0",
            "_model_name": "HTMLModel",
            "_view_count": null,
            "_view_module": "@jupyter-widgets/controls",
            "_view_module_version": "1.5.0",
            "_view_name": "HTMLView",
            "description": "",
            "description_tooltip": null,
            "layout": "IPY_MODEL_49c4f695de3b4fbab81b93675ab027ab",
            "placeholder": "​",
            "style": "IPY_MODEL_feddb66feef04cf2bee8cab1723a1bec",
            "value": " 48.0/48.0 [00:00&lt;00:00, 1.33kB/s]"
          }
        },
        "2f1e319557074b278ba7352b6839195a": {
          "model_module": "@jupyter-widgets/base",
          "model_name": "LayoutModel",
          "model_module_version": "1.2.0",
          "state": {
            "_model_module": "@jupyter-widgets/base",
            "_model_module_version": "1.2.0",
            "_model_name": "LayoutModel",
            "_view_count": null,
            "_view_module": "@jupyter-widgets/base",
            "_view_module_version": "1.2.0",
            "_view_name": "LayoutView",
            "align_content": null,
            "align_items": null,
            "align_self": null,
            "border": null,
            "bottom": null,
            "display": null,
            "flex": null,
            "flex_flow": null,
            "grid_area": null,
            "grid_auto_columns": null,
            "grid_auto_flow": null,
            "grid_auto_rows": null,
            "grid_column": null,
            "grid_gap": null,
            "grid_row": null,
            "grid_template_areas": null,
            "grid_template_columns": null,
            "grid_template_rows": null,
            "height": null,
            "justify_content": null,
            "justify_items": null,
            "left": null,
            "margin": null,
            "max_height": null,
            "max_width": null,
            "min_height": null,
            "min_width": null,
            "object_fit": null,
            "object_position": null,
            "order": null,
            "overflow": null,
            "overflow_x": null,
            "overflow_y": null,
            "padding": null,
            "right": null,
            "top": null,
            "visibility": null,
            "width": null
          }
        },
        "4a6c7e852c6c46beb43bccb23d463b74": {
          "model_module": "@jupyter-widgets/base",
          "model_name": "LayoutModel",
          "model_module_version": "1.2.0",
          "state": {
            "_model_module": "@jupyter-widgets/base",
            "_model_module_version": "1.2.0",
            "_model_name": "LayoutModel",
            "_view_count": null,
            "_view_module": "@jupyter-widgets/base",
            "_view_module_version": "1.2.0",
            "_view_name": "LayoutView",
            "align_content": null,
            "align_items": null,
            "align_self": null,
            "border": null,
            "bottom": null,
            "display": null,
            "flex": null,
            "flex_flow": null,
            "grid_area": null,
            "grid_auto_columns": null,
            "grid_auto_flow": null,
            "grid_auto_rows": null,
            "grid_column": null,
            "grid_gap": null,
            "grid_row": null,
            "grid_template_areas": null,
            "grid_template_columns": null,
            "grid_template_rows": null,
            "height": null,
            "justify_content": null,
            "justify_items": null,
            "left": null,
            "margin": null,
            "max_height": null,
            "max_width": null,
            "min_height": null,
            "min_width": null,
            "object_fit": null,
            "object_position": null,
            "order": null,
            "overflow": null,
            "overflow_x": null,
            "overflow_y": null,
            "padding": null,
            "right": null,
            "top": null,
            "visibility": null,
            "width": null
          }
        },
        "0697b78d038a485888f46a79ed09d1c1": {
          "model_module": "@jupyter-widgets/controls",
          "model_name": "DescriptionStyleModel",
          "model_module_version": "1.5.0",
          "state": {
            "_model_module": "@jupyter-widgets/controls",
            "_model_module_version": "1.5.0",
            "_model_name": "DescriptionStyleModel",
            "_view_count": null,
            "_view_module": "@jupyter-widgets/base",
            "_view_module_version": "1.2.0",
            "_view_name": "StyleView",
            "description_width": ""
          }
        },
        "489947a3dc014edeb59b75cfebc72eb9": {
          "model_module": "@jupyter-widgets/base",
          "model_name": "LayoutModel",
          "model_module_version": "1.2.0",
          "state": {
            "_model_module": "@jupyter-widgets/base",
            "_model_module_version": "1.2.0",
            "_model_name": "LayoutModel",
            "_view_count": null,
            "_view_module": "@jupyter-widgets/base",
            "_view_module_version": "1.2.0",
            "_view_name": "LayoutView",
            "align_content": null,
            "align_items": null,
            "align_self": null,
            "border": null,
            "bottom": null,
            "display": null,
            "flex": null,
            "flex_flow": null,
            "grid_area": null,
            "grid_auto_columns": null,
            "grid_auto_flow": null,
            "grid_auto_rows": null,
            "grid_column": null,
            "grid_gap": null,
            "grid_row": null,
            "grid_template_areas": null,
            "grid_template_columns": null,
            "grid_template_rows": null,
            "height": null,
            "justify_content": null,
            "justify_items": null,
            "left": null,
            "margin": null,
            "max_height": null,
            "max_width": null,
            "min_height": null,
            "min_width": null,
            "object_fit": null,
            "object_position": null,
            "order": null,
            "overflow": null,
            "overflow_x": null,
            "overflow_y": null,
            "padding": null,
            "right": null,
            "top": null,
            "visibility": null,
            "width": null
          }
        },
        "479818a056524212a26739c22e96a1fd": {
          "model_module": "@jupyter-widgets/controls",
          "model_name": "ProgressStyleModel",
          "model_module_version": "1.5.0",
          "state": {
            "_model_module": "@jupyter-widgets/controls",
            "_model_module_version": "1.5.0",
            "_model_name": "ProgressStyleModel",
            "_view_count": null,
            "_view_module": "@jupyter-widgets/base",
            "_view_module_version": "1.2.0",
            "_view_name": "StyleView",
            "bar_color": null,
            "description_width": ""
          }
        },
        "49c4f695de3b4fbab81b93675ab027ab": {
          "model_module": "@jupyter-widgets/base",
          "model_name": "LayoutModel",
          "model_module_version": "1.2.0",
          "state": {
            "_model_module": "@jupyter-widgets/base",
            "_model_module_version": "1.2.0",
            "_model_name": "LayoutModel",
            "_view_count": null,
            "_view_module": "@jupyter-widgets/base",
            "_view_module_version": "1.2.0",
            "_view_name": "LayoutView",
            "align_content": null,
            "align_items": null,
            "align_self": null,
            "border": null,
            "bottom": null,
            "display": null,
            "flex": null,
            "flex_flow": null,
            "grid_area": null,
            "grid_auto_columns": null,
            "grid_auto_flow": null,
            "grid_auto_rows": null,
            "grid_column": null,
            "grid_gap": null,
            "grid_row": null,
            "grid_template_areas": null,
            "grid_template_columns": null,
            "grid_template_rows": null,
            "height": null,
            "justify_content": null,
            "justify_items": null,
            "left": null,
            "margin": null,
            "max_height": null,
            "max_width": null,
            "min_height": null,
            "min_width": null,
            "object_fit": null,
            "object_position": null,
            "order": null,
            "overflow": null,
            "overflow_x": null,
            "overflow_y": null,
            "padding": null,
            "right": null,
            "top": null,
            "visibility": null,
            "width": null
          }
        },
        "feddb66feef04cf2bee8cab1723a1bec": {
          "model_module": "@jupyter-widgets/controls",
          "model_name": "DescriptionStyleModel",
          "model_module_version": "1.5.0",
          "state": {
            "_model_module": "@jupyter-widgets/controls",
            "_model_module_version": "1.5.0",
            "_model_name": "DescriptionStyleModel",
            "_view_count": null,
            "_view_module": "@jupyter-widgets/base",
            "_view_module_version": "1.2.0",
            "_view_name": "StyleView",
            "description_width": ""
          }
        },
        "6e6aba22adc643ffa7870530fbc16609": {
          "model_module": "@jupyter-widgets/controls",
          "model_name": "HBoxModel",
          "model_module_version": "1.5.0",
          "state": {
            "_dom_classes": [],
            "_model_module": "@jupyter-widgets/controls",
            "_model_module_version": "1.5.0",
            "_model_name": "HBoxModel",
            "_view_count": null,
            "_view_module": "@jupyter-widgets/controls",
            "_view_module_version": "1.5.0",
            "_view_name": "HBoxView",
            "box_style": "",
            "children": [
              "IPY_MODEL_f4eb360b72da4674a0f0866017392f6c",
              "IPY_MODEL_b588aec35e824a579c3141b43116d8ff",
              "IPY_MODEL_21eafbf771ef4b2e8245e7a4647aeb22"
            ],
            "layout": "IPY_MODEL_d3b5e84c98994078bf655866d762e412"
          }
        },
        "f4eb360b72da4674a0f0866017392f6c": {
          "model_module": "@jupyter-widgets/controls",
          "model_name": "HTMLModel",
          "model_module_version": "1.5.0",
          "state": {
            "_dom_classes": [],
            "_model_module": "@jupyter-widgets/controls",
            "_model_module_version": "1.5.0",
            "_model_name": "HTMLModel",
            "_view_count": null,
            "_view_module": "@jupyter-widgets/controls",
            "_view_module_version": "1.5.0",
            "_view_name": "HTMLView",
            "description": "",
            "description_tooltip": null,
            "layout": "IPY_MODEL_95e8fd6f352f4b34b7e929de60b98e45",
            "placeholder": "​",
            "style": "IPY_MODEL_648124c8940744a8beb686babedd7a8a",
            "value": "vocab.txt: 100%"
          }
        },
        "b588aec35e824a579c3141b43116d8ff": {
          "model_module": "@jupyter-widgets/controls",
          "model_name": "FloatProgressModel",
          "model_module_version": "1.5.0",
          "state": {
            "_dom_classes": [],
            "_model_module": "@jupyter-widgets/controls",
            "_model_module_version": "1.5.0",
            "_model_name": "FloatProgressModel",
            "_view_count": null,
            "_view_module": "@jupyter-widgets/controls",
            "_view_module_version": "1.5.0",
            "_view_name": "ProgressView",
            "bar_style": "success",
            "description": "",
            "description_tooltip": null,
            "layout": "IPY_MODEL_78d3b8e51af24fac8e25b78d2908ad3a",
            "max": 231508,
            "min": 0,
            "orientation": "horizontal",
            "style": "IPY_MODEL_c0918a898dab4b3ead5f37f08f2a2395",
            "value": 231508
          }
        },
        "21eafbf771ef4b2e8245e7a4647aeb22": {
          "model_module": "@jupyter-widgets/controls",
          "model_name": "HTMLModel",
          "model_module_version": "1.5.0",
          "state": {
            "_dom_classes": [],
            "_model_module": "@jupyter-widgets/controls",
            "_model_module_version": "1.5.0",
            "_model_name": "HTMLModel",
            "_view_count": null,
            "_view_module": "@jupyter-widgets/controls",
            "_view_module_version": "1.5.0",
            "_view_name": "HTMLView",
            "description": "",
            "description_tooltip": null,
            "layout": "IPY_MODEL_f8cfc9a261dc49faa1500600dc1c8a43",
            "placeholder": "​",
            "style": "IPY_MODEL_6517afe536dd481cad3500254b99cc85",
            "value": " 232k/232k [00:00&lt;00:00, 8.23MB/s]"
          }
        },
        "d3b5e84c98994078bf655866d762e412": {
          "model_module": "@jupyter-widgets/base",
          "model_name": "LayoutModel",
          "model_module_version": "1.2.0",
          "state": {
            "_model_module": "@jupyter-widgets/base",
            "_model_module_version": "1.2.0",
            "_model_name": "LayoutModel",
            "_view_count": null,
            "_view_module": "@jupyter-widgets/base",
            "_view_module_version": "1.2.0",
            "_view_name": "LayoutView",
            "align_content": null,
            "align_items": null,
            "align_self": null,
            "border": null,
            "bottom": null,
            "display": null,
            "flex": null,
            "flex_flow": null,
            "grid_area": null,
            "grid_auto_columns": null,
            "grid_auto_flow": null,
            "grid_auto_rows": null,
            "grid_column": null,
            "grid_gap": null,
            "grid_row": null,
            "grid_template_areas": null,
            "grid_template_columns": null,
            "grid_template_rows": null,
            "height": null,
            "justify_content": null,
            "justify_items": null,
            "left": null,
            "margin": null,
            "max_height": null,
            "max_width": null,
            "min_height": null,
            "min_width": null,
            "object_fit": null,
            "object_position": null,
            "order": null,
            "overflow": null,
            "overflow_x": null,
            "overflow_y": null,
            "padding": null,
            "right": null,
            "top": null,
            "visibility": null,
            "width": null
          }
        },
        "95e8fd6f352f4b34b7e929de60b98e45": {
          "model_module": "@jupyter-widgets/base",
          "model_name": "LayoutModel",
          "model_module_version": "1.2.0",
          "state": {
            "_model_module": "@jupyter-widgets/base",
            "_model_module_version": "1.2.0",
            "_model_name": "LayoutModel",
            "_view_count": null,
            "_view_module": "@jupyter-widgets/base",
            "_view_module_version": "1.2.0",
            "_view_name": "LayoutView",
            "align_content": null,
            "align_items": null,
            "align_self": null,
            "border": null,
            "bottom": null,
            "display": null,
            "flex": null,
            "flex_flow": null,
            "grid_area": null,
            "grid_auto_columns": null,
            "grid_auto_flow": null,
            "grid_auto_rows": null,
            "grid_column": null,
            "grid_gap": null,
            "grid_row": null,
            "grid_template_areas": null,
            "grid_template_columns": null,
            "grid_template_rows": null,
            "height": null,
            "justify_content": null,
            "justify_items": null,
            "left": null,
            "margin": null,
            "max_height": null,
            "max_width": null,
            "min_height": null,
            "min_width": null,
            "object_fit": null,
            "object_position": null,
            "order": null,
            "overflow": null,
            "overflow_x": null,
            "overflow_y": null,
            "padding": null,
            "right": null,
            "top": null,
            "visibility": null,
            "width": null
          }
        },
        "648124c8940744a8beb686babedd7a8a": {
          "model_module": "@jupyter-widgets/controls",
          "model_name": "DescriptionStyleModel",
          "model_module_version": "1.5.0",
          "state": {
            "_model_module": "@jupyter-widgets/controls",
            "_model_module_version": "1.5.0",
            "_model_name": "DescriptionStyleModel",
            "_view_count": null,
            "_view_module": "@jupyter-widgets/base",
            "_view_module_version": "1.2.0",
            "_view_name": "StyleView",
            "description_width": ""
          }
        },
        "78d3b8e51af24fac8e25b78d2908ad3a": {
          "model_module": "@jupyter-widgets/base",
          "model_name": "LayoutModel",
          "model_module_version": "1.2.0",
          "state": {
            "_model_module": "@jupyter-widgets/base",
            "_model_module_version": "1.2.0",
            "_model_name": "LayoutModel",
            "_view_count": null,
            "_view_module": "@jupyter-widgets/base",
            "_view_module_version": "1.2.0",
            "_view_name": "LayoutView",
            "align_content": null,
            "align_items": null,
            "align_self": null,
            "border": null,
            "bottom": null,
            "display": null,
            "flex": null,
            "flex_flow": null,
            "grid_area": null,
            "grid_auto_columns": null,
            "grid_auto_flow": null,
            "grid_auto_rows": null,
            "grid_column": null,
            "grid_gap": null,
            "grid_row": null,
            "grid_template_areas": null,
            "grid_template_columns": null,
            "grid_template_rows": null,
            "height": null,
            "justify_content": null,
            "justify_items": null,
            "left": null,
            "margin": null,
            "max_height": null,
            "max_width": null,
            "min_height": null,
            "min_width": null,
            "object_fit": null,
            "object_position": null,
            "order": null,
            "overflow": null,
            "overflow_x": null,
            "overflow_y": null,
            "padding": null,
            "right": null,
            "top": null,
            "visibility": null,
            "width": null
          }
        },
        "c0918a898dab4b3ead5f37f08f2a2395": {
          "model_module": "@jupyter-widgets/controls",
          "model_name": "ProgressStyleModel",
          "model_module_version": "1.5.0",
          "state": {
            "_model_module": "@jupyter-widgets/controls",
            "_model_module_version": "1.5.0",
            "_model_name": "ProgressStyleModel",
            "_view_count": null,
            "_view_module": "@jupyter-widgets/base",
            "_view_module_version": "1.2.0",
            "_view_name": "StyleView",
            "bar_color": null,
            "description_width": ""
          }
        },
        "f8cfc9a261dc49faa1500600dc1c8a43": {
          "model_module": "@jupyter-widgets/base",
          "model_name": "LayoutModel",
          "model_module_version": "1.2.0",
          "state": {
            "_model_module": "@jupyter-widgets/base",
            "_model_module_version": "1.2.0",
            "_model_name": "LayoutModel",
            "_view_count": null,
            "_view_module": "@jupyter-widgets/base",
            "_view_module_version": "1.2.0",
            "_view_name": "LayoutView",
            "align_content": null,
            "align_items": null,
            "align_self": null,
            "border": null,
            "bottom": null,
            "display": null,
            "flex": null,
            "flex_flow": null,
            "grid_area": null,
            "grid_auto_columns": null,
            "grid_auto_flow": null,
            "grid_auto_rows": null,
            "grid_column": null,
            "grid_gap": null,
            "grid_row": null,
            "grid_template_areas": null,
            "grid_template_columns": null,
            "grid_template_rows": null,
            "height": null,
            "justify_content": null,
            "justify_items": null,
            "left": null,
            "margin": null,
            "max_height": null,
            "max_width": null,
            "min_height": null,
            "min_width": null,
            "object_fit": null,
            "object_position": null,
            "order": null,
            "overflow": null,
            "overflow_x": null,
            "overflow_y": null,
            "padding": null,
            "right": null,
            "top": null,
            "visibility": null,
            "width": null
          }
        },
        "6517afe536dd481cad3500254b99cc85": {
          "model_module": "@jupyter-widgets/controls",
          "model_name": "DescriptionStyleModel",
          "model_module_version": "1.5.0",
          "state": {
            "_model_module": "@jupyter-widgets/controls",
            "_model_module_version": "1.5.0",
            "_model_name": "DescriptionStyleModel",
            "_view_count": null,
            "_view_module": "@jupyter-widgets/base",
            "_view_module_version": "1.2.0",
            "_view_name": "StyleView",
            "description_width": ""
          }
        },
        "378ffdf987064bef9da4d25fd909170e": {
          "model_module": "@jupyter-widgets/controls",
          "model_name": "HBoxModel",
          "model_module_version": "1.5.0",
          "state": {
            "_dom_classes": [],
            "_model_module": "@jupyter-widgets/controls",
            "_model_module_version": "1.5.0",
            "_model_name": "HBoxModel",
            "_view_count": null,
            "_view_module": "@jupyter-widgets/controls",
            "_view_module_version": "1.5.0",
            "_view_name": "HBoxView",
            "box_style": "",
            "children": [
              "IPY_MODEL_e62610492fed426fae2e9bfdc59630ea",
              "IPY_MODEL_137bb7ddcd5f4331ae3e7e29304ab1c9",
              "IPY_MODEL_4eac79320cc4450cbed88c24faae2b6a"
            ],
            "layout": "IPY_MODEL_6583afe6724446639ce408a51e494e4e"
          }
        },
        "e62610492fed426fae2e9bfdc59630ea": {
          "model_module": "@jupyter-widgets/controls",
          "model_name": "HTMLModel",
          "model_module_version": "1.5.0",
          "state": {
            "_dom_classes": [],
            "_model_module": "@jupyter-widgets/controls",
            "_model_module_version": "1.5.0",
            "_model_name": "HTMLModel",
            "_view_count": null,
            "_view_module": "@jupyter-widgets/controls",
            "_view_module_version": "1.5.0",
            "_view_name": "HTMLView",
            "description": "",
            "description_tooltip": null,
            "layout": "IPY_MODEL_f16c2dc3049b46af95db729f924ee7c2",
            "placeholder": "​",
            "style": "IPY_MODEL_94d1ccf4128a480db7c8ee7a952e3729",
            "value": "tokenizer.json: 100%"
          }
        },
        "137bb7ddcd5f4331ae3e7e29304ab1c9": {
          "model_module": "@jupyter-widgets/controls",
          "model_name": "FloatProgressModel",
          "model_module_version": "1.5.0",
          "state": {
            "_dom_classes": [],
            "_model_module": "@jupyter-widgets/controls",
            "_model_module_version": "1.5.0",
            "_model_name": "FloatProgressModel",
            "_view_count": null,
            "_view_module": "@jupyter-widgets/controls",
            "_view_module_version": "1.5.0",
            "_view_name": "ProgressView",
            "bar_style": "success",
            "description": "",
            "description_tooltip": null,
            "layout": "IPY_MODEL_750a14c05b484e6782a39ac99a04a41e",
            "max": 466062,
            "min": 0,
            "orientation": "horizontal",
            "style": "IPY_MODEL_e0b9328a1fe442878f38521e478af975",
            "value": 466062
          }
        },
        "4eac79320cc4450cbed88c24faae2b6a": {
          "model_module": "@jupyter-widgets/controls",
          "model_name": "HTMLModel",
          "model_module_version": "1.5.0",
          "state": {
            "_dom_classes": [],
            "_model_module": "@jupyter-widgets/controls",
            "_model_module_version": "1.5.0",
            "_model_name": "HTMLModel",
            "_view_count": null,
            "_view_module": "@jupyter-widgets/controls",
            "_view_module_version": "1.5.0",
            "_view_name": "HTMLView",
            "description": "",
            "description_tooltip": null,
            "layout": "IPY_MODEL_6fd783f95fa74ed091656aac96934b8a",
            "placeholder": "​",
            "style": "IPY_MODEL_c4ba57f8ee274dce8d03ec594b21db24",
            "value": " 466k/466k [00:00&lt;00:00, 8.42MB/s]"
          }
        },
        "6583afe6724446639ce408a51e494e4e": {
          "model_module": "@jupyter-widgets/base",
          "model_name": "LayoutModel",
          "model_module_version": "1.2.0",
          "state": {
            "_model_module": "@jupyter-widgets/base",
            "_model_module_version": "1.2.0",
            "_model_name": "LayoutModel",
            "_view_count": null,
            "_view_module": "@jupyter-widgets/base",
            "_view_module_version": "1.2.0",
            "_view_name": "LayoutView",
            "align_content": null,
            "align_items": null,
            "align_self": null,
            "border": null,
            "bottom": null,
            "display": null,
            "flex": null,
            "flex_flow": null,
            "grid_area": null,
            "grid_auto_columns": null,
            "grid_auto_flow": null,
            "grid_auto_rows": null,
            "grid_column": null,
            "grid_gap": null,
            "grid_row": null,
            "grid_template_areas": null,
            "grid_template_columns": null,
            "grid_template_rows": null,
            "height": null,
            "justify_content": null,
            "justify_items": null,
            "left": null,
            "margin": null,
            "max_height": null,
            "max_width": null,
            "min_height": null,
            "min_width": null,
            "object_fit": null,
            "object_position": null,
            "order": null,
            "overflow": null,
            "overflow_x": null,
            "overflow_y": null,
            "padding": null,
            "right": null,
            "top": null,
            "visibility": null,
            "width": null
          }
        },
        "f16c2dc3049b46af95db729f924ee7c2": {
          "model_module": "@jupyter-widgets/base",
          "model_name": "LayoutModel",
          "model_module_version": "1.2.0",
          "state": {
            "_model_module": "@jupyter-widgets/base",
            "_model_module_version": "1.2.0",
            "_model_name": "LayoutModel",
            "_view_count": null,
            "_view_module": "@jupyter-widgets/base",
            "_view_module_version": "1.2.0",
            "_view_name": "LayoutView",
            "align_content": null,
            "align_items": null,
            "align_self": null,
            "border": null,
            "bottom": null,
            "display": null,
            "flex": null,
            "flex_flow": null,
            "grid_area": null,
            "grid_auto_columns": null,
            "grid_auto_flow": null,
            "grid_auto_rows": null,
            "grid_column": null,
            "grid_gap": null,
            "grid_row": null,
            "grid_template_areas": null,
            "grid_template_columns": null,
            "grid_template_rows": null,
            "height": null,
            "justify_content": null,
            "justify_items": null,
            "left": null,
            "margin": null,
            "max_height": null,
            "max_width": null,
            "min_height": null,
            "min_width": null,
            "object_fit": null,
            "object_position": null,
            "order": null,
            "overflow": null,
            "overflow_x": null,
            "overflow_y": null,
            "padding": null,
            "right": null,
            "top": null,
            "visibility": null,
            "width": null
          }
        },
        "94d1ccf4128a480db7c8ee7a952e3729": {
          "model_module": "@jupyter-widgets/controls",
          "model_name": "DescriptionStyleModel",
          "model_module_version": "1.5.0",
          "state": {
            "_model_module": "@jupyter-widgets/controls",
            "_model_module_version": "1.5.0",
            "_model_name": "DescriptionStyleModel",
            "_view_count": null,
            "_view_module": "@jupyter-widgets/base",
            "_view_module_version": "1.2.0",
            "_view_name": "StyleView",
            "description_width": ""
          }
        },
        "750a14c05b484e6782a39ac99a04a41e": {
          "model_module": "@jupyter-widgets/base",
          "model_name": "LayoutModel",
          "model_module_version": "1.2.0",
          "state": {
            "_model_module": "@jupyter-widgets/base",
            "_model_module_version": "1.2.0",
            "_model_name": "LayoutModel",
            "_view_count": null,
            "_view_module": "@jupyter-widgets/base",
            "_view_module_version": "1.2.0",
            "_view_name": "LayoutView",
            "align_content": null,
            "align_items": null,
            "align_self": null,
            "border": null,
            "bottom": null,
            "display": null,
            "flex": null,
            "flex_flow": null,
            "grid_area": null,
            "grid_auto_columns": null,
            "grid_auto_flow": null,
            "grid_auto_rows": null,
            "grid_column": null,
            "grid_gap": null,
            "grid_row": null,
            "grid_template_areas": null,
            "grid_template_columns": null,
            "grid_template_rows": null,
            "height": null,
            "justify_content": null,
            "justify_items": null,
            "left": null,
            "margin": null,
            "max_height": null,
            "max_width": null,
            "min_height": null,
            "min_width": null,
            "object_fit": null,
            "object_position": null,
            "order": null,
            "overflow": null,
            "overflow_x": null,
            "overflow_y": null,
            "padding": null,
            "right": null,
            "top": null,
            "visibility": null,
            "width": null
          }
        },
        "e0b9328a1fe442878f38521e478af975": {
          "model_module": "@jupyter-widgets/controls",
          "model_name": "ProgressStyleModel",
          "model_module_version": "1.5.0",
          "state": {
            "_model_module": "@jupyter-widgets/controls",
            "_model_module_version": "1.5.0",
            "_model_name": "ProgressStyleModel",
            "_view_count": null,
            "_view_module": "@jupyter-widgets/base",
            "_view_module_version": "1.2.0",
            "_view_name": "StyleView",
            "bar_color": null,
            "description_width": ""
          }
        },
        "6fd783f95fa74ed091656aac96934b8a": {
          "model_module": "@jupyter-widgets/base",
          "model_name": "LayoutModel",
          "model_module_version": "1.2.0",
          "state": {
            "_model_module": "@jupyter-widgets/base",
            "_model_module_version": "1.2.0",
            "_model_name": "LayoutModel",
            "_view_count": null,
            "_view_module": "@jupyter-widgets/base",
            "_view_module_version": "1.2.0",
            "_view_name": "LayoutView",
            "align_content": null,
            "align_items": null,
            "align_self": null,
            "border": null,
            "bottom": null,
            "display": null,
            "flex": null,
            "flex_flow": null,
            "grid_area": null,
            "grid_auto_columns": null,
            "grid_auto_flow": null,
            "grid_auto_rows": null,
            "grid_column": null,
            "grid_gap": null,
            "grid_row": null,
            "grid_template_areas": null,
            "grid_template_columns": null,
            "grid_template_rows": null,
            "height": null,
            "justify_content": null,
            "justify_items": null,
            "left": null,
            "margin": null,
            "max_height": null,
            "max_width": null,
            "min_height": null,
            "min_width": null,
            "object_fit": null,
            "object_position": null,
            "order": null,
            "overflow": null,
            "overflow_x": null,
            "overflow_y": null,
            "padding": null,
            "right": null,
            "top": null,
            "visibility": null,
            "width": null
          }
        },
        "c4ba57f8ee274dce8d03ec594b21db24": {
          "model_module": "@jupyter-widgets/controls",
          "model_name": "DescriptionStyleModel",
          "model_module_version": "1.5.0",
          "state": {
            "_model_module": "@jupyter-widgets/controls",
            "_model_module_version": "1.5.0",
            "_model_name": "DescriptionStyleModel",
            "_view_count": null,
            "_view_module": "@jupyter-widgets/base",
            "_view_module_version": "1.2.0",
            "_view_name": "StyleView",
            "description_width": ""
          }
        },
        "aa34ac62f4b9493285999f6230710eea": {
          "model_module": "@jupyter-widgets/controls",
          "model_name": "HBoxModel",
          "model_module_version": "1.5.0",
          "state": {
            "_dom_classes": [],
            "_model_module": "@jupyter-widgets/controls",
            "_model_module_version": "1.5.0",
            "_model_name": "HBoxModel",
            "_view_count": null,
            "_view_module": "@jupyter-widgets/controls",
            "_view_module_version": "1.5.0",
            "_view_name": "HBoxView",
            "box_style": "",
            "children": [
              "IPY_MODEL_347d6b53c83e4de089b816b3c186451c",
              "IPY_MODEL_a3b22fe40cda4397a9fbf17122c49469",
              "IPY_MODEL_031a4179936a4ffe8d5f8979b9ecb7cc"
            ],
            "layout": "IPY_MODEL_fb7936362f6e41d1baaf3ec7ec631bf6"
          }
        },
        "347d6b53c83e4de089b816b3c186451c": {
          "model_module": "@jupyter-widgets/controls",
          "model_name": "HTMLModel",
          "model_module_version": "1.5.0",
          "state": {
            "_dom_classes": [],
            "_model_module": "@jupyter-widgets/controls",
            "_model_module_version": "1.5.0",
            "_model_name": "HTMLModel",
            "_view_count": null,
            "_view_module": "@jupyter-widgets/controls",
            "_view_module_version": "1.5.0",
            "_view_name": "HTMLView",
            "description": "",
            "description_tooltip": null,
            "layout": "IPY_MODEL_f31035f167074cdebb7c0fc1a164ec85",
            "placeholder": "​",
            "style": "IPY_MODEL_1371cc6c77334854be11920220f3f07a",
            "value": "config.json: 100%"
          }
        },
        "a3b22fe40cda4397a9fbf17122c49469": {
          "model_module": "@jupyter-widgets/controls",
          "model_name": "FloatProgressModel",
          "model_module_version": "1.5.0",
          "state": {
            "_dom_classes": [],
            "_model_module": "@jupyter-widgets/controls",
            "_model_module_version": "1.5.0",
            "_model_name": "FloatProgressModel",
            "_view_count": null,
            "_view_module": "@jupyter-widgets/controls",
            "_view_module_version": "1.5.0",
            "_view_name": "ProgressView",
            "bar_style": "success",
            "description": "",
            "description_tooltip": null,
            "layout": "IPY_MODEL_f047d26ea4364ef8b4379a3d829d9cb9",
            "max": 570,
            "min": 0,
            "orientation": "horizontal",
            "style": "IPY_MODEL_1b128948ea714c4ebf4c5935f45fab33",
            "value": 570
          }
        },
        "031a4179936a4ffe8d5f8979b9ecb7cc": {
          "model_module": "@jupyter-widgets/controls",
          "model_name": "HTMLModel",
          "model_module_version": "1.5.0",
          "state": {
            "_dom_classes": [],
            "_model_module": "@jupyter-widgets/controls",
            "_model_module_version": "1.5.0",
            "_model_name": "HTMLModel",
            "_view_count": null,
            "_view_module": "@jupyter-widgets/controls",
            "_view_module_version": "1.5.0",
            "_view_name": "HTMLView",
            "description": "",
            "description_tooltip": null,
            "layout": "IPY_MODEL_73290999b4064ebcb9eba7e588c0f869",
            "placeholder": "​",
            "style": "IPY_MODEL_442b125ed6224387ab9b745a895ad1c0",
            "value": " 570/570 [00:00&lt;00:00, 30.5kB/s]"
          }
        },
        "fb7936362f6e41d1baaf3ec7ec631bf6": {
          "model_module": "@jupyter-widgets/base",
          "model_name": "LayoutModel",
          "model_module_version": "1.2.0",
          "state": {
            "_model_module": "@jupyter-widgets/base",
            "_model_module_version": "1.2.0",
            "_model_name": "LayoutModel",
            "_view_count": null,
            "_view_module": "@jupyter-widgets/base",
            "_view_module_version": "1.2.0",
            "_view_name": "LayoutView",
            "align_content": null,
            "align_items": null,
            "align_self": null,
            "border": null,
            "bottom": null,
            "display": null,
            "flex": null,
            "flex_flow": null,
            "grid_area": null,
            "grid_auto_columns": null,
            "grid_auto_flow": null,
            "grid_auto_rows": null,
            "grid_column": null,
            "grid_gap": null,
            "grid_row": null,
            "grid_template_areas": null,
            "grid_template_columns": null,
            "grid_template_rows": null,
            "height": null,
            "justify_content": null,
            "justify_items": null,
            "left": null,
            "margin": null,
            "max_height": null,
            "max_width": null,
            "min_height": null,
            "min_width": null,
            "object_fit": null,
            "object_position": null,
            "order": null,
            "overflow": null,
            "overflow_x": null,
            "overflow_y": null,
            "padding": null,
            "right": null,
            "top": null,
            "visibility": null,
            "width": null
          }
        },
        "f31035f167074cdebb7c0fc1a164ec85": {
          "model_module": "@jupyter-widgets/base",
          "model_name": "LayoutModel",
          "model_module_version": "1.2.0",
          "state": {
            "_model_module": "@jupyter-widgets/base",
            "_model_module_version": "1.2.0",
            "_model_name": "LayoutModel",
            "_view_count": null,
            "_view_module": "@jupyter-widgets/base",
            "_view_module_version": "1.2.0",
            "_view_name": "LayoutView",
            "align_content": null,
            "align_items": null,
            "align_self": null,
            "border": null,
            "bottom": null,
            "display": null,
            "flex": null,
            "flex_flow": null,
            "grid_area": null,
            "grid_auto_columns": null,
            "grid_auto_flow": null,
            "grid_auto_rows": null,
            "grid_column": null,
            "grid_gap": null,
            "grid_row": null,
            "grid_template_areas": null,
            "grid_template_columns": null,
            "grid_template_rows": null,
            "height": null,
            "justify_content": null,
            "justify_items": null,
            "left": null,
            "margin": null,
            "max_height": null,
            "max_width": null,
            "min_height": null,
            "min_width": null,
            "object_fit": null,
            "object_position": null,
            "order": null,
            "overflow": null,
            "overflow_x": null,
            "overflow_y": null,
            "padding": null,
            "right": null,
            "top": null,
            "visibility": null,
            "width": null
          }
        },
        "1371cc6c77334854be11920220f3f07a": {
          "model_module": "@jupyter-widgets/controls",
          "model_name": "DescriptionStyleModel",
          "model_module_version": "1.5.0",
          "state": {
            "_model_module": "@jupyter-widgets/controls",
            "_model_module_version": "1.5.0",
            "_model_name": "DescriptionStyleModel",
            "_view_count": null,
            "_view_module": "@jupyter-widgets/base",
            "_view_module_version": "1.2.0",
            "_view_name": "StyleView",
            "description_width": ""
          }
        },
        "f047d26ea4364ef8b4379a3d829d9cb9": {
          "model_module": "@jupyter-widgets/base",
          "model_name": "LayoutModel",
          "model_module_version": "1.2.0",
          "state": {
            "_model_module": "@jupyter-widgets/base",
            "_model_module_version": "1.2.0",
            "_model_name": "LayoutModel",
            "_view_count": null,
            "_view_module": "@jupyter-widgets/base",
            "_view_module_version": "1.2.0",
            "_view_name": "LayoutView",
            "align_content": null,
            "align_items": null,
            "align_self": null,
            "border": null,
            "bottom": null,
            "display": null,
            "flex": null,
            "flex_flow": null,
            "grid_area": null,
            "grid_auto_columns": null,
            "grid_auto_flow": null,
            "grid_auto_rows": null,
            "grid_column": null,
            "grid_gap": null,
            "grid_row": null,
            "grid_template_areas": null,
            "grid_template_columns": null,
            "grid_template_rows": null,
            "height": null,
            "justify_content": null,
            "justify_items": null,
            "left": null,
            "margin": null,
            "max_height": null,
            "max_width": null,
            "min_height": null,
            "min_width": null,
            "object_fit": null,
            "object_position": null,
            "order": null,
            "overflow": null,
            "overflow_x": null,
            "overflow_y": null,
            "padding": null,
            "right": null,
            "top": null,
            "visibility": null,
            "width": null
          }
        },
        "1b128948ea714c4ebf4c5935f45fab33": {
          "model_module": "@jupyter-widgets/controls",
          "model_name": "ProgressStyleModel",
          "model_module_version": "1.5.0",
          "state": {
            "_model_module": "@jupyter-widgets/controls",
            "_model_module_version": "1.5.0",
            "_model_name": "ProgressStyleModel",
            "_view_count": null,
            "_view_module": "@jupyter-widgets/base",
            "_view_module_version": "1.2.0",
            "_view_name": "StyleView",
            "bar_color": null,
            "description_width": ""
          }
        },
        "73290999b4064ebcb9eba7e588c0f869": {
          "model_module": "@jupyter-widgets/base",
          "model_name": "LayoutModel",
          "model_module_version": "1.2.0",
          "state": {
            "_model_module": "@jupyter-widgets/base",
            "_model_module_version": "1.2.0",
            "_model_name": "LayoutModel",
            "_view_count": null,
            "_view_module": "@jupyter-widgets/base",
            "_view_module_version": "1.2.0",
            "_view_name": "LayoutView",
            "align_content": null,
            "align_items": null,
            "align_self": null,
            "border": null,
            "bottom": null,
            "display": null,
            "flex": null,
            "flex_flow": null,
            "grid_area": null,
            "grid_auto_columns": null,
            "grid_auto_flow": null,
            "grid_auto_rows": null,
            "grid_column": null,
            "grid_gap": null,
            "grid_row": null,
            "grid_template_areas": null,
            "grid_template_columns": null,
            "grid_template_rows": null,
            "height": null,
            "justify_content": null,
            "justify_items": null,
            "left": null,
            "margin": null,
            "max_height": null,
            "max_width": null,
            "min_height": null,
            "min_width": null,
            "object_fit": null,
            "object_position": null,
            "order": null,
            "overflow": null,
            "overflow_x": null,
            "overflow_y": null,
            "padding": null,
            "right": null,
            "top": null,
            "visibility": null,
            "width": null
          }
        },
        "442b125ed6224387ab9b745a895ad1c0": {
          "model_module": "@jupyter-widgets/controls",
          "model_name": "DescriptionStyleModel",
          "model_module_version": "1.5.0",
          "state": {
            "_model_module": "@jupyter-widgets/controls",
            "_model_module_version": "1.5.0",
            "_model_name": "DescriptionStyleModel",
            "_view_count": null,
            "_view_module": "@jupyter-widgets/base",
            "_view_module_version": "1.2.0",
            "_view_name": "StyleView",
            "description_width": ""
          }
        },
        "c45c902d274443aabc3e681e0222b78b": {
          "model_module": "@jupyter-widgets/controls",
          "model_name": "HBoxModel",
          "model_module_version": "1.5.0",
          "state": {
            "_dom_classes": [],
            "_model_module": "@jupyter-widgets/controls",
            "_model_module_version": "1.5.0",
            "_model_name": "HBoxModel",
            "_view_count": null,
            "_view_module": "@jupyter-widgets/controls",
            "_view_module_version": "1.5.0",
            "_view_name": "HBoxView",
            "box_style": "",
            "children": [
              "IPY_MODEL_880aa0eb20cd4aa8aa33ab2187107f88",
              "IPY_MODEL_bfe13eb479b1422588b4fdf76703d05e",
              "IPY_MODEL_fc1505cdfce14465831268289dce86a0"
            ],
            "layout": "IPY_MODEL_6552f71ed19b4b3da195af452882f495"
          }
        },
        "880aa0eb20cd4aa8aa33ab2187107f88": {
          "model_module": "@jupyter-widgets/controls",
          "model_name": "HTMLModel",
          "model_module_version": "1.5.0",
          "state": {
            "_dom_classes": [],
            "_model_module": "@jupyter-widgets/controls",
            "_model_module_version": "1.5.0",
            "_model_name": "HTMLModel",
            "_view_count": null,
            "_view_module": "@jupyter-widgets/controls",
            "_view_module_version": "1.5.0",
            "_view_name": "HTMLView",
            "description": "",
            "description_tooltip": null,
            "layout": "IPY_MODEL_1e312ef02aca48f4a8016cad06da4518",
            "placeholder": "​",
            "style": "IPY_MODEL_00cd128bdd424c0387eef5b1973656a1",
            "value": "model.safetensors: 100%"
          }
        },
        "bfe13eb479b1422588b4fdf76703d05e": {
          "model_module": "@jupyter-widgets/controls",
          "model_name": "FloatProgressModel",
          "model_module_version": "1.5.0",
          "state": {
            "_dom_classes": [],
            "_model_module": "@jupyter-widgets/controls",
            "_model_module_version": "1.5.0",
            "_model_name": "FloatProgressModel",
            "_view_count": null,
            "_view_module": "@jupyter-widgets/controls",
            "_view_module_version": "1.5.0",
            "_view_name": "ProgressView",
            "bar_style": "success",
            "description": "",
            "description_tooltip": null,
            "layout": "IPY_MODEL_9552e7a75ac84157afd2657fd6e521f3",
            "max": 440449768,
            "min": 0,
            "orientation": "horizontal",
            "style": "IPY_MODEL_4d39f8d37bfc402e99a013e20253bd65",
            "value": 440449768
          }
        },
        "fc1505cdfce14465831268289dce86a0": {
          "model_module": "@jupyter-widgets/controls",
          "model_name": "HTMLModel",
          "model_module_version": "1.5.0",
          "state": {
            "_dom_classes": [],
            "_model_module": "@jupyter-widgets/controls",
            "_model_module_version": "1.5.0",
            "_model_name": "HTMLModel",
            "_view_count": null,
            "_view_module": "@jupyter-widgets/controls",
            "_view_module_version": "1.5.0",
            "_view_name": "HTMLView",
            "description": "",
            "description_tooltip": null,
            "layout": "IPY_MODEL_95422fca214b4ee7889874a0eef03da1",
            "placeholder": "​",
            "style": "IPY_MODEL_2106f23aaaf44ec299de3bac8967ce2d",
            "value": " 440M/440M [00:06&lt;00:00, 61.5MB/s]"
          }
        },
        "6552f71ed19b4b3da195af452882f495": {
          "model_module": "@jupyter-widgets/base",
          "model_name": "LayoutModel",
          "model_module_version": "1.2.0",
          "state": {
            "_model_module": "@jupyter-widgets/base",
            "_model_module_version": "1.2.0",
            "_model_name": "LayoutModel",
            "_view_count": null,
            "_view_module": "@jupyter-widgets/base",
            "_view_module_version": "1.2.0",
            "_view_name": "LayoutView",
            "align_content": null,
            "align_items": null,
            "align_self": null,
            "border": null,
            "bottom": null,
            "display": null,
            "flex": null,
            "flex_flow": null,
            "grid_area": null,
            "grid_auto_columns": null,
            "grid_auto_flow": null,
            "grid_auto_rows": null,
            "grid_column": null,
            "grid_gap": null,
            "grid_row": null,
            "grid_template_areas": null,
            "grid_template_columns": null,
            "grid_template_rows": null,
            "height": null,
            "justify_content": null,
            "justify_items": null,
            "left": null,
            "margin": null,
            "max_height": null,
            "max_width": null,
            "min_height": null,
            "min_width": null,
            "object_fit": null,
            "object_position": null,
            "order": null,
            "overflow": null,
            "overflow_x": null,
            "overflow_y": null,
            "padding": null,
            "right": null,
            "top": null,
            "visibility": null,
            "width": null
          }
        },
        "1e312ef02aca48f4a8016cad06da4518": {
          "model_module": "@jupyter-widgets/base",
          "model_name": "LayoutModel",
          "model_module_version": "1.2.0",
          "state": {
            "_model_module": "@jupyter-widgets/base",
            "_model_module_version": "1.2.0",
            "_model_name": "LayoutModel",
            "_view_count": null,
            "_view_module": "@jupyter-widgets/base",
            "_view_module_version": "1.2.0",
            "_view_name": "LayoutView",
            "align_content": null,
            "align_items": null,
            "align_self": null,
            "border": null,
            "bottom": null,
            "display": null,
            "flex": null,
            "flex_flow": null,
            "grid_area": null,
            "grid_auto_columns": null,
            "grid_auto_flow": null,
            "grid_auto_rows": null,
            "grid_column": null,
            "grid_gap": null,
            "grid_row": null,
            "grid_template_areas": null,
            "grid_template_columns": null,
            "grid_template_rows": null,
            "height": null,
            "justify_content": null,
            "justify_items": null,
            "left": null,
            "margin": null,
            "max_height": null,
            "max_width": null,
            "min_height": null,
            "min_width": null,
            "object_fit": null,
            "object_position": null,
            "order": null,
            "overflow": null,
            "overflow_x": null,
            "overflow_y": null,
            "padding": null,
            "right": null,
            "top": null,
            "visibility": null,
            "width": null
          }
        },
        "00cd128bdd424c0387eef5b1973656a1": {
          "model_module": "@jupyter-widgets/controls",
          "model_name": "DescriptionStyleModel",
          "model_module_version": "1.5.0",
          "state": {
            "_model_module": "@jupyter-widgets/controls",
            "_model_module_version": "1.5.0",
            "_model_name": "DescriptionStyleModel",
            "_view_count": null,
            "_view_module": "@jupyter-widgets/base",
            "_view_module_version": "1.2.0",
            "_view_name": "StyleView",
            "description_width": ""
          }
        },
        "9552e7a75ac84157afd2657fd6e521f3": {
          "model_module": "@jupyter-widgets/base",
          "model_name": "LayoutModel",
          "model_module_version": "1.2.0",
          "state": {
            "_model_module": "@jupyter-widgets/base",
            "_model_module_version": "1.2.0",
            "_model_name": "LayoutModel",
            "_view_count": null,
            "_view_module": "@jupyter-widgets/base",
            "_view_module_version": "1.2.0",
            "_view_name": "LayoutView",
            "align_content": null,
            "align_items": null,
            "align_self": null,
            "border": null,
            "bottom": null,
            "display": null,
            "flex": null,
            "flex_flow": null,
            "grid_area": null,
            "grid_auto_columns": null,
            "grid_auto_flow": null,
            "grid_auto_rows": null,
            "grid_column": null,
            "grid_gap": null,
            "grid_row": null,
            "grid_template_areas": null,
            "grid_template_columns": null,
            "grid_template_rows": null,
            "height": null,
            "justify_content": null,
            "justify_items": null,
            "left": null,
            "margin": null,
            "max_height": null,
            "max_width": null,
            "min_height": null,
            "min_width": null,
            "object_fit": null,
            "object_position": null,
            "order": null,
            "overflow": null,
            "overflow_x": null,
            "overflow_y": null,
            "padding": null,
            "right": null,
            "top": null,
            "visibility": null,
            "width": null
          }
        },
        "4d39f8d37bfc402e99a013e20253bd65": {
          "model_module": "@jupyter-widgets/controls",
          "model_name": "ProgressStyleModel",
          "model_module_version": "1.5.0",
          "state": {
            "_model_module": "@jupyter-widgets/controls",
            "_model_module_version": "1.5.0",
            "_model_name": "ProgressStyleModel",
            "_view_count": null,
            "_view_module": "@jupyter-widgets/base",
            "_view_module_version": "1.2.0",
            "_view_name": "StyleView",
            "bar_color": null,
            "description_width": ""
          }
        },
        "95422fca214b4ee7889874a0eef03da1": {
          "model_module": "@jupyter-widgets/base",
          "model_name": "LayoutModel",
          "model_module_version": "1.2.0",
          "state": {
            "_model_module": "@jupyter-widgets/base",
            "_model_module_version": "1.2.0",
            "_model_name": "LayoutModel",
            "_view_count": null,
            "_view_module": "@jupyter-widgets/base",
            "_view_module_version": "1.2.0",
            "_view_name": "LayoutView",
            "align_content": null,
            "align_items": null,
            "align_self": null,
            "border": null,
            "bottom": null,
            "display": null,
            "flex": null,
            "flex_flow": null,
            "grid_area": null,
            "grid_auto_columns": null,
            "grid_auto_flow": null,
            "grid_auto_rows": null,
            "grid_column": null,
            "grid_gap": null,
            "grid_row": null,
            "grid_template_areas": null,
            "grid_template_columns": null,
            "grid_template_rows": null,
            "height": null,
            "justify_content": null,
            "justify_items": null,
            "left": null,
            "margin": null,
            "max_height": null,
            "max_width": null,
            "min_height": null,
            "min_width": null,
            "object_fit": null,
            "object_position": null,
            "order": null,
            "overflow": null,
            "overflow_x": null,
            "overflow_y": null,
            "padding": null,
            "right": null,
            "top": null,
            "visibility": null,
            "width": null
          }
        },
        "2106f23aaaf44ec299de3bac8967ce2d": {
          "model_module": "@jupyter-widgets/controls",
          "model_name": "DescriptionStyleModel",
          "model_module_version": "1.5.0",
          "state": {
            "_model_module": "@jupyter-widgets/controls",
            "_model_module_version": "1.5.0",
            "_model_name": "DescriptionStyleModel",
            "_view_count": null,
            "_view_module": "@jupyter-widgets/base",
            "_view_module_version": "1.2.0",
            "_view_name": "StyleView",
            "description_width": ""
          }
        }
      }
    }
  },
  "cells": [
    {
      "cell_type": "markdown",
      "source": [
        "# **Transformer Models**\n",
        "\n",
        "![transformer-ber-ulmfit-elmo.png](data:image/png;base64,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)\n",
        "\n",
        "\n",
        "\n",
        "\n",
        "\n"
      ],
      "metadata": {
        "id": "lIWv7IuzOf81"
      }
    },
    {
      "cell_type": "markdown",
      "source": [
        "## Task Description\n",
        "\n",
        "**Part 1**\n",
        "\n",
        "Create something innovative using SBERT and semantic search, or even more! The guidelines are intentionally broad to encourage creativity. Here are some ideas to get you started:\n",
        "\n",
        "*   Implement a GIF search engine or YouTube search function using images and CLIP.\n",
        "*   (Optional) Use SetFit for supervised tasks with SBERT models.\n",
        "*   Consider building a search engine using a Gradio or Streamlit app.\n",
        "\n",
        "**Part 2**\n",
        "\n",
        "*   **Gradient Descent Exercise:** Execute the process of updating weights for two examples using Stochastic Gradient Descent (SGD). Document each step, including input calculation, prediction, loss assessment, weight adjustments, and updates.\n",
        "\n",
        "*   **Attention Mechanism Exercise:** Implement the attention mechanism on two distinct sentences. Choose sentences with polysmous words to demonstrate its functionality effectively.\n",
        "\n",
        "**Delivery**\n",
        "\n",
        "*   Create a dedicated GitHub repository for this assignment.\n",
        "*   Store all relevant materials, including the Colab notebook, in the repository.\n",
        "*   Provide a README.md file with a concise description of the assignment and its components.\n",
        "*   You may work individually or in groups of up to three members.\n",
        "*   Submit your work by emailing a link to the repository to Hamid (hamidb@business.aau.dk).\n",
        "\n",
        "## Group members\n",
        "* Benjamin Ly - 20205432\n",
        "* Camilla Dyg Hannesbo - 20202923\n",
        "* Tobias Moesgård Jensen - 20231658"
      ],
      "metadata": {
        "id": "aqM6rIny32b5"
      }
    },
    {
      "cell_type": "markdown",
      "source": [
        "## Part 1: SBERT and Semantic Search"
      ],
      "metadata": {
        "id": "EcE-3sqXObqX"
      }
    },
    {
      "cell_type": "markdown",
      "source": [
        "### Setup and install"
      ],
      "metadata": {
        "id": "6PIQdIwf37wR"
      }
    },
    {
      "cell_type": "code",
      "source": [
        "!pip install pandas -U --q\n",
        "!pip install sentence-transformers -U --q\n",
        "!pip install tqdm -U --q\n",
        "!pip install gradio -U --q"
      ],
      "metadata": {
        "id": "HTu5rzR9bzro",
        "colab": {
          "base_uri": "https://localhost:8080/"
        },
        "outputId": "f0978995-8682-43f9-895e-fdb5916feb54"
      },
      "execution_count": null,
      "outputs": [
        {
          "output_type": "stream",
          "name": "stdout",
          "text": [
            "\u001b[2K     \u001b[90m━━━━━━━━━━━━━━━━━━━━━━━━━━━━━━━━━━━━━━━━\u001b[0m \u001b[32m13.0/13.0 MB\u001b[0m \u001b[31m25.6 MB/s\u001b[0m eta \u001b[36m0:00:00\u001b[0m\n",
            "\u001b[2K     \u001b[90m━━━━━━━━━━━━━━━━━━━━━━━━━━━━━━━━━━━━━━━━\u001b[0m \u001b[32m345.4/345.4 kB\u001b[0m \u001b[31m29.3 MB/s\u001b[0m eta \u001b[36m0:00:00\u001b[0m\n",
            "\u001b[?25h\u001b[31mERROR: pip's dependency resolver does not currently take into account all the packages that are installed. This behaviour is the source of the following dependency conflicts.\n",
            "bigframes 0.22.0 requires pandas<2.1.4,>=1.5.0, but you have pandas 2.2.1 which is incompatible.\n",
            "google-colab 1.0.0 requires pandas==1.5.3, but you have pandas 2.2.1 which is incompatible.\u001b[0m\u001b[31m\n",
            "\u001b[2K     \u001b[90m━━━━━━━━━━━━━━━━━━━━━━━━━━━━━━━━━━━━━━━━\u001b[0m \u001b[32m156.5/156.5 kB\u001b[0m \u001b[31m2.7 MB/s\u001b[0m eta \u001b[36m0:00:00\u001b[0m\n",
            "\u001b[2K     \u001b[90m━━━━━━━━━━━━━━━━━━━━━━━━━━━━━━━━━━━━━━━━\u001b[0m \u001b[32m16.9/16.9 MB\u001b[0m \u001b[31m33.3 MB/s\u001b[0m eta \u001b[36m0:00:00\u001b[0m\n",
            "\u001b[2K     \u001b[90m━━━━━━━━━━━━━━━━━━━━━━━━━━━━━━━━━━━━━━━━\u001b[0m \u001b[32m92.1/92.1 kB\u001b[0m \u001b[31m8.6 MB/s\u001b[0m eta \u001b[36m0:00:00\u001b[0m\n",
            "\u001b[?25h  Preparing metadata (setup.py) ... \u001b[?25l\u001b[?25hdone\n",
            "\u001b[2K     \u001b[90m━━━━━━━━━━━━━━━━━━━━━━━━━━━━━━━━━━━━━━━━\u001b[0m \u001b[32m307.9/307.9 kB\u001b[0m \u001b[31m29.2 MB/s\u001b[0m eta \u001b[36m0:00:00\u001b[0m\n",
            "\u001b[2K     \u001b[90m━━━━━━━━━━━━━━━━━━━━━━━━━━━━━━━━━━━━━━━━\u001b[0m \u001b[32m75.6/75.6 kB\u001b[0m \u001b[31m8.1 MB/s\u001b[0m eta \u001b[36m0:00:00\u001b[0m\n",
            "\u001b[2K     \u001b[90m━━━━━━━━━━━━━━━━━━━━━━━━━━━━━━━━━━━━━━━━\u001b[0m \u001b[32m138.5/138.5 kB\u001b[0m \u001b[31m13.7 MB/s\u001b[0m eta \u001b[36m0:00:00\u001b[0m\n",
            "\u001b[2K     \u001b[90m━━━━━━━━━━━━━━━━━━━━━━━━━━━━━━━━━━━━━━━━\u001b[0m \u001b[32m7.8/7.8 MB\u001b[0m \u001b[31m66.4 MB/s\u001b[0m eta \u001b[36m0:00:00\u001b[0m\n",
            "\u001b[2K     \u001b[90m━━━━━━━━━━━━━━━━━━━━━━━━━━━━━━━━━━━━━━━━\u001b[0m \u001b[32m60.8/60.8 kB\u001b[0m \u001b[31m6.6 MB/s\u001b[0m eta \u001b[36m0:00:00\u001b[0m\n",
            "\u001b[2K     \u001b[90m━━━━━━━━━━━━━━━━━━━━━━━━━━━━━━━━━━━━━━━━\u001b[0m \u001b[32m129.9/129.9 kB\u001b[0m \u001b[31m13.7 MB/s\u001b[0m eta \u001b[36m0:00:00\u001b[0m\n",
            "\u001b[2K     \u001b[90m━━━━━━━━━━━━━━━━━━━━━━━━━━━━━━━━━━━━━━━━\u001b[0m \u001b[32m77.8/77.8 kB\u001b[0m \u001b[31m8.8 MB/s\u001b[0m eta \u001b[36m0:00:00\u001b[0m\n",
            "\u001b[2K     \u001b[90m━━━━━━━━━━━━━━━━━━━━━━━━━━━━━━━━━━━━━━━━\u001b[0m \u001b[32m58.3/58.3 kB\u001b[0m \u001b[31m6.6 MB/s\u001b[0m eta \u001b[36m0:00:00\u001b[0m\n",
            "\u001b[2K     \u001b[90m━━━━━━━━━━━━━━━━━━━━━━━━━━━━━━━━━━━━━━━━\u001b[0m \u001b[32m71.5/71.5 kB\u001b[0m \u001b[31m7.9 MB/s\u001b[0m eta \u001b[36m0:00:00\u001b[0m\n",
            "\u001b[?25h  Building wheel for ffmpy (setup.py) ... \u001b[?25l\u001b[?25hdone\n"
          ]
        }
      ]
    },
    {
      "cell_type": "code",
      "source": [
        "# Import standard libraries\n",
        "import pandas as pd  # Data manipulation and analysis\n",
        "import gradio as gr  # Creating interactive web interfaces\n",
        "\n",
        "from sentence_transformers import SentenceTransformer, util  # Sentence embeddings\n",
        "from PIL import Image  # Image processing\n",
        "import glob  # File path matching\n",
        "import torch  # PyTorch deep learning framework\n",
        "import pickle  # Python object serialization\n",
        "import zipfile  # Zip file handling\n",
        "from IPython.display import display  # Displaying HTML, images, etc.\n",
        "from IPython.display import Image as IPImage  # Displaying images\n",
        "import os  # Operating system interface\n",
        "from tqdm.autonotebook import tqdm  # Progress bar\n",
        "torch.set_num_threads(4)  # Set number of threads for PyTorch\n",
        "\n",
        "# Other\n",
        "from IPython.display import HTML  # Displaying HTML content\n",
        "from IPython.core.interactiveshell import InteractiveShell  # Interactive shell configuration\n",
        "InteractiveShell.ast_node_interactivity = \"all\"  # Display output for all expressions\n"
      ],
      "metadata": {
        "id": "dbdfj7DHb9Tm"
      },
      "execution_count": null,
      "outputs": []
    },
    {
      "cell_type": "code",
      "source": [
        "# Use wget to download the master.zip file which contains the dataset\n",
        "!wget https://github.com/raingo/TGIF-Release/archive/master.zip -q"
      ],
      "metadata": {
        "id": "70Ds1lXvcd56"
      },
      "execution_count": null,
      "outputs": []
    },
    {
      "cell_type": "code",
      "source": [
        "# Unzip the master.zip file quietly (without progress)\n",
        "# !unzip master.zip\n",
        "!unzip -q master.zip"
      ],
      "metadata": {
        "id": "tOPYp4cUrL5b"
      },
      "execution_count": null,
      "outputs": []
    },
    {
      "cell_type": "code",
      "source": [
        "# Importing the drive module from the google.colab library\n",
        "from google.colab import drive\n",
        "\n",
        "# Mount Google Drive to access files\n",
        "drive.mount('/content/drive')\n",
        "\n",
        "# Load dataset to a pandas dataframe\n",
        "df = pd.read_csv(\n",
        "    \"./TGIF-Release-master/data/tgif-v1.0.tsv\",  # Path to the TSV file\n",
        "    delimiter=\"\\t\",  # Using tab (\\t) as the delimiter\n",
        "    names=['url', 'description']  # Naming the columns as 'url' and 'description'\n",
        ")\n",
        "\n",
        "# Display the first few rows of the dataframe\n",
        "df.head()"
      ],
      "metadata": {
        "id": "Ipr9pz2o55u4",
        "colab": {
          "base_uri": "https://localhost:8080/",
          "height": 217
        },
        "outputId": "292beb45-b952-402b-a8a7-ee1be93a83b1"
      },
      "execution_count": null,
      "outputs": [
        {
          "output_type": "stream",
          "name": "stdout",
          "text": [
            "Mounted at /content/drive\n"
          ]
        },
        {
          "output_type": "execute_result",
          "data": {
            "text/plain": [
              "                                                 url  \\\n",
              "0  https://38.media.tumblr.com/9f6c25cc350f12aa74...   \n",
              "1  https://38.media.tumblr.com/9ead028ef62004ef6a...   \n",
              "2  https://38.media.tumblr.com/9f43dc410be85b1159...   \n",
              "3  https://38.media.tumblr.com/9f659499c8754e40cf...   \n",
              "4  https://38.media.tumblr.com/9ed1c99afa7d714118...   \n",
              "\n",
              "                                         description  \n",
              "0  a man is glaring, and someone with sunglasses ...  \n",
              "1           a cat tries to catch a mouse on a tablet  \n",
              "2                   a man dressed in red is dancing.  \n",
              "3     an animal comes close to another in the jungle  \n",
              "4  a man in a hat adjusts his tie and makes a wei...  "
            ],
            "text/html": [
              "\n",
              "  <div id=\"df-a015aaf2-29a0-4882-94f5-d2ca4094c452\" class=\"colab-df-container\">\n",
              "    <div>\n",
              "<style scoped>\n",
              "    .dataframe tbody tr th:only-of-type {\n",
              "        vertical-align: middle;\n",
              "    }\n",
              "\n",
              "    .dataframe tbody tr th {\n",
              "        vertical-align: top;\n",
              "    }\n",
              "\n",
              "    .dataframe thead th {\n",
              "        text-align: right;\n",
              "    }\n",
              "</style>\n",
              "<table border=\"1\" class=\"dataframe\">\n",
              "  <thead>\n",
              "    <tr style=\"text-align: right;\">\n",
              "      <th></th>\n",
              "      <th>url</th>\n",
              "      <th>description</th>\n",
              "    </tr>\n",
              "  </thead>\n",
              "  <tbody>\n",
              "    <tr>\n",
              "      <th>0</th>\n",
              "      <td>https://38.media.tumblr.com/9f6c25cc350f12aa74...</td>\n",
              "      <td>a man is glaring, and someone with sunglasses ...</td>\n",
              "    </tr>\n",
              "    <tr>\n",
              "      <th>1</th>\n",
              "      <td>https://38.media.tumblr.com/9ead028ef62004ef6a...</td>\n",
              "      <td>a cat tries to catch a mouse on a tablet</td>\n",
              "    </tr>\n",
              "    <tr>\n",
              "      <th>2</th>\n",
              "      <td>https://38.media.tumblr.com/9f43dc410be85b1159...</td>\n",
              "      <td>a man dressed in red is dancing.</td>\n",
              "    </tr>\n",
              "    <tr>\n",
              "      <th>3</th>\n",
              "      <td>https://38.media.tumblr.com/9f659499c8754e40cf...</td>\n",
              "      <td>an animal comes close to another in the jungle</td>\n",
              "    </tr>\n",
              "    <tr>\n",
              "      <th>4</th>\n",
              "      <td>https://38.media.tumblr.com/9ed1c99afa7d714118...</td>\n",
              "      <td>a man in a hat adjusts his tie and makes a wei...</td>\n",
              "    </tr>\n",
              "  </tbody>\n",
              "</table>\n",
              "</div>\n",
              "    <div class=\"colab-df-buttons\">\n",
              "\n",
              "  <div class=\"colab-df-container\">\n",
              "    <button class=\"colab-df-convert\" onclick=\"convertToInteractive('df-a015aaf2-29a0-4882-94f5-d2ca4094c452')\"\n",
              "            title=\"Convert this dataframe to an interactive table.\"\n",
              "            style=\"display:none;\">\n",
              "\n",
              "  <svg xmlns=\"http://www.w3.org/2000/svg\" height=\"24px\" viewBox=\"0 -960 960 960\">\n",
              "    <path d=\"M120-120v-720h720v720H120Zm60-500h600v-160H180v160Zm220 220h160v-160H400v160Zm0 220h160v-160H400v160ZM180-400h160v-160H180v160Zm440 0h160v-160H620v160ZM180-180h160v-160H180v160Zm440 0h160v-160H620v160Z\"/>\n",
              "  </svg>\n",
              "    </button>\n",
              "\n",
              "  <style>\n",
              "    .colab-df-container {\n",
              "      display:flex;\n",
              "      gap: 12px;\n",
              "    }\n",
              "\n",
              "    .colab-df-convert {\n",
              "      background-color: #E8F0FE;\n",
              "      border: none;\n",
              "      border-radius: 50%;\n",
              "      cursor: pointer;\n",
              "      display: none;\n",
              "      fill: #1967D2;\n",
              "      height: 32px;\n",
              "      padding: 0 0 0 0;\n",
              "      width: 32px;\n",
              "    }\n",
              "\n",
              "    .colab-df-convert:hover {\n",
              "      background-color: #E2EBFA;\n",
              "      box-shadow: 0px 1px 2px rgba(60, 64, 67, 0.3), 0px 1px 3px 1px rgba(60, 64, 67, 0.15);\n",
              "      fill: #174EA6;\n",
              "    }\n",
              "\n",
              "    .colab-df-buttons div {\n",
              "      margin-bottom: 4px;\n",
              "    }\n",
              "\n",
              "    [theme=dark] .colab-df-convert {\n",
              "      background-color: #3B4455;\n",
              "      fill: #D2E3FC;\n",
              "    }\n",
              "\n",
              "    [theme=dark] .colab-df-convert:hover {\n",
              "      background-color: #434B5C;\n",
              "      box-shadow: 0px 1px 3px 1px rgba(0, 0, 0, 0.15);\n",
              "      filter: drop-shadow(0px 1px 2px rgba(0, 0, 0, 0.3));\n",
              "      fill: #FFFFFF;\n",
              "    }\n",
              "  </style>\n",
              "\n",
              "    <script>\n",
              "      const buttonEl =\n",
              "        document.querySelector('#df-a015aaf2-29a0-4882-94f5-d2ca4094c452 button.colab-df-convert');\n",
              "      buttonEl.style.display =\n",
              "        google.colab.kernel.accessAllowed ? 'block' : 'none';\n",
              "\n",
              "      async function convertToInteractive(key) {\n",
              "        const element = document.querySelector('#df-a015aaf2-29a0-4882-94f5-d2ca4094c452');\n",
              "        const dataTable =\n",
              "          await google.colab.kernel.invokeFunction('convertToInteractive',\n",
              "                                                    [key], {});\n",
              "        if (!dataTable) return;\n",
              "\n",
              "        const docLinkHtml = 'Like what you see? Visit the ' +\n",
              "          '<a target=\"_blank\" href=https://colab.research.google.com/notebooks/data_table.ipynb>data table notebook</a>'\n",
              "          + ' to learn more about interactive tables.';\n",
              "        element.innerHTML = '';\n",
              "        dataTable['output_type'] = 'display_data';\n",
              "        await google.colab.output.renderOutput(dataTable, element);\n",
              "        const docLink = document.createElement('div');\n",
              "        docLink.innerHTML = docLinkHtml;\n",
              "        element.appendChild(docLink);\n",
              "      }\n",
              "    </script>\n",
              "  </div>\n",
              "\n",
              "\n",
              "<div id=\"df-69bb675c-9349-42e7-b2f0-3c132158cd2e\">\n",
              "  <button class=\"colab-df-quickchart\" onclick=\"quickchart('df-69bb675c-9349-42e7-b2f0-3c132158cd2e')\"\n",
              "            title=\"Suggest charts\"\n",
              "            style=\"display:none;\">\n",
              "\n",
              "<svg xmlns=\"http://www.w3.org/2000/svg\" height=\"24px\"viewBox=\"0 0 24 24\"\n",
              "     width=\"24px\">\n",
              "    <g>\n",
              "        <path d=\"M19 3H5c-1.1 0-2 .9-2 2v14c0 1.1.9 2 2 2h14c1.1 0 2-.9 2-2V5c0-1.1-.9-2-2-2zM9 17H7v-7h2v7zm4 0h-2V7h2v10zm4 0h-2v-4h2v4z\"/>\n",
              "    </g>\n",
              "</svg>\n",
              "  </button>\n",
              "\n",
              "<style>\n",
              "  .colab-df-quickchart {\n",
              "      --bg-color: #E8F0FE;\n",
              "      --fill-color: #1967D2;\n",
              "      --hover-bg-color: #E2EBFA;\n",
              "      --hover-fill-color: #174EA6;\n",
              "      --disabled-fill-color: #AAA;\n",
              "      --disabled-bg-color: #DDD;\n",
              "  }\n",
              "\n",
              "  [theme=dark] .colab-df-quickchart {\n",
              "      --bg-color: #3B4455;\n",
              "      --fill-color: #D2E3FC;\n",
              "      --hover-bg-color: #434B5C;\n",
              "      --hover-fill-color: #FFFFFF;\n",
              "      --disabled-bg-color: #3B4455;\n",
              "      --disabled-fill-color: #666;\n",
              "  }\n",
              "\n",
              "  .colab-df-quickchart {\n",
              "    background-color: var(--bg-color);\n",
              "    border: none;\n",
              "    border-radius: 50%;\n",
              "    cursor: pointer;\n",
              "    display: none;\n",
              "    fill: var(--fill-color);\n",
              "    height: 32px;\n",
              "    padding: 0;\n",
              "    width: 32px;\n",
              "  }\n",
              "\n",
              "  .colab-df-quickchart:hover {\n",
              "    background-color: var(--hover-bg-color);\n",
              "    box-shadow: 0 1px 2px rgba(60, 64, 67, 0.3), 0 1px 3px 1px rgba(60, 64, 67, 0.15);\n",
              "    fill: var(--button-hover-fill-color);\n",
              "  }\n",
              "\n",
              "  .colab-df-quickchart-complete:disabled,\n",
              "  .colab-df-quickchart-complete:disabled:hover {\n",
              "    background-color: var(--disabled-bg-color);\n",
              "    fill: var(--disabled-fill-color);\n",
              "    box-shadow: none;\n",
              "  }\n",
              "\n",
              "  .colab-df-spinner {\n",
              "    border: 2px solid var(--fill-color);\n",
              "    border-color: transparent;\n",
              "    border-bottom-color: var(--fill-color);\n",
              "    animation:\n",
              "      spin 1s steps(1) infinite;\n",
              "  }\n",
              "\n",
              "  @keyframes spin {\n",
              "    0% {\n",
              "      border-color: transparent;\n",
              "      border-bottom-color: var(--fill-color);\n",
              "      border-left-color: var(--fill-color);\n",
              "    }\n",
              "    20% {\n",
              "      border-color: transparent;\n",
              "      border-left-color: var(--fill-color);\n",
              "      border-top-color: var(--fill-color);\n",
              "    }\n",
              "    30% {\n",
              "      border-color: transparent;\n",
              "      border-left-color: var(--fill-color);\n",
              "      border-top-color: var(--fill-color);\n",
              "      border-right-color: var(--fill-color);\n",
              "    }\n",
              "    40% {\n",
              "      border-color: transparent;\n",
              "      border-right-color: var(--fill-color);\n",
              "      border-top-color: var(--fill-color);\n",
              "    }\n",
              "    60% {\n",
              "      border-color: transparent;\n",
              "      border-right-color: var(--fill-color);\n",
              "    }\n",
              "    80% {\n",
              "      border-color: transparent;\n",
              "      border-right-color: var(--fill-color);\n",
              "      border-bottom-color: var(--fill-color);\n",
              "    }\n",
              "    90% {\n",
              "      border-color: transparent;\n",
              "      border-bottom-color: var(--fill-color);\n",
              "    }\n",
              "  }\n",
              "</style>\n",
              "\n",
              "  <script>\n",
              "    async function quickchart(key) {\n",
              "      const quickchartButtonEl =\n",
              "        document.querySelector('#' + key + ' button');\n",
              "      quickchartButtonEl.disabled = true;  // To prevent multiple clicks.\n",
              "      quickchartButtonEl.classList.add('colab-df-spinner');\n",
              "      try {\n",
              "        const charts = await google.colab.kernel.invokeFunction(\n",
              "            'suggestCharts', [key], {});\n",
              "      } catch (error) {\n",
              "        console.error('Error during call to suggestCharts:', error);\n",
              "      }\n",
              "      quickchartButtonEl.classList.remove('colab-df-spinner');\n",
              "      quickchartButtonEl.classList.add('colab-df-quickchart-complete');\n",
              "    }\n",
              "    (() => {\n",
              "      let quickchartButtonEl =\n",
              "        document.querySelector('#df-69bb675c-9349-42e7-b2f0-3c132158cd2e button');\n",
              "      quickchartButtonEl.style.display =\n",
              "        google.colab.kernel.accessAllowed ? 'block' : 'none';\n",
              "    })();\n",
              "  </script>\n",
              "</div>\n",
              "    </div>\n",
              "  </div>\n"
            ],
            "application/vnd.google.colaboratory.intrinsic+json": {
              "type": "dataframe",
              "variable_name": "df"
            }
          },
          "metadata": {},
          "execution_count": 5
        }
      ]
    },
    {
      "cell_type": "code",
      "source": [
        "# Get the length of the dataframe (number of rows)\n",
        "len(df)"
      ],
      "metadata": {
        "colab": {
          "base_uri": "https://localhost:8080/"
        },
        "id": "kvb3lE6hc2eO",
        "outputId": "a904f6d4-41a0-4dd9-aa26-0dab5b279d57"
      },
      "execution_count": null,
      "outputs": [
        {
          "output_type": "execute_result",
          "data": {
            "text/plain": [
              "125782"
            ]
          },
          "metadata": {},
          "execution_count": 6
        }
      ]
    },
    {
      "cell_type": "code",
      "source": [
        "# Number of *unique* GIFs in the dataset\n",
        "len(df[\"url\"].unique())"
      ],
      "metadata": {
        "colab": {
          "base_uri": "https://localhost:8080/"
        },
        "id": "JKl8xRcgc2ak",
        "outputId": "b5dacc8e-ee9b-488f-b9f4-11c4ed38945d"
      },
      "execution_count": null,
      "outputs": [
        {
          "output_type": "execute_result",
          "data": {
            "text/plain": [
              "102068"
            ]
          },
          "metadata": {},
          "execution_count": 7
        }
      ]
    },
    {
      "cell_type": "code",
      "source": [
        "# We will only use the first 20k datarows in the dataset\n",
        "df = df.iloc[:20000]"
      ],
      "metadata": {
        "id": "xXSwS-Puu_0U"
      },
      "execution_count": null,
      "outputs": []
    },
    {
      "cell_type": "code",
      "source": [
        "# Count the occurrences of each unique URL in the 'url' column and sort them in descending order\n",
        "dupes = df['url'].value_counts().sort_values(ascending=False)"
      ],
      "metadata": {
        "id": "TyI6SRMDc2J4"
      },
      "execution_count": null,
      "outputs": []
    },
    {
      "cell_type": "markdown",
      "source": [
        "### Example from the database"
      ],
      "metadata": {
        "id": "CmoDJ0Ic6nPy"
      }
    },
    {
      "cell_type": "code",
      "source": [
        "# Define the URL of the duplicate GIF\n",
        "dupe_url = \"https://33.media.tumblr.com/88235b43b48e9823eeb3e7890f3d46ef/tumblr_nkg5leY4e21sof15vo1_500.gif\"\n",
        "\n",
        "# Filter the dataframe to get rows with the specified URL\n",
        "dupe_df = df[df['url'] == dupe_url]\n",
        "\n",
        "# Iterate over the rows in the filtered dataframe\n",
        "# Display the GIF and its corresponding description\n",
        "for _, gif in dupe_df.iterrows():\n",
        "    HTML(f\"<img src={gif['url']} style='width:120px; height:90px'>\")  # Display the GIF\n",
        "    print(gif[\"description\"])  # Print the description of the GIF\n"
      ],
      "metadata": {
        "id": "X5Vh-bBudIF6"
      },
      "execution_count": null,
      "outputs": []
    },
    {
      "cell_type": "code",
      "source": [
        "# Iterate over rows 5 to 9 in the dataframe\n",
        "for _, gif in df[5:10].iterrows():\n",
        "    HTML(f\"<img src={gif['url']} style='width:120px; height:90px'>\")  # Display the GIF\n",
        "    print(gif[\"description\"])  # Print the description of the GIF"
      ],
      "metadata": {
        "colab": {
          "base_uri": "https://localhost:8080/",
          "height": 569
        },
        "id": "Vp4HRun4dYSW",
        "outputId": "8950db17-ffe5-45fc-f460-720ee93b6003"
      },
      "execution_count": null,
      "outputs": [
        {
          "output_type": "execute_result",
          "data": {
            "text/plain": [
              "<IPython.core.display.HTML object>"
            ],
            "text/html": [
              "<img src=https://38.media.tumblr.com/9e437d26769cb2ac4217df14dbb20034/tumblr_npw7v7W07C1tmj047o1_250.gif style='width:120px; height:90px'>"
            ]
          },
          "metadata": {},
          "execution_count": 11
        },
        {
          "output_type": "stream",
          "name": "stdout",
          "text": [
            "someone puts a cat on wrapping paper then wraps it up and puts on a bow\n"
          ]
        },
        {
          "output_type": "execute_result",
          "data": {
            "text/plain": [
              "<IPython.core.display.HTML object>"
            ],
            "text/html": [
              "<img src=https://38.media.tumblr.com/9e4ab65c0e7d4bb8aa6b5be854b83794/tumblr_mdlv9v6hE91qanrf2o1_r11_500.gif style='width:120px; height:90px'>"
            ]
          },
          "metadata": {},
          "execution_count": 11
        },
        {
          "output_type": "stream",
          "name": "stdout",
          "text": [
            "a brunette woman is looking at the man\n"
          ]
        },
        {
          "output_type": "execute_result",
          "data": {
            "text/plain": [
              "<IPython.core.display.HTML object>"
            ],
            "text/html": [
              "<img src=https://38.media.tumblr.com/9ecd3483028290171dcb5e920ff4e3bb/tumblr_nkcmeflaVj1u26rdio1_500.gif style='width:120px; height:90px'>"
            ]
          },
          "metadata": {},
          "execution_count": 11
        },
        {
          "output_type": "stream",
          "name": "stdout",
          "text": [
            "a man on a bicycle is jumping over a fence.\n"
          ]
        },
        {
          "output_type": "execute_result",
          "data": {
            "text/plain": [
              "<IPython.core.display.HTML object>"
            ],
            "text/html": [
              "<img src=https://38.media.tumblr.com/9f83754d20ce882224ae3392a8372ee8/tumblr_mkwd0y8Poo1qlnbq8o1_400.gif style='width:120px; height:90px'>"
            ]
          },
          "metadata": {},
          "execution_count": 11
        },
        {
          "output_type": "stream",
          "name": "stdout",
          "text": [
            "a group of men are standing and staring in the same direction.\n"
          ]
        },
        {
          "output_type": "execute_result",
          "data": {
            "text/plain": [
              "<IPython.core.display.HTML object>"
            ],
            "text/html": [
              "<img src=https://38.media.tumblr.com/9f4cb2977d5cd905f57293ac506b9db8/tumblr_msij5q4Run1qd76t9o1_500.gif style='width:120px; height:90px'>"
            ]
          },
          "metadata": {},
          "execution_count": 11
        },
        {
          "output_type": "stream",
          "name": "stdout",
          "text": [
            "a man with black clothes is dancing sexy\n"
          ]
        }
      ]
    },
    {
      "cell_type": "markdown",
      "source": [
        "### Building the model"
      ],
      "metadata": {
        "id": "Rsb3R3te5Iv5"
      }
    },
    {
      "cell_type": "code",
      "source": [
        "#First, we load the respective CLIP model\n",
        "model = SentenceTransformer('clip-ViT-B-32')"
      ],
      "metadata": {
        "id": "_CIxYF_BnHWq",
        "colab": {
          "base_uri": "https://localhost:8080/",
          "height": 488,
          "referenced_widgets": [
            "12a7e75eb46d403fa7be1a2052296e31",
            "aa6bd48b54f8401698f21b712c3836f4",
            "ecba2800281b4dfe8c33192204488b55",
            "5391a05b261942a6a754e0fed7c3589c",
            "519d36596b874a0ba5947514f855a028",
            "e480c7cfab7b4213940a1f61fbfa6bf9",
            "69e7cb6d1d0e4dda87d73ac2d256d74c",
            "1b676cad1cad4f199e16812f7982dd74",
            "6ec40888aa9f4ceda57c33ab13f7ec2c",
            "13b9d651092b4ac8bbbcd6ce2e65ef21",
            "94be40c4b538494c8faac6f5405208fd",
            "5e6c05d661fa4339983e5d153a0191bc",
            "1bbd82d3a8514321ae2a07594bce4126",
            "573883b85c684be7a7e2515a2440937c",
            "a406ca7166f94b888ba67d48da2e23c6",
            "0e5c0e524c874e9d8564d50c13c9fa7b",
            "a0bab4c21e694e11a48b445858281b4f",
            "e4cb56ac5fe841b294e68c923b8452d3",
            "a8de3a03749c401eb5cf3157095a25b6",
            "2e13e93e852149899e9403d46bf86713",
            "dd7e282eb2b741c7a58d064b3514d0fb",
            "086992c9f21049bfae3348d69b0817a1",
            "2a6cb313745a4b2f88f6188f10b72b37",
            "fcc053e99a1e4555997c16faeb0237c5",
            "26102128b8de40c38176ffafd77ef064",
            "cd62132809cb41f1a345bd27046685e4",
            "c29f5c3cc07d46beab9161b5b7cd2822",
            "04ad476f116f418793a1a08c21510976",
            "8cdbf45f1cd3403a840db995b051732d",
            "13ad49bc486245bb9546426e7531bb6b",
            "bbc63bf2d6e247a5817a86f05c29b72a",
            "1a7b3035c1914f12b6c18c0521644218",
            "e44aed8f55d146b3859f75889006dd87",
            "066ef1faec724771ba0cf1eb61e043d0",
            "6b57604baeb64f899e630c7ccb2ed10f",
            "20b2e3b428894d56b4f724613a04c7fa",
            "cd11ba2d532d42dea370ef8186ba8bb1",
            "249c7584ffe24f5d9d4bd367e021c12b",
            "be5c99f1dbca4f03b6517eed2f6bc8f1",
            "09711cd8e4cc42fe9d1968f76cc13e27",
            "9de296a1c8324cd5af363c0809191cbf",
            "42958ae3b45849a7aec1ab619d04a13d",
            "e553545322cf4401ad7bee30bc235da9",
            "3e262d21e49747318ce2398f55a0804a",
            "fe9016869e8a435495cc5a7765de60a9",
            "7d66fb747a904e87847b64cb07528036",
            "fb650378682a4bd2970b430a6c81518a",
            "fb08f018515f42ea9e1a99ecf2dcfa89",
            "714b2075bc58423c8b7caf654653cbf6",
            "79eca6d1ea8949168f06d1d066721353",
            "09b1678d8320435cb06ce026e6726ce6",
            "e34c69a0023b4a14bdb4c474751260f6",
            "49b19bad26ab4737a5e264185afe5542",
            "1c6570a4edd84e14a5f7446780d1ac0e",
            "f57f8314d3424fe88fb112ae20a6692e",
            "365c779855944108af2cd13925235f4f",
            "13f1ff44f0904950bdc7d96e842b1e8a",
            "39d0a04b8deb4b83bd50b9b32a4024ab",
            "aa4128dff1e94b67bb7c1722ee62e01c",
            "2ce18e97f3cc4e57b3b27f0d7da8727d",
            "c4af54063bf14568b74e4ef13bd33929",
            "f09d97ffcf484407928a63d0b4fa8b60",
            "5ddcd20eb3f34466a736ef0f89aff62c",
            "31122044364a41258ca65405acfab540",
            "fbae47d2e9f64e6fb2c94828bcde0cd8",
            "ed909529d0f243d89f2d3c280782c8cc",
            "ba44cbe787cf4a48905d2aaee3618e98",
            "5ed0fb49ba304c04abcccd418cd85179",
            "74f592518e54496b94416f7700de9dd1",
            "af5f78d6d34f4219b04a28d7cca98314",
            "d4c9a43013d742359622136a526e1b36",
            "8ec073b0d8f74e1d96cec8c0d5a7de5a",
            "4dc9321d88b043428881c42d86ba9841",
            "4c9b7cac00914e9fad4c895ecb952f8f",
            "1ae3248c8aa6480886b497ef5f36883b",
            "c91aefe5efe342ccbb649ca8eb0d4af5",
            "398100318f5943718758d8a1452bcf88",
            "3a332d424ba24473afe0b00401c1bf7e",
            "22bfcf79f7364a86bcd806d15e4d2af4",
            "0a2ccaa0855b4be3bc9f0376b26a38ed",
            "410ab31e751847f4bd73356478a971b4",
            "d20b94a232774b54b4c166d9ff410c5f",
            "8b5d2b2b50b04dc2aabe2f527dfa52ab",
            "6360ce1a789248ada3585307868700a6",
            "cb6c3f59b05a42e691623972650b387f",
            "a0c1c969e41b4d49aff224f9a1f4cf86",
            "e0288ce9be79470e913f9154e76b0f73",
            "e3a194b74fbc4c728381b3fe94aab486",
            "44506000ada94fe58b9cb977c4a3c9b8",
            "f43faeab5294406da6ab7aa07c422fc2",
            "1beff7aa5ecd49878779f8c6fae186a4",
            "9022668e35ff424fb705399fff13d215",
            "38802ffa85154cb69cea1070a75016ff",
            "252ceab3340e4deba184b1e685b4ca53",
            "eb2d151039c840e7bb82d409caa898ea",
            "8162a7ead96c4ba9ad295f9f87495331",
            "52268584151246dfa1e507c4c523fe07",
            "426c530629b3415dbbb78de1c7265361",
            "204008bc91b247b0983ffd344f84d77c",
            "423cb3c9f04b4e79863f5415b42dd830",
            "2be03ff04bfb4980893f8a7db5a78f06",
            "5faddb8507b742f18b0d4b0cd0eb6b15",
            "4b2e7b50fd1747b5af061d6ae588d0ac",
            "3caa88f8dded48f8842304d770ff6026",
            "9e3855d6c0d34715975b226fad30452b",
            "63a3e63ad2fd420f8a90ebabae02413f",
            "e6d4ff5bfc924ef8bee1225f7ae16908",
            "a93a87db272c4af989053e7a635e0746",
            "61e3f16ecd8b45c3872402ccecbe816d",
            "a3fb1fae014349008f0272b939b7ab4b"
          ]
        },
        "outputId": "929f4540-7844-48c5-a45b-0e2f0e076490"
      },
      "execution_count": null,
      "outputs": [
        {
          "output_type": "stream",
          "name": "stderr",
          "text": [
            "/usr/local/lib/python3.10/dist-packages/huggingface_hub/utils/_token.py:88: UserWarning: \n",
            "The secret `HF_TOKEN` does not exist in your Colab secrets.\n",
            "To authenticate with the Hugging Face Hub, create a token in your settings tab (https://huggingface.co/settings/tokens), set it as secret in your Google Colab and restart your session.\n",
            "You will be able to reuse this secret in all of your notebooks.\n",
            "Please note that authentication is recommended but still optional to access public models or datasets.\n",
            "  warnings.warn(\n"
          ]
        },
        {
          "output_type": "display_data",
          "data": {
            "text/plain": [
              "modules.json:   0%|          | 0.00/122 [00:00<?, ?B/s]"
            ],
            "application/vnd.jupyter.widget-view+json": {
              "version_major": 2,
              "version_minor": 0,
              "model_id": "12a7e75eb46d403fa7be1a2052296e31"
            }
          },
          "metadata": {}
        },
        {
          "output_type": "display_data",
          "data": {
            "text/plain": [
              "config_sentence_transformers.json:   0%|          | 0.00/116 [00:00<?, ?B/s]"
            ],
            "application/vnd.jupyter.widget-view+json": {
              "version_major": 2,
              "version_minor": 0,
              "model_id": "5e6c05d661fa4339983e5d153a0191bc"
            }
          },
          "metadata": {}
        },
        {
          "output_type": "display_data",
          "data": {
            "text/plain": [
              "README.md:   0%|          | 0.00/1.91k [00:00<?, ?B/s]"
            ],
            "application/vnd.jupyter.widget-view+json": {
              "version_major": 2,
              "version_minor": 0,
              "model_id": "2a6cb313745a4b2f88f6188f10b72b37"
            }
          },
          "metadata": {}
        },
        {
          "output_type": "display_data",
          "data": {
            "text/plain": [
              "0_CLIPModel/vocab.json:   0%|          | 0.00/961k [00:00<?, ?B/s]"
            ],
            "application/vnd.jupyter.widget-view+json": {
              "version_major": 2,
              "version_minor": 0,
              "model_id": "066ef1faec724771ba0cf1eb61e043d0"
            }
          },
          "metadata": {}
        },
        {
          "output_type": "display_data",
          "data": {
            "text/plain": [
              "0_CLIPModel/preprocessor_config.json:   0%|          | 0.00/316 [00:00<?, ?B/s]"
            ],
            "application/vnd.jupyter.widget-view+json": {
              "version_major": 2,
              "version_minor": 0,
              "model_id": "fe9016869e8a435495cc5a7765de60a9"
            }
          },
          "metadata": {}
        },
        {
          "output_type": "display_data",
          "data": {
            "text/plain": [
              "0_CLIPModel/merges.txt:   0%|          | 0.00/525k [00:00<?, ?B/s]"
            ],
            "application/vnd.jupyter.widget-view+json": {
              "version_major": 2,
              "version_minor": 0,
              "model_id": "365c779855944108af2cd13925235f4f"
            }
          },
          "metadata": {}
        },
        {
          "output_type": "display_data",
          "data": {
            "text/plain": [
              "0_CLIPModel/config.json:   0%|          | 0.00/4.03k [00:00<?, ?B/s]"
            ],
            "application/vnd.jupyter.widget-view+json": {
              "version_major": 2,
              "version_minor": 0,
              "model_id": "ba44cbe787cf4a48905d2aaee3618e98"
            }
          },
          "metadata": {}
        },
        {
          "output_type": "display_data",
          "data": {
            "text/plain": [
              "0_CLIPModel/tokenizer_config.json:   0%|          | 0.00/604 [00:00<?, ?B/s]"
            ],
            "application/vnd.jupyter.widget-view+json": {
              "version_major": 2,
              "version_minor": 0,
              "model_id": "3a332d424ba24473afe0b00401c1bf7e"
            }
          },
          "metadata": {}
        },
        {
          "output_type": "display_data",
          "data": {
            "text/plain": [
              "0_CLIPModel/special_tokens_map.json:   0%|          | 0.00/389 [00:00<?, ?B/s]"
            ],
            "application/vnd.jupyter.widget-view+json": {
              "version_major": 2,
              "version_minor": 0,
              "model_id": "44506000ada94fe58b9cb977c4a3c9b8"
            }
          },
          "metadata": {}
        },
        {
          "output_type": "display_data",
          "data": {
            "text/plain": [
              "pytorch_model.bin:   0%|          | 0.00/605M [00:00<?, ?B/s]"
            ],
            "application/vnd.jupyter.widget-view+json": {
              "version_major": 2,
              "version_minor": 0,
              "model_id": "423cb3c9f04b4e79863f5415b42dd830"
            }
          },
          "metadata": {}
        },
        {
          "output_type": "stream",
          "name": "stderr",
          "text": [
            "/usr/local/lib/python3.10/dist-packages/torch/_utils.py:831: UserWarning: TypedStorage is deprecated. It will be removed in the future and UntypedStorage will be the only storage class. This should only matter to you if you are using storages directly.  To access UntypedStorage directly, use tensor.untyped_storage() instead of tensor.storage()\n",
            "  return self.fget.__get__(instance, owner)()\n"
          ]
        }
      ]
    },
    {
      "cell_type": "code",
      "source": [
        "# Convert the 'description' column of the dataframe to a list\n",
        "gif_description = df['description'].values.tolist()"
      ],
      "metadata": {
        "id": "ubOSLEOYq-sC"
      },
      "execution_count": null,
      "outputs": []
    },
    {
      "cell_type": "code",
      "source": [
        "# Converting columns from the dataset to lists to be used as output in the semantic search function\n",
        "url = df['url'].values.tolist()"
      ],
      "metadata": {
        "id": "DBadGtQ7QnNt"
      },
      "execution_count": null,
      "outputs": []
    },
    {
      "cell_type": "code",
      "source": [
        "# Generate sentence embeddings for the list of GIF descriptions using the SentenceTransformer model\n",
        "corpus_embeddings = model.encode(gif_description, convert_to_tensor=True)"
      ],
      "metadata": {
        "id": "yYQlGGxHoPVn"
      },
      "execution_count": null,
      "outputs": []
    },
    {
      "cell_type": "markdown",
      "source": [
        "#### Testing the model with a example\n",
        "\n",
        "In the context of our search engine application, testing the model would involve verifying its ability to accurately retrieve relevant content based on user queries. We would assess metrics such as precision, recall, and accuracy to measure the effectiveness of the search functionality.\n",
        "\n",
        "Additionally, creating a function to be integrated into a Gradio app allows us to deploy our model as an interactive web interface. This empowers users to input queries and receive search results in real-time, enhancing the usability and accessibility of our search engine. The Gradio app provides a user-friendly platform for users to interact with our model seamlessly, facilitating a smooth and intuitive user experience."
      ],
      "metadata": {
        "id": "NCmrKjwgAfFR"
      }
    },
    {
      "cell_type": "code",
      "source": [
        "# Creating 5 search examples to examine performance of the model\n",
        "search_examples = [\"someone puts a cat on wrapping paper then wraps it up and puts on a bow\",\n",
        "                    \"a brunette woman is looking at the man\",\n",
        "                    \"a man on a bicycle is jumping over a fence\",\n",
        "                    \"a group of men are standing and staring in the same direction\",\n",
        "                    \"a man with black clothes is dancing sexy\"]"
      ],
      "metadata": {
        "id": "U_8x-d1rAegT"
      },
      "execution_count": null,
      "outputs": []
    },
    {
      "cell_type": "code",
      "source": [
        "# Find the closest 5 sentences of the corpus for each query sentence based on cosine similarity\n",
        "top_k = min(5, len(gif_description))\n",
        "for query in search_examples:\n",
        "    query_embedding = model.encode(query, convert_to_tensor=True)\n",
        "\n",
        "    # We use cosine-similarity and torch.topk to find the highest 5 scores\n",
        "    cos_scores = util.cos_sim(query_embedding, corpus_embeddings)[0]\n",
        "    top_results = torch.topk(cos_scores, k=top_k)\n",
        "\n",
        "    print(\"\\n\\n======================\\n\\n\")\n",
        "    print(\"Query:\", query)\n",
        "    print(\"\\nTop 5 most similar sentences in corpus:\")\n",
        "\n",
        "    for score, idx in zip(top_results[0], top_results[1]):\n",
        "        print(gif_description[idx], \"(Score: {:.4f})\".format(score))"
      ],
      "metadata": {
        "colab": {
          "base_uri": "https://localhost:8080/"
        },
        "id": "x_qLv83fvvsU",
        "outputId": "bcea4cb4-797b-43ac-8101-64b2801f6951"
      },
      "execution_count": null,
      "outputs": [
        {
          "output_type": "stream",
          "name": "stdout",
          "text": [
            "\n",
            "\n",
            "======================\n",
            "\n",
            "\n",
            "Query: someone puts a cat on wrapping paper then wraps it up and puts on a bow\n",
            "\n",
            "Top 5 most similar sentences in corpus:\n",
            "someone puts a cat on wrapping paper then wraps it up and puts on a bow (Score: 1.0000)\n",
            "a cat is toying with a torn paper off a package. (Score: 0.7702)\n",
            "a cat is batting at a wrapping paper tube. (Score: 0.7511)\n",
            "a cat are ripping up and unrolling a roll of toilet paper. (Score: 0.7262)\n",
            "a cat is biting and pulling at paper then it lies back (Score: 0.7262)\n",
            "\n",
            "\n",
            "======================\n",
            "\n",
            "\n",
            "Query: a brunette woman is looking at the man\n",
            "\n",
            "Top 5 most similar sentences in corpus:\n",
            "a brunette woman is looking at the man (Score: 1.0000)\n",
            "a woman is looking at a man. (Score: 0.9504)\n",
            "it is a woman looking at a man really dramatically (Score: 0.9373)\n",
            "a young woman is looking at a young man. (Score: 0.9327)\n",
            "the man is looking up at the woman worried (Score: 0.9299)\n",
            "\n",
            "\n",
            "======================\n",
            "\n",
            "\n",
            "Query: a man on a bicycle is jumping over a fence\n",
            "\n",
            "Top 5 most similar sentences in corpus:\n",
            "a man on a bicycle is jumping over a fence. (Score: 0.9906)\n",
            "a man is running on top of some posts then jumping onto a moving bike. (Score: 0.8682)\n",
            "a man who is are jumping over a barrier. (Score: 0.8541)\n",
            "a man is moving and dancing through two sides of a fence (Score: 0.8510)\n",
            "this shows a horse jumping a fence. (Score: 0.8501)\n",
            "\n",
            "\n",
            "======================\n",
            "\n",
            "\n",
            "Query: a group of men are standing and staring in the same direction\n",
            "\n",
            "Top 5 most similar sentences in corpus:\n",
            "a group of men are standing and staring in the same direction. (Score: 0.9941)\n",
            "a group of men are standing around talking to each other (Score: 0.9595)\n",
            "a group of men stand and watch as another man does something. (Score: 0.9338)\n",
            "a group of people are standing near each other. (Score: 0.9205)\n",
            "a group of men appear to move back after being startled (Score: 0.9087)\n",
            "\n",
            "\n",
            "======================\n",
            "\n",
            "\n",
            "Query: a man with black clothes is dancing sexy\n",
            "\n",
            "Top 5 most similar sentences in corpus:\n",
            "a man with black clothes is dancing sexy (Score: 1.0000)\n",
            "a man in all black is dancing. (Score: 0.9260)\n",
            "a man with black shirt are dancing with his hands (Score: 0.9183)\n",
            "a man is dancing around in a black shirt. (Score: 0.9038)\n",
            "two men wearing black are dancing in sync. (Score: 0.8972)\n"
          ]
        }
      ]
    },
    {
      "cell_type": "code",
      "source": [
        "# Defining the semantic search function to return gif url, description and cosinus score\n",
        "def query_corpus(query):\n",
        "  results = []\n",
        "  query_embedding = model.encode(query, convert_to_tensor=True)\n",
        "  cos_scores = util.cos_sim(query_embedding, corpus_embeddings)[0]\n",
        "  top_results = torch.topk(cos_scores, k=top_k)\n",
        "\n",
        "  for score, idx in zip(top_results[0], top_results[1]):\n",
        "    results.append(\n",
        "        (url[idx],\n",
        "         gif_description[idx],\n",
        "         score))\n",
        "    Url = results[0][0]\n",
        "    gif = f'<img src=\"{Url}\" alt=\"gif\" style=\"max-width: 200%;\"/>'\n",
        "    desc = \"Description: \" + results[0][1]\n",
        "    score = \"Cosinus Score: \" + str(results[0][2].numpy())\n",
        "  return gif, desc, score"
      ],
      "metadata": {
        "id": "KJ_K9dDSw6g1"
      },
      "execution_count": null,
      "outputs": []
    },
    {
      "cell_type": "code",
      "source": [
        "query_corpus('Man snowboarding')"
      ],
      "metadata": {
        "id": "EAA2SAeQk2bW",
        "outputId": "9a0c7ee8-1754-468b-f52d-76c558dbab9b",
        "colab": {
          "base_uri": "https://localhost:8080/"
        }
      },
      "execution_count": null,
      "outputs": [
        {
          "output_type": "execute_result",
          "data": {
            "text/plain": [
              "('<img src=\"https://33.media.tumblr.com/46cdfaf7f736e4e084ca4868aa125079/tumblr_no90qlFKNA1uufz07o1_400.gif\" alt=\"gif\" style=\"max-width: 200%;\"/>',\n",
              " 'Description: someone jumps off a bump while snowboarding.',\n",
              " 'Cosinus Score: 0.89771414')"
            ]
          },
          "metadata": {},
          "execution_count": 19
        }
      ]
    },
    {
      "cell_type": "markdown",
      "source": [
        "### Gradio app for our search engine\n",
        "\n",
        "With Gradio, we have build a interactive applications that enable users to interact with our search engine model through a web browser. For our search engine, we have leverage Gradio to create a simple yet powerful interface where users can input search queries and retrieve relevant results. By integrating our search functionality with Gradio, we provide users with an intuitive platform to explore and interact with our search engine, enhancing the user experience and making our search engine more accessible to a wider audience."
      ],
      "metadata": {
        "id": "7aTgI7Vk_dJP"
      }
    },
    {
      "cell_type": "code",
      "source": [
        "# Create the interface\n",
        "iface = gr.Interface(\n",
        "    fn=query_corpus,\n",
        "    inputs=\"text\",\n",
        "    outputs=[\"html\", \"text\", \"text\"],\n",
        "    title=\"🔍 Semantic Search\",\n",
        "    description=\"Enter your query to search for relevant content.\",\n",
        "    examples=[[\"Bunny eating fruits\"]]\n",
        ")\n",
        "\n",
        "# Launch the interface\n",
        "iface.launch()"
      ],
      "metadata": {
        "colab": {
          "base_uri": "https://localhost:8080/",
          "height": 638
        },
        "id": "VL-rkh9X3IAE",
        "outputId": "5e28f980-91bd-498c-aaef-eaf53560e16f"
      },
      "execution_count": null,
      "outputs": [
        {
          "output_type": "stream",
          "name": "stdout",
          "text": [
            "Setting queue=True in a Colab notebook requires sharing enabled. Setting `share=True` (you can turn this off by setting `share=False` in `launch()` explicitly).\n",
            "\n",
            "Colab notebook detected. To show errors in colab notebook, set debug=True in launch()\n",
            "Running on public URL: https://4063b9cf88bb891246.gradio.live\n",
            "\n",
            "This share link expires in 72 hours. For free permanent hosting and GPU upgrades, run `gradio deploy` from Terminal to deploy to Spaces (https://huggingface.co/spaces)\n"
          ]
        },
        {
          "output_type": "display_data",
          "data": {
            "text/plain": [
              "<IPython.core.display.HTML object>"
            ],
            "text/html": [
              "<div><iframe src=\"https://4063b9cf88bb891246.gradio.live\" width=\"100%\" height=\"500\" allow=\"autoplay; camera; microphone; clipboard-read; clipboard-write;\" frameborder=\"0\" allowfullscreen></iframe></div>"
            ]
          },
          "metadata": {}
        },
        {
          "output_type": "execute_result",
          "data": {
            "text/plain": []
          },
          "metadata": {},
          "execution_count": 20
        }
      ]
    },
    {
      "cell_type": "markdown",
      "source": [
        "## Part 2: Gradient Descent and Attention Mechanism Exercises\n",
        "\n",
        "Part 2 of the group assigment consist of two questions:\n",
        "\n",
        "* Gradient Descent Exercise: Execute the process of updating weights for two examples using Stochastic Gradient Descent (SGD). Document each step, including input calculation, prediction, loss assessment, weight adjustments, and updates.\n",
        "\n",
        "* Attention Mechanism Exercise: Implement the attention mechanism on two distinct sentences. Choose sentences with polysmous words to demonstrate its functionality effectively."
      ],
      "metadata": {
        "id": "2OWCWZpKOmjw"
      }
    },
    {
      "cell_type": "markdown",
      "source": [
        "### **Gradient Descent Exercise**"
      ],
      "metadata": {
        "id": "JdrbptoGDmCc"
      }
    },
    {
      "cell_type": "code",
      "source": [
        "# Setup and importing the libraries\n",
        "import numpy as np\n",
        "import matplotlib.pyplot as plt"
      ],
      "metadata": {
        "id": "G2Md9YOzBkzj"
      },
      "execution_count": null,
      "outputs": []
    },
    {
      "cell_type": "code",
      "source": [
        "# Define the Examples and Initial Weights:\n",
        "\n",
        "# Examples (features and target)\n",
        "X = np.array([[1], [2], [3], [4], [5]])\n",
        "y = np.array([2, 4, 6, 8, 10])\n",
        "\n",
        "# Initial weights\n",
        "weights = np.random.randn(1)\n",
        "bias = np.random.randn(1)"
      ],
      "metadata": {
        "id": "n27r6Q89ft17"
      },
      "execution_count": null,
      "outputs": []
    },
    {
      "cell_type": "code",
      "source": [
        "# Define the Prediction Function:\n",
        "\n",
        "def predict(X, weights, bias):\n",
        "    return np.dot(X, weights) + bias"
      ],
      "metadata": {
        "id": "2_VnXDx2DWpU"
      },
      "execution_count": null,
      "outputs": []
    },
    {
      "cell_type": "code",
      "source": [
        "# Define the Loss Function (Mean Squared Error):\n",
        "\n",
        "def calculate_loss(y_true, y_pred):\n",
        "    return np.mean((y_true - y_pred) ** 2)"
      ],
      "metadata": {
        "id": "kUSWybXeDYql"
      },
      "execution_count": null,
      "outputs": []
    },
    {
      "cell_type": "code",
      "source": [
        "# Define the Gradient Calculation Function:\n",
        "\n",
        "def calculate_gradients(X, y_true, y_pred):\n",
        "    dw = np.mean(-2 * X * (y_true - y_pred))\n",
        "    db = np.mean(-2 * (y_true - y_pred))\n",
        "    return dw, db"
      ],
      "metadata": {
        "id": "7yrIqxd8DafU"
      },
      "execution_count": null,
      "outputs": []
    },
    {
      "cell_type": "code",
      "source": [
        "# Define the SGD Update Step:\n",
        "\n",
        "def update_weights(weights, bias, dw, db, learning_rate):\n",
        "    weights -= learning_rate * dw\n",
        "    bias -= learning_rate * db\n",
        "    return weights, bias"
      ],
      "metadata": {
        "id": "aGuEZJPHDcsZ"
      },
      "execution_count": null,
      "outputs": []
    },
    {
      "cell_type": "code",
      "source": [
        "# Execute SGD for Each Example:\n",
        "\n",
        "learning_rate = 0.01\n",
        "num_epochs = 100\n",
        "\n",
        "loss_set = []\n",
        "\n",
        "for epoch in range(num_epochs):\n",
        "    epoch_loss = 0.0\n",
        "    for i in range(len(X)):\n",
        "        # Step 1: Prediction\n",
        "        y_pred = predict(X[i], weights, bias)\n",
        "\n",
        "        # Step 2: Loss assessment\n",
        "        loss = calculate_loss(y[i], y_pred)\n",
        "        epoch_loss += loss\n",
        "\n",
        "        # Step 3: Gradient calculation\n",
        "        dw, db = calculate_gradients(X[i], y[i], y_pred)\n",
        "\n",
        "        # Step 4: Weight adjustments\n",
        "        weights, bias = update_weights(weights, bias, dw, db, learning_rate)\n",
        "\n",
        "    # Store average loss for this epoch\n",
        "    epoch_loss /= len(X)\n",
        "    loss_set.append(epoch_loss)\n",
        "\n",
        "    # Print progress\n",
        "    if (epoch+1) % 10 == 0:\n",
        "        print(f'Epoch {epoch+1}/{num_epochs}, Loss: {epoch_loss}')\n"
      ],
      "metadata": {
        "colab": {
          "base_uri": "https://localhost:8080/"
        },
        "id": "SUX7f-OE3ECc",
        "outputId": "c1026285-9c8e-4541-c975-65702d38b271"
      },
      "execution_count": null,
      "outputs": [
        {
          "output_type": "stream",
          "name": "stdout",
          "text": [
            "Epoch 10/100, Loss: 0.0012601994741238897\n",
            "Epoch 20/100, Loss: 0.0008783553471236203\n",
            "Epoch 30/100, Loss: 0.0006122350192561181\n",
            "Epoch 40/100, Loss: 0.0004267426845369165\n",
            "Epoch 50/100, Loss: 0.00029745002013611185\n",
            "Epoch 60/100, Loss: 0.00020732989148947723\n",
            "Epoch 70/100, Loss: 0.00014451397207965755\n",
            "Epoch 80/100, Loss: 0.00010072974994684192\n",
            "Epoch 90/100, Loss: 7.021108324916538e-05\n",
            "Epoch 100/100, Loss: 4.89388310168798e-05\n"
          ]
        }
      ]
    },
    {
      "cell_type": "code",
      "source": [
        "# Plotting the training loss over epochs\n",
        "plt.plot(range(1, num_epochs+1), loss_set, label='Training Loss')  # Plotting the training loss\n",
        "plt.xlabel('Epoch')  # Label for the x-axis\n",
        "plt.ylabel('Loss')   # Label for the y-axis\n",
        "plt.title('Training Loss over Epochs')  # Title of the plot\n",
        "plt.legend()  # Display the legend\n",
        "plt.show()   # Display the plot"
      ],
      "metadata": {
        "colab": {
          "base_uri": "https://localhost:8080/",
          "height": 554
        },
        "id": "kQtAVu9o2LJz",
        "outputId": "542caa14-6c5c-4498-c894-59732be16b27"
      },
      "execution_count": null,
      "outputs": [
        {
          "output_type": "execute_result",
          "data": {
            "text/plain": [
              "[<matplotlib.lines.Line2D at 0x7e4d03303a30>]"
            ]
          },
          "metadata": {},
          "execution_count": 28
        },
        {
          "output_type": "execute_result",
          "data": {
            "text/plain": [
              "Text(0.5, 0, 'Epoch')"
            ]
          },
          "metadata": {},
          "execution_count": 28
        },
        {
          "output_type": "execute_result",
          "data": {
            "text/plain": [
              "Text(0, 0.5, 'Loss')"
            ]
          },
          "metadata": {},
          "execution_count": 28
        },
        {
          "output_type": "execute_result",
          "data": {
            "text/plain": [
              "Text(0.5, 1.0, 'Training Loss over Epochs')"
            ]
          },
          "metadata": {},
          "execution_count": 28
        },
        {
          "output_type": "execute_result",
          "data": {
            "text/plain": [
              "<matplotlib.legend.Legend at 0x7e4d0326d8d0>"
            ]
          },
          "metadata": {},
          "execution_count": 28
        },
        {
          "output_type": "display_data",
          "data": {
            "text/plain": [
              "<Figure size 640x480 with 1 Axes>"
            ],
            "image/png": "[encoded data removed]"
          },
          "metadata": {}
        }
      ]
    },
    {
      "cell_type": "markdown",
      "source": [
        "### **Attention Mechanism Exercise**"
      ],
      "metadata": {
        "id": "PgvOXYlSDtVF"
      }
    },
    {
      "cell_type": "code",
      "source": [
        "# Setup and importing the libraries\n",
        "!pip install sentence_transformers --q\n",
        "!pip install transformers --q\n",
        "\n",
        "import torch\n",
        "from sentence_transformers import SentenceTransformer\n",
        "from transformers import BertTokenizer, BertModel\n",
        "\n",
        "import tensorflow as tf\n",
        "from tensorflow.keras.preprocessing.text import Tokenizer\n",
        "from tensorflow.keras.preprocessing.sequence import pad_sequences"
      ],
      "metadata": {
        "id": "LnTQftbPJVgB"
      },
      "execution_count": null,
      "outputs": []
    },
    {
      "cell_type": "code",
      "source": [
        "# Load SBERT model\n",
        "model_SBERT = SentenceTransformer('paraphrase-MiniLM-L6-v2')"
      ],
      "metadata": {
        "colab": {
          "base_uri": "https://localhost:8080/",
          "height": 368,
          "referenced_widgets": [
            "f122ab70f6e0455cb2815b3b2a02c4f1",
            "900e799f9fd5454ea11de9eead544782",
            "fd37403b421e4e8d8ee4576a020e7864",
            "1978e7820e814a2da2424500897e3d33",
            "4ed9a8be06fe496e97e9cb033571bbb3",
            "e99ab8a068bf43fc878d9f0930dd7c65",
            "cee55cdf6ca245bcb2fa9680b8480bf6",
            "e63045e70aec4af2b41cf73832343b60",
            "2e363643b34e4cdeb58f8d5550f21145",
            "48df43b4ad72453a965abcc5b83ee2ed",
            "b70314e63d484d8e96eaf2b7983ea517",
            "369daf59db5244c2981709b52fddde62",
            "8d9df34bc5f545fcb8428f556c41cb3d",
            "7d11e4b5d57c4331b017a05d1c39c7a1",
            "3661ce6ea7ea4ddf86bf34a4a37b49da",
            "a92937d28a8b448a8a77797ece6d5054",
            "7c578ac79a8444fe858054bd6e68f83c",
            "3fc890e0f4cb4a1bb6ddea676610f5ca",
            "23e26fc2dea24e2fbd80fc970a1d6269",
            "d0c48ebe997e484d8d6164179e4b3d75",
            "9127ca7da5d449ceb82567c44b6ef52c",
            "347014b5918b4c1db760621db069f9ee",
            "9d30b5b0b6b941c7a945e268b3ec4827",
            "9dcb5eeb71d742a5945892e710fcd8d0",
            "d687b7d7ea3d4617880c116ef16f7f63",
            "8baf7cee495e44448988951f994547ac",
            "a3793180aa8048818c195021aa8cc6ad",
            "007f719622e043b4b5a9e011ceb7cafe",
            "650538b909064214bc8bff8cfd6046d9",
            "66a3aec5cd024479acd26baeef676153",
            "f840d16ed7194bcfb1f5ec0f7228a604",
            "e17875ae442d474c990c5738ad000f4b",
            "6ee8d363d95248d5a7540462f67cdc40",
            "518872fd557f42aaa268e0e2a55b29bf",
            "4ad3d95430ce402e82651b256846ebec",
            "ed29b0b3878245a0a35ef8ef4ac56449",
            "f72ad443a1a541f786c61c6451442370",
            "ae8f02ad0e2a48189c820348d78c2624",
            "cd8964525a1b452f9fb9ead0e42b8abb",
            "7a5e8e69a4614722b689e09dab8f96fb",
            "d0c45e3136194902bc40d80e85c02b41",
            "f2ce01d3b6174ab3996644d80fd02abe",
            "b19b320ddca54fe19d27c1223222d101",
            "de99fb46242e404e91c51a46fe6c4a89",
            "7f446bfe0cba4f0089e332ffa9cc2b9b",
            "071864c4dfb245c58a808d8d1b21c42a",
            "b155406fe0634d89ba9846781b0cb9b1",
            "01de26b1c3394df7ba0180b06d02c8a7",
            "19741d43b9764cbbab11d59814da4dc6",
            "1c6fdfc3c8db488bb424ec5c83c435c8",
            "c82e0eca481c4c86840f5a1fdb0e991d",
            "294e37716294416b98e896f268716016",
            "2c2b634e79db45b48b4a3603221f7a49",
            "51765133e9a04e6eb55e03d0fdcc60a5",
            "a3a6251a4ea8481c9c29adee52b9bd78",
            "b5ccf598493d41889e622b60707ce2ba",
            "b44ee9659ae5403c87d4741b61d6816d",
            "834204bdfc2e46c99c9f32a1dac2d8c7",
            "0efcd30e8d114445bc0d38d2029cc40d",
            "a88bdc2a69a749f1b435cf65d45bbb54",
            "b3a68ad9d8254819b60f254b9da259de",
            "00fad9cb85374a4c94c5a51480943a2f",
            "2f2bfcdcc58a466c8f5374e58655cddc",
            "6863afb2abcc437097c0dfad49b49d65",
            "d9010829792d42dfab220fb7addd8345",
            "9cfa63c9e5f94992be1b3b01b66ede54",
            "a00176da0da542af833a6a2a7dee6fd2",
            "189bae7f8e994cb48d461761edf475c8",
            "ba895a965f724d619ac2d00f8fdd1aa6",
            "3beb8bfb9ff747c88fb2b7fff864c4f7",
            "239890fdacb5410f86875ae14ecd23e9",
            "d6fd9caf76fb449cb091bcf3d60271a9",
            "57a1bb8820184477ad3f8bddc170667d",
            "8dcaea318cfd4dbaba5568a1d5acec5d",
            "4882a9f08010496abd169e17f878a37d",
            "666842d721ba4ad0b8339abf22db56ca",
            "be660b30d6e541a79128a5d59de569c5",
            "b011d489eb314a6b9b9057df391562c5",
            "785efebc496f4a50b5f1fbe12cc2fef9",
            "389dbc9520f14a5c9b801f1a02c9600a",
            "7934f24afcdb412696aa367f5a31b160",
            "45061c9568d946a786fe01188afde9e7",
            "d0cf408508834e6d9c7cfc09306bd25f",
            "40e1bb978ee049c99a1a6c111bdcb99b",
            "2c951f9028314e4ca32e584e0127affa",
            "41b14397da2e4ed2aa233bb47db34206",
            "d3281b2121d446f59767accc4d70326e",
            "dc93d87e3898446da2648ca3aec73c6b",
            "37984bf2860d4bfca9581d3ec6cd29f6",
            "74818d13c01e42068f0311e043a6294a",
            "460754293a0b4dc48b266ac201b3f3c2",
            "952f3d5b3ca643c583d95f5698ada3c5",
            "939d68e2fa374ce285b132112a5e22d2",
            "6507a2dd7c2a438a9d5652aca47f0daa",
            "a1bee3a3d47c4fed9710fc60225e9f3c",
            "1065a6f350bd4930b23e445e38645d8f",
            "dc1547a1bd4142babb48087de31442fc",
            "34e91282961a4042aeac2614d41a26bb",
            "00f6ae0c2f2a4b468f0df4532875c547",
            "9af4289a929c40b898ec3b865a773956",
            "b1609773dd43453a985b24d0dcbeaf62",
            "63b940f86bc2483e94a0fff9d9a6e0f3",
            "cc2eeb3089c9452b8b22b5509d8f1ca6",
            "401eb1384dff4218a9f546db4c3d1185",
            "d9f7a06e5eaf4c88adadd893fad4596f",
            "90ebfee77b5f486ea198a1520b20e39d",
            "354ad51f2fa546b4a6401763c50c40fe",
            "a3e4ad3bdd0f4492b17de2782e62f513",
            "328798e69a2e43e3b8c4a84fecfe495c",
            "e4cc88fa89d44f21a390ac69802e3c62",
            "127af8eeb30d4e8c976d3deaedd71563",
            "e74a28e4a3704bf5907494df4ee482b1",
            "a2c29c6317a84fd7a263fc8ce1cccaa6",
            "15bae72198e44c2d9750f1c821b96f28",
            "30ac24edbf7749f895e83a4c79e75424",
            "9dc591133d4a4a17a15962aba0d03892",
            "a124ca9008ec4d7083b3ed73b5862c51",
            "35a8a6032a444db1a82292e11d0e7d53",
            "5ba4c77a43a24c2a944b8545840b69ff",
            "3eada4d147c948f1b29abe961ffb1259",
            "0ffbf45af25e40ffb94642f94416ffae"
          ]
        },
        "id": "0mOP4Bu0CAp3",
        "outputId": "c73ed287-5d71-4396-df4d-10c4907c52f0"
      },
      "execution_count": null,
      "outputs": [
        {
          "output_type": "display_data",
          "data": {
            "text/plain": [
              "modules.json:   0%|          | 0.00/229 [00:00<?, ?B/s]"
            ],
            "application/vnd.jupyter.widget-view+json": {
              "version_major": 2,
              "version_minor": 0,
              "model_id": "f122ab70f6e0455cb2815b3b2a02c4f1"
            }
          },
          "metadata": {}
        },
        {
          "output_type": "display_data",
          "data": {
            "text/plain": [
              "config_sentence_transformers.json:   0%|          | 0.00/122 [00:00<?, ?B/s]"
            ],
            "application/vnd.jupyter.widget-view+json": {
              "version_major": 2,
              "version_minor": 0,
              "model_id": "369daf59db5244c2981709b52fddde62"
            }
          },
          "metadata": {}
        },
        {
          "output_type": "display_data",
          "data": {
            "text/plain": [
              "README.md:   0%|          | 0.00/3.73k [00:00<?, ?B/s]"
            ],
            "application/vnd.jupyter.widget-view+json": {
              "version_major": 2,
              "version_minor": 0,
              "model_id": "9d30b5b0b6b941c7a945e268b3ec4827"
            }
          },
          "metadata": {}
        },
        {
          "output_type": "display_data",
          "data": {
            "text/plain": [
              "sentence_bert_config.json:   0%|          | 0.00/53.0 [00:00<?, ?B/s]"
            ],
            "application/vnd.jupyter.widget-view+json": {
              "version_major": 2,
              "version_minor": 0,
              "model_id": "518872fd557f42aaa268e0e2a55b29bf"
            }
          },
          "metadata": {}
        },
        {
          "output_type": "display_data",
          "data": {
            "text/plain": [
              "config.json:   0%|          | 0.00/629 [00:00<?, ?B/s]"
            ],
            "application/vnd.jupyter.widget-view+json": {
              "version_major": 2,
              "version_minor": 0,
              "model_id": "7f446bfe0cba4f0089e332ffa9cc2b9b"
            }
          },
          "metadata": {}
        },
        {
          "output_type": "display_data",
          "data": {
            "text/plain": [
              "pytorch_model.bin:   0%|          | 0.00/90.9M [00:00<?, ?B/s]"
            ],
            "application/vnd.jupyter.widget-view+json": {
              "version_major": 2,
              "version_minor": 0,
              "model_id": "b5ccf598493d41889e622b60707ce2ba"
            }
          },
          "metadata": {}
        },
        {
          "output_type": "display_data",
          "data": {
            "text/plain": [
              "tokenizer_config.json:   0%|          | 0.00/314 [00:00<?, ?B/s]"
            ],
            "application/vnd.jupyter.widget-view+json": {
              "version_major": 2,
              "version_minor": 0,
              "model_id": "a00176da0da542af833a6a2a7dee6fd2"
            }
          },
          "metadata": {}
        },
        {
          "output_type": "display_data",
          "data": {
            "text/plain": [
              "vocab.txt:   0%|          | 0.00/232k [00:00<?, ?B/s]"
            ],
            "application/vnd.jupyter.widget-view+json": {
              "version_major": 2,
              "version_minor": 0,
              "model_id": "b011d489eb314a6b9b9057df391562c5"
            }
          },
          "metadata": {}
        },
        {
          "output_type": "display_data",
          "data": {
            "text/plain": [
              "tokenizer.json:   0%|          | 0.00/466k [00:00<?, ?B/s]"
            ],
            "application/vnd.jupyter.widget-view+json": {
              "version_major": 2,
              "version_minor": 0,
              "model_id": "37984bf2860d4bfca9581d3ec6cd29f6"
            }
          },
          "metadata": {}
        },
        {
          "output_type": "display_data",
          "data": {
            "text/plain": [
              "special_tokens_map.json:   0%|          | 0.00/112 [00:00<?, ?B/s]"
            ],
            "application/vnd.jupyter.widget-view+json": {
              "version_major": 2,
              "version_minor": 0,
              "model_id": "9af4289a929c40b898ec3b865a773956"
            }
          },
          "metadata": {}
        },
        {
          "output_type": "display_data",
          "data": {
            "text/plain": [
              "1_Pooling/config.json:   0%|          | 0.00/190 [00:00<?, ?B/s]"
            ],
            "application/vnd.jupyter.widget-view+json": {
              "version_major": 2,
              "version_minor": 0,
              "model_id": "127af8eeb30d4e8c976d3deaedd71563"
            }
          },
          "metadata": {}
        }
      ]
    },
    {
      "cell_type": "code",
      "source": [
        "# Define the sentences\n",
        "sentence1 = \"She saw a bat flying in the night sky\"\n",
        "sentence2 = \"He used a bat to hit the baseball during the game\""
      ],
      "metadata": {
        "id": "kIjyCXENJWzF"
      },
      "execution_count": null,
      "outputs": []
    },
    {
      "cell_type": "code",
      "source": [
        "# Compute sentence embeddings\n",
        "embeddings = model_SBERT.encode([sentence1, sentence2])"
      ],
      "metadata": {
        "id": "m4G09DZAJZ4Z"
      },
      "execution_count": null,
      "outputs": []
    },
    {
      "cell_type": "code",
      "source": [
        "# Encode the sentences to get embeddings\n",
        "embedding1 = model_SBERT.encode([sentence1])[0]\n",
        "embedding2 = model_SBERT.encode([sentence2])[0]"
      ],
      "metadata": {
        "id": "PBJ9G8iUJbHl"
      },
      "execution_count": null,
      "outputs": []
    },
    {
      "cell_type": "code",
      "source": [
        "# Print the embeddings\n",
        "print(\"Sentence 1:\", sentence1)\n",
        "print(\"Embedding shape:\", embedding1.shape)\n",
        "print(\"\")\n",
        "\n",
        "print(\"Sentence 2:\", sentence2)\n",
        "print(\"Embedding shape:\", embedding2.shape)"
      ],
      "metadata": {
        "id": "bVj9voUNDLNK",
        "colab": {
          "base_uri": "https://localhost:8080/"
        },
        "outputId": "8773b4c0-179d-4c18-ce9c-a6dfc00e3b14"
      },
      "execution_count": null,
      "outputs": [
        {
          "output_type": "stream",
          "name": "stdout",
          "text": [
            "Sentence 1: She saw a bat flying in the night sky\n",
            "Embedding shape: (384,)\n",
            "\n",
            "Sentence 2: He used a bat to hit the baseball during the game\n",
            "Embedding shape: (384,)\n"
          ]
        }
      ]
    },
    {
      "cell_type": "code",
      "source": [
        "# Function to compute attention scores and context vector\n",
        "def compute_attention(target_word, sentence):\n",
        "    attention_scores = {}\n",
        "    tokens = sentence.split()\n",
        "    for token in tokens:\n",
        "        score = np.dot(model_SBERT.encode([target_word, token])[0], model_SBERT.encode([token, target_word])[0])  # Cosine similarity\n",
        "        attention_scores[token] = score\n",
        "\n",
        "    # Softmax\n",
        "    exp_scores = {k: np.exp(v) for k, v in attention_scores.items()}\n",
        "    total_exp_score = sum(exp_scores.values())\n",
        "    softmax_scores = {k: v / total_exp_score for k, v in exp_scores.items()}\n",
        "\n",
        "    # Compute context vector\n",
        "    context_vector = np.zeros_like(embeddings[0])\n",
        "    for token, score in softmax_scores.items():\n",
        "        context_vector += model_SBERT.encode([token])[0] * score\n",
        "    return context_vector"
      ],
      "metadata": {
        "id": "KsuYB0H5JcRS"
      },
      "execution_count": null,
      "outputs": []
    },
    {
      "cell_type": "code",
      "source": [
        "# Extract words from both sentences\n",
        "words = sentence1.split() + sentence2.split()\n",
        "\n",
        "# Remove duplicate words\n",
        "words = list(set(words))\n",
        "\n",
        "# Extract word vectors\n",
        "word_vectors = [model_SBERT.encode([word])[0] for word in words]\n",
        "\n",
        "# Extract the coordinates for 2D plotting (using the first two dimensions)\n",
        "x_2d = [vector[0] for vector in word_vectors]\n",
        "y_2d = [vector[1] for vector in word_vectors]"
      ],
      "metadata": {
        "id": "i0700EstJdnP"
      },
      "execution_count": null,
      "outputs": []
    },
    {
      "cell_type": "code",
      "source": [
        "# Create a 2D plot\n",
        "fig, ax = plt.subplots(figsize=(8, 6))\n",
        "\n",
        "# Scatter the points\n",
        "ax.scatter(x_2d, y_2d)\n",
        "\n",
        "# Annotate the points with words\n",
        "for i, word in enumerate(words):\n",
        "    ax.text(x_2d[i], y_2d[i], word)\n",
        "\n",
        "# Set labels\n",
        "ax.set_xlabel('Dimension 1')\n",
        "ax.set_ylabel('Dimension 2')\n",
        "ax.set_title('2D plot of word embeddings')\n",
        "\n",
        "# Set equal scaling\n",
        "ax.axis('equal')\n",
        "\n",
        "# Show the plot\n",
        "plt.show()"
      ],
      "metadata": {
        "colab": {
          "base_uri": "https://localhost:8080/",
          "height": 958
        },
        "id": "gzn309dOJeqa",
        "outputId": "0552a604-0c03-401e-c63a-92f281fa1338"
      },
      "execution_count": null,
      "outputs": [
        {
          "output_type": "execute_result",
          "data": {
            "text/plain": [
              "<matplotlib.collections.PathCollection at 0x7e4cfbc58b20>"
            ]
          },
          "metadata": {},
          "execution_count": 37
        },
        {
          "output_type": "execute_result",
          "data": {
            "text/plain": [
              "Text(0.31473613, 0.55097604, 'in')"
            ]
          },
          "metadata": {},
          "execution_count": 37
        },
        {
          "output_type": "execute_result",
          "data": {
            "text/plain": [
              "Text(-0.5131655, 0.13823682, 'saw')"
            ]
          },
          "metadata": {},
          "execution_count": 37
        },
        {
          "output_type": "execute_result",
          "data": {
            "text/plain": [
              "Text(-0.050079823, 0.8925123, 'the')"
            ]
          },
          "metadata": {},
          "execution_count": 37
        },
        {
          "output_type": "execute_result",
          "data": {
            "text/plain": [
              "Text(0.28579637, 0.33935127, 'night')"
            ]
          },
          "metadata": {},
          "execution_count": 37
        },
        {
          "output_type": "execute_result",
          "data": {
            "text/plain": [
              "Text(0.20572944, 0.5492683, 'to')"
            ]
          },
          "metadata": {},
          "execution_count": 37
        },
        {
          "output_type": "execute_result",
          "data": {
            "text/plain": [
              "Text(0.17319012, 0.9741911, 'He')"
            ]
          },
          "metadata": {},
          "execution_count": 37
        },
        {
          "output_type": "execute_result",
          "data": {
            "text/plain": [
              "Text(-0.025955789, -0.036314685, 'hit')"
            ]
          },
          "metadata": {},
          "execution_count": 37
        },
        {
          "output_type": "execute_result",
          "data": {
            "text/plain": [
              "Text(0.37731242, 0.6093887, 'bat')"
            ]
          },
          "metadata": {},
          "execution_count": 37
        },
        {
          "output_type": "execute_result",
          "data": {
            "text/plain": [
              "Text(0.15111095, 0.65986514, 'game')"
            ]
          },
          "metadata": {},
          "execution_count": 37
        },
        {
          "output_type": "execute_result",
          "data": {
            "text/plain": [
              "Text(0.41344106, 0.38177574, 'flying')"
            ]
          },
          "metadata": {},
          "execution_count": 37
        },
        {
          "output_type": "execute_result",
          "data": {
            "text/plain": [
              "Text(-0.31575128, 0.7867629, 'a')"
            ]
          },
          "metadata": {},
          "execution_count": 37
        },
        {
          "output_type": "execute_result",
          "data": {
            "text/plain": [
              "Text(-0.5495343, 0.4779966, 'used')"
            ]
          },
          "metadata": {},
          "execution_count": 37
        },
        {
          "output_type": "execute_result",
          "data": {
            "text/plain": [
              "Text(0.47231904, 0.27436706, 'She')"
            ]
          },
          "metadata": {},
          "execution_count": 37
        },
        {
          "output_type": "execute_result",
          "data": {
            "text/plain": [
              "Text(0.37012658, 0.98034525, 'baseball')"
            ]
          },
          "metadata": {},
          "execution_count": 37
        },
        {
          "output_type": "execute_result",
          "data": {
            "text/plain": [
              "Text(0.18293245, 0.4996035, 'sky')"
            ]
          },
          "metadata": {},
          "execution_count": 37
        },
        {
          "output_type": "execute_result",
          "data": {
            "text/plain": [
              "Text(0.06962752, 0.47804227, 'during')"
            ]
          },
          "metadata": {},
          "execution_count": 37
        },
        {
          "output_type": "execute_result",
          "data": {
            "text/plain": [
              "Text(0.5, 0, 'Dimension 1')"
            ]
          },
          "metadata": {},
          "execution_count": 37
        },
        {
          "output_type": "execute_result",
          "data": {
            "text/plain": [
              "Text(0, 0.5, 'Dimension 2')"
            ]
          },
          "metadata": {},
          "execution_count": 37
        },
        {
          "output_type": "execute_result",
          "data": {
            "text/plain": [
              "Text(0.5, 1.0, '2D plot of word embeddings')"
            ]
          },
          "metadata": {},
          "execution_count": 37
        },
        {
          "output_type": "execute_result",
          "data": {
            "text/plain": [
              "(-0.6006269887089729,\n",
              " 0.5234117045998573,\n",
              " -0.08714768160134553,\n",
              " 1.0311782458797096)"
            ]
          },
          "metadata": {},
          "execution_count": 37
        },
        {
          "output_type": "display_data",
          "data": {
            "text/plain": [
              "<Figure size 800x600 with 1 Axes>"
            ],
            "image/png": "[encoded data removed]"
          },
          "metadata": {}
        }
      ]
    },
    {
      "cell_type": "code",
      "source": [
        "# Tokenize the sentences\n",
        "tokens1 = sentence1.split()\n",
        "tokens2 = sentence2.split()\n",
        "\n",
        "# Encode the tokens to get embeddings\n",
        "embeddings1 = model_SBERT.encode(tokens1)\n",
        "embeddings2 = model_SBERT.encode(tokens2)"
      ],
      "metadata": {
        "id": "4GbGmkNBJfyj"
      },
      "execution_count": null,
      "outputs": []
    },
    {
      "cell_type": "code",
      "source": [
        "# Assuming you already have the attention output for both sentences\n",
        "# Let's create a dummy attention output for illustration\n",
        "attention_output_1 = np.random.rand(len(tokens1), 2)\n",
        "attention_output_2 = np.random.rand(len(tokens2), 2)"
      ],
      "metadata": {
        "id": "EUDdDMt4JhUN"
      },
      "execution_count": null,
      "outputs": []
    },
    {
      "cell_type": "code",
      "source": [
        "# Set up the plot with two subplots side by side\n",
        "fig, axes = plt.subplots(1, 2, figsize=(15, 5))\n",
        "\n",
        "# Plot original embeddings for sentence 1 on the left subplot\n",
        "for i, word in enumerate(tokens2):\n",
        "    axes[0].scatter(embeddings2[i, 0], embeddings2[i, 1], label=f\"{word}\")\n",
        "\n",
        "axes[0].set_title('Original Word Embeddings for Sentence 2')  # Title for the left subplot\n",
        "axes[0].set_xlabel('Dimension 1')  # Label for the x-axis\n",
        "axes[0].set_ylabel('Dimension 2')  # Label for the y-axis\n",
        "axes[0].grid(True)  # Enable grid for the left subplot\n",
        "axes[0].legend()     # Display legend for the left subplot\n",
        "\n",
        "# Plot output vectors for sentence 1 on the right subplot\n",
        "for i, word in enumerate(tokens2):\n",
        "    axes[1].scatter(attention_output_2[i, 0], attention_output_2[i, 1], label=f\"{word}\")\n",
        "\n",
        "axes[1].set_title('Self-Attention Output Vectors for Sentence 2')  # Title for the right subplot\n",
        "axes[1].set_xlabel('Dimension 1')  # Label for the x-axis\n",
        "axes[1].set_ylabel('Dimension 2')  # Label for the y-axis\n",
        "axes[1].grid(True)  # Enable grid for the right subplot\n",
        "axes[1].legend()     # Display legend for the right subplot\n",
        "\n",
        "plt.show()  # Display the plot\n"
      ],
      "metadata": {
        "colab": {
          "base_uri": "https://localhost:8080/",
          "height": 944
        },
        "id": "TFdFfHLR3lo4",
        "outputId": "e15e6d0d-5273-4609-eeb4-0549275629f5"
      },
      "execution_count": null,
      "outputs": [
        {
          "output_type": "execute_result",
          "data": {
            "text/plain": [
              "<matplotlib.collections.PathCollection at 0x7e4cfb9f46d0>"
            ]
          },
          "metadata": {},
          "execution_count": 40
        },
        {
          "output_type": "execute_result",
          "data": {
            "text/plain": [
              "<matplotlib.collections.PathCollection at 0x7e4cfbcf6170>"
            ]
          },
          "metadata": {},
          "execution_count": 40
        },
        {
          "output_type": "execute_result",
          "data": {
            "text/plain": [
              "<matplotlib.collections.PathCollection at 0x7e4cfb9c83d0>"
            ]
          },
          "metadata": {},
          "execution_count": 40
        },
        {
          "output_type": "execute_result",
          "data": {
            "text/plain": [
              "<matplotlib.collections.PathCollection at 0x7e4cfbefb550>"
            ]
          },
          "metadata": {},
          "execution_count": 40
        },
        {
          "output_type": "execute_result",
          "data": {
            "text/plain": [
              "<matplotlib.collections.PathCollection at 0x7e4cfb9f53f0>"
            ]
          },
          "metadata": {},
          "execution_count": 40
        },
        {
          "output_type": "execute_result",
          "data": {
            "text/plain": [
              "<matplotlib.collections.PathCollection at 0x7e4cfb9f58d0>"
            ]
          },
          "metadata": {},
          "execution_count": 40
        },
        {
          "output_type": "execute_result",
          "data": {
            "text/plain": [
              "<matplotlib.collections.PathCollection at 0x7e4cfb9c9330>"
            ]
          },
          "metadata": {},
          "execution_count": 40
        },
        {
          "output_type": "execute_result",
          "data": {
            "text/plain": [
              "<matplotlib.collections.PathCollection at 0x7e4cfb9f5e10>"
            ]
          },
          "metadata": {},
          "execution_count": 40
        },
        {
          "output_type": "execute_result",
          "data": {
            "text/plain": [
              "<matplotlib.collections.PathCollection at 0x7e4cfb9f6260>"
            ]
          },
          "metadata": {},
          "execution_count": 40
        },
        {
          "output_type": "execute_result",
          "data": {
            "text/plain": [
              "<matplotlib.collections.PathCollection at 0x7e4cfb9f66e0>"
            ]
          },
          "metadata": {},
          "execution_count": 40
        },
        {
          "output_type": "execute_result",
          "data": {
            "text/plain": [
              "<matplotlib.collections.PathCollection at 0x7e4cfb9f6b90>"
            ]
          },
          "metadata": {},
          "execution_count": 40
        },
        {
          "output_type": "execute_result",
          "data": {
            "text/plain": [
              "Text(0.5, 1.0, 'Original Word Embeddings for Sentence 2')"
            ]
          },
          "metadata": {},
          "execution_count": 40
        },
        {
          "output_type": "execute_result",
          "data": {
            "text/plain": [
              "Text(0.5, 0, 'Dimension 1')"
            ]
          },
          "metadata": {},
          "execution_count": 40
        },
        {
          "output_type": "execute_result",
          "data": {
            "text/plain": [
              "Text(0, 0.5, 'Dimension 2')"
            ]
          },
          "metadata": {},
          "execution_count": 40
        },
        {
          "output_type": "execute_result",
          "data": {
            "text/plain": [
              "<matplotlib.legend.Legend at 0x7e4cfbcf6290>"
            ]
          },
          "metadata": {},
          "execution_count": 40
        },
        {
          "output_type": "execute_result",
          "data": {
            "text/plain": [
              "<matplotlib.collections.PathCollection at 0x7e4cfba363e0>"
            ]
          },
          "metadata": {},
          "execution_count": 40
        },
        {
          "output_type": "execute_result",
          "data": {
            "text/plain": [
              "<matplotlib.collections.PathCollection at 0x7e4cfba360b0>"
            ]
          },
          "metadata": {},
          "execution_count": 40
        },
        {
          "output_type": "execute_result",
          "data": {
            "text/plain": [
              "<matplotlib.collections.PathCollection at 0x7e4cfba36bc0>"
            ]
          },
          "metadata": {},
          "execution_count": 40
        },
        {
          "output_type": "execute_result",
          "data": {
            "text/plain": [
              "<matplotlib.collections.PathCollection at 0x7e4cfba37010>"
            ]
          },
          "metadata": {},
          "execution_count": 40
        },
        {
          "output_type": "execute_result",
          "data": {
            "text/plain": [
              "<matplotlib.collections.PathCollection at 0x7e4cfba36350>"
            ]
          },
          "metadata": {},
          "execution_count": 40
        },
        {
          "output_type": "execute_result",
          "data": {
            "text/plain": [
              "<matplotlib.collections.PathCollection at 0x7e4cfba37760>"
            ]
          },
          "metadata": {},
          "execution_count": 40
        },
        {
          "output_type": "execute_result",
          "data": {
            "text/plain": [
              "<matplotlib.collections.PathCollection at 0x7e4cfba37b80>"
            ]
          },
          "metadata": {},
          "execution_count": 40
        },
        {
          "output_type": "execute_result",
          "data": {
            "text/plain": [
              "<matplotlib.collections.PathCollection at 0x7e4cfba37f40>"
            ]
          },
          "metadata": {},
          "execution_count": 40
        },
        {
          "output_type": "execute_result",
          "data": {
            "text/plain": [
              "<matplotlib.collections.PathCollection at 0x7e4cfba643a0>"
            ]
          },
          "metadata": {},
          "execution_count": 40
        },
        {
          "output_type": "execute_result",
          "data": {
            "text/plain": [
              "<matplotlib.collections.PathCollection at 0x7e4cfba37790>"
            ]
          },
          "metadata": {},
          "execution_count": 40
        },
        {
          "output_type": "execute_result",
          "data": {
            "text/plain": [
              "<matplotlib.collections.PathCollection at 0x7e4cfba64a00>"
            ]
          },
          "metadata": {},
          "execution_count": 40
        },
        {
          "output_type": "execute_result",
          "data": {
            "text/plain": [
              "Text(0.5, 1.0, 'Self-Attention Output Vectors for Sentence 2')"
            ]
          },
          "metadata": {},
          "execution_count": 40
        },
        {
          "output_type": "execute_result",
          "data": {
            "text/plain": [
              "Text(0.5, 0, 'Dimension 1')"
            ]
          },
          "metadata": {},
          "execution_count": 40
        },
        {
          "output_type": "execute_result",
          "data": {
            "text/plain": [
              "Text(0, 0.5, 'Dimension 2')"
            ]
          },
          "metadata": {},
          "execution_count": 40
        },
        {
          "output_type": "execute_result",
          "data": {
            "text/plain": [
              "<matplotlib.legend.Legend at 0x7e4cfb9ca410>"
            ]
          },
          "metadata": {},
          "execution_count": 40
        },
        {
          "output_type": "display_data",
          "data": {
            "text/plain": [
              "<Figure size 1500x500 with 2 Axes>"
            ],
            "image/png": "[encoded data removed]"
          },
          "metadata": {}
        }
      ]
    },
    {
      "cell_type": "code",
      "source": [
        "tokenizer = BertTokenizer.from_pretrained('bert-base-uncased')\n",
        "model_3 = BertModel.from_pretrained('bert-base-uncased', output_attentions=True)"
      ],
      "metadata": {
        "id": "jTk_rTw5piK3",
        "colab": {
          "base_uri": "https://localhost:8080/",
          "height": 176,
          "referenced_widgets": [
            "8fb24f546c934cb8b2fd725e4669605e",
            "ece7ccb4302e471db32570b9aeb5c1f5",
            "e3925ffc848c40f7b068e48aa6026fe8",
            "939fb57a1a0c4b79ad5c226fc9d2040e",
            "2f1e319557074b278ba7352b6839195a",
            "4a6c7e852c6c46beb43bccb23d463b74",
            "0697b78d038a485888f46a79ed09d1c1",
            "489947a3dc014edeb59b75cfebc72eb9",
            "479818a056524212a26739c22e96a1fd",
            "49c4f695de3b4fbab81b93675ab027ab",
            "feddb66feef04cf2bee8cab1723a1bec",
            "6e6aba22adc643ffa7870530fbc16609",
            "f4eb360b72da4674a0f0866017392f6c",
            "b588aec35e824a579c3141b43116d8ff",
            "21eafbf771ef4b2e8245e7a4647aeb22",
            "d3b5e84c98994078bf655866d762e412",
            "95e8fd6f352f4b34b7e929de60b98e45",
            "648124c8940744a8beb686babedd7a8a",
            "78d3b8e51af24fac8e25b78d2908ad3a",
            "c0918a898dab4b3ead5f37f08f2a2395",
            "f8cfc9a261dc49faa1500600dc1c8a43",
            "6517afe536dd481cad3500254b99cc85",
            "378ffdf987064bef9da4d25fd909170e",
            "e62610492fed426fae2e9bfdc59630ea",
            "137bb7ddcd5f4331ae3e7e29304ab1c9",
            "4eac79320cc4450cbed88c24faae2b6a",
            "6583afe6724446639ce408a51e494e4e",
            "f16c2dc3049b46af95db729f924ee7c2",
            "94d1ccf4128a480db7c8ee7a952e3729",
            "750a14c05b484e6782a39ac99a04a41e",
            "e0b9328a1fe442878f38521e478af975",
            "6fd783f95fa74ed091656aac96934b8a",
            "c4ba57f8ee274dce8d03ec594b21db24",
            "aa34ac62f4b9493285999f6230710eea",
            "347d6b53c83e4de089b816b3c186451c",
            "a3b22fe40cda4397a9fbf17122c49469",
            "031a4179936a4ffe8d5f8979b9ecb7cc",
            "fb7936362f6e41d1baaf3ec7ec631bf6",
            "f31035f167074cdebb7c0fc1a164ec85",
            "1371cc6c77334854be11920220f3f07a",
            "f047d26ea4364ef8b4379a3d829d9cb9",
            "1b128948ea714c4ebf4c5935f45fab33",
            "73290999b4064ebcb9eba7e588c0f869",
            "442b125ed6224387ab9b745a895ad1c0",
            "c45c902d274443aabc3e681e0222b78b",
            "880aa0eb20cd4aa8aa33ab2187107f88",
            "bfe13eb479b1422588b4fdf76703d05e",
            "fc1505cdfce14465831268289dce86a0",
            "6552f71ed19b4b3da195af452882f495",
            "1e312ef02aca48f4a8016cad06da4518",
            "00cd128bdd424c0387eef5b1973656a1",
            "9552e7a75ac84157afd2657fd6e521f3",
            "4d39f8d37bfc402e99a013e20253bd65",
            "95422fca214b4ee7889874a0eef03da1",
            "2106f23aaaf44ec299de3bac8967ce2d"
          ]
        },
        "outputId": "aafabd4e-f07e-487e-bcb6-210b01ee2e5e"
      },
      "execution_count": null,
      "outputs": [
        {
          "output_type": "display_data",
          "data": {
            "text/plain": [
              "tokenizer_config.json:   0%|          | 0.00/48.0 [00:00<?, ?B/s]"
            ],
            "application/vnd.jupyter.widget-view+json": {
              "version_major": 2,
              "version_minor": 0,
              "model_id": "8fb24f546c934cb8b2fd725e4669605e"
            }
          },
          "metadata": {}
        },
        {
          "output_type": "display_data",
          "data": {
            "text/plain": [
              "vocab.txt:   0%|          | 0.00/232k [00:00<?, ?B/s]"
            ],
            "application/vnd.jupyter.widget-view+json": {
              "version_major": 2,
              "version_minor": 0,
              "model_id": "6e6aba22adc643ffa7870530fbc16609"
            }
          },
          "metadata": {}
        },
        {
          "output_type": "display_data",
          "data": {
            "text/plain": [
              "tokenizer.json:   0%|          | 0.00/466k [00:00<?, ?B/s]"
            ],
            "application/vnd.jupyter.widget-view+json": {
              "version_major": 2,
              "version_minor": 0,
              "model_id": "378ffdf987064bef9da4d25fd909170e"
            }
          },
          "metadata": {}
        },
        {
          "output_type": "display_data",
          "data": {
            "text/plain": [
              "config.json:   0%|          | 0.00/570 [00:00<?, ?B/s]"
            ],
            "application/vnd.jupyter.widget-view+json": {
              "version_major": 2,
              "version_minor": 0,
              "model_id": "aa34ac62f4b9493285999f6230710eea"
            }
          },
          "metadata": {}
        },
        {
          "output_type": "display_data",
          "data": {
            "text/plain": [
              "model.safetensors:   0%|          | 0.00/440M [00:00<?, ?B/s]"
            ],
            "application/vnd.jupyter.widget-view+json": {
              "version_major": 2,
              "version_minor": 0,
              "model_id": "c45c902d274443aabc3e681e0222b78b"
            }
          },
          "metadata": {}
        }
      ]
    },
    {
      "cell_type": "code",
      "source": [
        "# Encode text\n",
        "text1 = \"She saw a bat flying in the night sky\"\n",
        "text2 = \"He used a bat to hit the baseball during the game\"\n",
        "inputs1 = tokenizer(text1, return_tensors=\"pt\")\n",
        "inputs2 = tokenizer(text2, return_tensors=\"pt\")\n",
        "\n",
        "# Get model output\n",
        "with torch.no_grad():\n",
        "    outputs1 = model_3(**inputs1)\n",
        "\n",
        "# Get model output\n",
        "with torch.no_grad():\n",
        "    outputs2 = model_3(**inputs2)"
      ],
      "metadata": {
        "id": "lRCSBZ-EDerg"
      },
      "execution_count": null,
      "outputs": []
    },
    {
      "cell_type": "code",
      "source": [
        "# Extract attentions\n",
        "attentions1 = outputs1.attentions  # Tuple of 12 (one per layer) matrices of shape (batch_size, num_heads, sequence_length, sequence_length)\n",
        "attentions2 = outputs2.attentions  # Tuple of 12 (one per layer) matrices of shape (batch_size, num_heads, sequence_length, sequence_length)"
      ],
      "metadata": {
        "id": "tXhn4xApDg7Q"
      },
      "execution_count": null,
      "outputs": []
    },
    {
      "cell_type": "code",
      "source": [
        "# For simplicity, we'll use the attention weights from the first layer and the first head.\n",
        "attention1 = attentions1[0][0, 0, :, :].detach().numpy()\n",
        "attention2 = attentions2[0][0, 0, :, :].detach().numpy()"
      ],
      "metadata": {
        "id": "FgWoEqv8Dh2h"
      },
      "execution_count": null,
      "outputs": []
    },
    {
      "cell_type": "code",
      "source": [
        "# Tokenize the text to match tokens with attention weights\n",
        "tokens1 = tokenizer.tokenize(tokenizer.decode(inputs1['input_ids'][0]))\n",
        "tokens2 = tokenizer.tokenize(tokenizer.decode(inputs2['input_ids'][0]))"
      ],
      "metadata": {
        "id": "1U6qUTFZDjDd"
      },
      "execution_count": null,
      "outputs": []
    },
    {
      "cell_type": "code",
      "source": [
        "# Visualizing the attention weights\n",
        "fig, ax = plt.subplots(figsize=(10, 10))  # Create a subplot with a specified size\n",
        "cax = ax.matshow(attention1, cmap='bone')  # Plot the attention weights as a matrix\n",
        "\n",
        "# Add a colorbar to the plot\n",
        "fig.colorbar(cax)\n",
        "\n",
        "# Set up axes labels\n",
        "ax.set_xticklabels([''] + tokens2, rotation=90)  # Set x-axis labels with token names, rotated 90 degrees\n",
        "ax.set_yticklabels([''] + tokens2)              # Set y-axis labels with token names\n",
        "\n",
        "# Show labels at every tick\n",
        "ax.xaxis.set_major_locator(plt.MultipleLocator(1))  # Show labels at every tick on the x-axis\n",
        "ax.yaxis.set_major_locator(plt.MultipleLocator(1))  # Show labels at every tick on the y-axis\n",
        "\n",
        "# Display the plot\n",
        "plt.show()"
      ],
      "metadata": {
        "colab": {
          "base_uri": "https://localhost:8080/",
          "height": 1000
        },
        "id": "SE5Df5Hzp3d5",
        "outputId": "05c73f63-448f-4d10-86f9-378f405142ef"
      },
      "execution_count": null,
      "outputs": [
        {
          "output_type": "execute_result",
          "data": {
            "text/plain": [
              "<matplotlib.colorbar.Colorbar at 0x7e4cfac2ba90>"
            ]
          },
          "metadata": {},
          "execution_count": 46
        },
        {
          "output_type": "stream",
          "name": "stderr",
          "text": [
            "<ipython-input-46-d7ab3ce8089e>:9: UserWarning: FixedFormatter should only be used together with FixedLocator\n",
            "  ax.set_xticklabels([''] + tokens2, rotation=90)  # Set x-axis labels with token names, rotated 90 degrees\n"
          ]
        },
        {
          "output_type": "execute_result",
          "data": {
            "text/plain": [
              "[Text(-2.0, 1, ''),\n",
              " Text(0.0, 1, '[CLS]'),\n",
              " Text(2.0, 1, 'he'),\n",
              " Text(4.0, 1, 'used'),\n",
              " Text(6.0, 1, 'a'),\n",
              " Text(8.0, 1, 'bat'),\n",
              " Text(10.0, 1, 'to'),\n",
              " Text(12.0, 1, 'hit')]"
            ]
          },
          "metadata": {},
          "execution_count": 46
        },
        {
          "output_type": "stream",
          "name": "stderr",
          "text": [
            "<ipython-input-46-d7ab3ce8089e>:10: UserWarning: FixedFormatter should only be used together with FixedLocator\n",
            "  ax.set_yticklabels([''] + tokens2)              # Set y-axis labels with token names\n"
          ]
        },
        {
          "output_type": "execute_result",
          "data": {
            "text/plain": [
              "[Text(0, -2.0, ''),\n",
              " Text(0, 0.0, '[CLS]'),\n",
              " Text(0, 2.0, 'he'),\n",
              " Text(0, 4.0, 'used'),\n",
              " Text(0, 6.0, 'a'),\n",
              " Text(0, 8.0, 'bat'),\n",
              " Text(0, 10.0, 'to'),\n",
              " Text(0, 12.0, 'hit')]"
            ]
          },
          "metadata": {},
          "execution_count": 46
        },
        {
          "output_type": "display_data",
          "data": {
            "text/plain": [
              "<Figure size 1000x1000 with 2 Axes>"
            ],
            "image/png": "[encoded data removed]"
          },
          "metadata": {}
        }
      ]
    },
    {
      "cell_type": "code",
      "source": [
        "# Visualizing the attention weights\n",
        "fig, ax = plt.subplots(figsize=(10, 10))  # Create a subplot with a specified size\n",
        "cax = ax.matshow(attention2, cmap='bone')  # Plot the attention weights as a matrix\n",
        "\n",
        "# Add a colorbar to the plot\n",
        "fig.colorbar(cax)\n",
        "\n",
        "# Set up axes labels\n",
        "ax.set_xticklabels([''] + tokens2, rotation=90)  # Set x-axis labels with token names, rotated 90 degrees\n",
        "ax.set_yticklabels([''] + tokens2)              # Set y-axis labels with token names\n",
        "\n",
        "# Show labels at every tick\n",
        "ax.xaxis.set_major_locator(plt.MultipleLocator(1))  # Show labels at every tick on the x-axis\n",
        "ax.yaxis.set_major_locator(plt.MultipleLocator(1))  # Show labels at every tick on the y-axis\n",
        "\n",
        "# Display the plot\n",
        "plt.show()"
      ],
      "metadata": {
        "id": "3eLXOCaQqa2c",
        "colab": {
          "base_uri": "https://localhost:8080/",
          "height": 1000
        },
        "outputId": "dc7374a1-18bc-44d9-ef4b-3676e9c4324e"
      },
      "execution_count": null,
      "outputs": [
        {
          "output_type": "execute_result",
          "data": {
            "text/plain": [
              "<matplotlib.colorbar.Colorbar at 0x7e4cfa709cc0>"
            ]
          },
          "metadata": {},
          "execution_count": 47
        },
        {
          "output_type": "stream",
          "name": "stderr",
          "text": [
            "<ipython-input-47-3afd95cdd03e>:9: UserWarning: FixedFormatter should only be used together with FixedLocator\n",
            "  ax.set_xticklabels([''] + tokens2, rotation=90)  # Set x-axis labels with token names, rotated 90 degrees\n"
          ]
        },
        {
          "output_type": "execute_result",
          "data": {
            "text/plain": [
              "[Text(-2.0, 1, ''),\n",
              " Text(0.0, 1, '[CLS]'),\n",
              " Text(2.0, 1, 'he'),\n",
              " Text(4.0, 1, 'used'),\n",
              " Text(6.0, 1, 'a'),\n",
              " Text(8.0, 1, 'bat'),\n",
              " Text(10.0, 1, 'to'),\n",
              " Text(12.0, 1, 'hit'),\n",
              " Text(14.0, 1, 'the')]"
            ]
          },
          "metadata": {},
          "execution_count": 47
        },
        {
          "output_type": "stream",
          "name": "stderr",
          "text": [
            "<ipython-input-47-3afd95cdd03e>:10: UserWarning: FixedFormatter should only be used together with FixedLocator\n",
            "  ax.set_yticklabels([''] + tokens2)              # Set y-axis labels with token names\n"
          ]
        },
        {
          "output_type": "execute_result",
          "data": {
            "text/plain": [
              "[Text(0, -2.0, ''),\n",
              " Text(0, 0.0, '[CLS]'),\n",
              " Text(0, 2.0, 'he'),\n",
              " Text(0, 4.0, 'used'),\n",
              " Text(0, 6.0, 'a'),\n",
              " Text(0, 8.0, 'bat'),\n",
              " Text(0, 10.0, 'to'),\n",
              " Text(0, 12.0, 'hit'),\n",
              " Text(0, 14.0, 'the')]"
            ]
          },
          "metadata": {},
          "execution_count": 47
        },
        {
          "output_type": "display_data",
          "data": {
            "text/plain": [
              "<Figure size 1000x1000 with 2 Axes>"
            ],
            "image/png": "[encoded data removed]"
          },
          "metadata": {}
        }
      ]
    },
    {
      "cell_type": "markdown",
      "source": [
        "We see that the model finds a strong correlation between the words 'bat' and 'baseball' in sentence 2, where it struggles a bit more in sentence 1. Here the strongest corralations with the word 'bat' is in the words 'sky' and 'she'. So the model misunderstands the context a bit in sentence 1."
      ],
      "metadata": {
        "id": "qTFDYGvk4fBV"
      }
    }
  ]
}